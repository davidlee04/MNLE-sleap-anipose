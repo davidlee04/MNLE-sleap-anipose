{
 "cells": [
  {
   "cell_type": "code",
   "execution_count": 1,
   "id": "c3607a96",
   "metadata": {
    "scrolled": true
   },
   "outputs": [],
   "source": [
    "import pose_3d\n",
    "\n",
    "import numpy as np\n",
    "\n",
    "from scipy import signal"
   ]
  },
  {
   "cell_type": "code",
   "execution_count": 5,
   "id": "9c11493b",
   "metadata": {
    "scrolled": true
   },
   "outputs": [
    {
     "name": "stdout",
     "output_type": "stream",
     "text": [
      "D:/AN_local/AN664/041023\n",
      "SESSION DIRECTORY D:/AN_local/AN664/041023\\predictions_filtered_h5\n",
      "CAMERA NAMES ['Cam00', 'Cam01', 'Cam02']\n",
      "CALIBRATION FILE D:/AN_local/AN664/041023/../calibration/calibration.toml\n",
      "Processing ['Cam00_230410_142351.analysis_filtered.h5', 'Cam01_230410_142351.analysis_filtered.h5', 'Cam02_230410_142351.analysis_filtered.h5']\n"
     ]
    },
    {
     "name": "stderr",
     "output_type": "stream",
     "text": [
      "\r",
      "  0%|                                      | 0/210000 [00:00<?, ?it/s]"
     ]
    },
    {
     "name": "stdout",
     "output_type": "stream",
     "text": [
      "INFO:numba.core.transforms:finding looplift candidates\n"
     ]
    },
    {
     "name": "stderr",
     "output_type": "stream",
     "text": [
      "100%|████████████████████████| 210000/210000 [07:24<00:00, 472.09it/s]\n"
     ]
    },
    {
     "name": "stdout",
     "output_type": "stream",
     "text": [
      "Saving pose 3d to D:/AN_local/AN664/041023\\pose3d\\Cam00_230410_142351.analysis_filtered.mat\n"
     ]
    }
   ],
   "source": [
    "if __name__ == \"__main__\":\n",
    "    # prompt for session directory\n",
    "    # auto look for config.toml\n",
    "#     config = load_config(/config.toml') # need to create way to choose/specify where config is\n",
    "    pose_3d.process_config('D:/AN_local/AN664')\n",
    "    \n",
    "#     pose_3d.convert()\n",
    "#     pose_3d.calibrate()\n",
    "#     pose_3d.filter_poses()\n",
    "    pose_3d.triangulate_poses()"
   ]
  },
  {
   "cell_type": "code",
   "execution_count": null,
   "id": "ba64a811",
   "metadata": {},
   "outputs": [],
   "source": []
  }
 ],
 "metadata": {
  "kernelspec": {
   "display_name": "Python 3 (ipykernel)",
   "language": "python",
   "name": "python3"
  },
  "language_info": {
   "codemirror_mode": {
    "name": "ipython",
    "version": 3
   },
   "file_extension": ".py",
   "mimetype": "text/x-python",
   "name": "python",
   "nbconvert_exporter": "python",
   "pygments_lexer": "ipython3",
   "version": "3.7.12"
  }
 },
 "nbformat": 4,
 "nbformat_minor": 5
}
