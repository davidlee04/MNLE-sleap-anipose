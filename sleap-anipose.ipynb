{
 "cells": [
  {
   "cell_type": "markdown",
   "id": "03da65b7",
   "metadata": {},
   "source": [
    "# SLEAP-Anipose"
   ]
  },
  {
   "cell_type": "markdown",
   "id": "ecb98552",
   "metadata": {},
   "source": [
    "## Imports"
   ]
  },
  {
   "cell_type": "code",
   "execution_count": 1,
   "id": "c3607a96",
   "metadata": {
    "scrolled": true
   },
   "outputs": [],
   "source": [
    "import pose_3d"
   ]
  },
  {
   "cell_type": "markdown",
   "id": "9d9d242c",
   "metadata": {},
   "source": [
    "## Specify Project Directory"
   ]
  },
  {
   "cell_type": "code",
   "execution_count": 3,
   "id": "9c11493b",
   "metadata": {
    "scrolled": true
   },
   "outputs": [
    {
     "name": "stdout",
     "output_type": "stream",
     "text": [
      "041023\n"
     ]
    }
   ],
   "source": [
    "pose_3d.process_config('D:/AN_local/AN664')"
   ]
  },
  {
   "cell_type": "markdown",
   "id": "edca7080",
   "metadata": {},
   "source": [
    "## Conversion"
   ]
  },
  {
   "cell_type": "code",
   "execution_count": 4,
   "id": "0d5548c0",
   "metadata": {},
   "outputs": [
    {
     "name": "stdout",
     "output_type": "stream",
     "text": [
      "Converting D:/AN_local/AN664\\041023\\predictions\n",
      "Outputting to D:/AN_local/AN664\\041023\\predictions_h5\n",
      "SLEAP FILES: ['D:/AN_local/AN664\\\\041023\\\\predictions\\\\Cam00_230410_142351.avi.230620_165354.predictions.slp', 'D:/AN_local/AN664\\\\041023\\\\predictions\\\\Cam01_230410_142351.avi.230621_121320.predictions.slp', 'D:/AN_local/AN664\\\\041023\\\\predictions\\\\Cam02_230410_142351.avi.230622_095444.predictions.slp']\n",
      "Saving to D:/AN_local/AN664\\041023\\predictions_h5\\Cam00_230410_142351.analysis.h5\n",
      "Saving to D:/AN_local/AN664\\041023\\predictions_h5\\Cam01_230410_142351.analysis.h5\n",
      "Saving to D:/AN_local/AN664\\041023\\predictions_h5\\Cam02_230410_142351.analysis.h5\n"
     ]
    }
   ],
   "source": [
    "pose_3d.convert()"
   ]
  },
  {
   "cell_type": "markdown",
   "id": "30ad1e09",
   "metadata": {},
   "source": [
    "## Calibration"
   ]
  },
  {
   "cell_type": "code",
   "execution_count": 5,
   "id": "9bede95a",
   "metadata": {},
   "outputs": [
    {
     "name": "stdout",
     "output_type": "stream",
     "text": [
      "calibration.toml already exists, do you want to replace it? Y/Ny\n",
      "VIDEO FILES: ['D:/AN_local/AN664\\\\041023/../calibration\\\\CamA_Basler_acA720-520um__40048838__20230214_161645469.mp4', 'D:/AN_local/AN664\\\\041023/../calibration\\\\CamB_Basler_acA720-520um__40080140__20230214_161642576.mp4', 'D:/AN_local/AN664\\\\041023/../calibration\\\\CamC_Basler_acA720-520um__40048837__20230214_161640084.mp4']\n",
      "NAME CamA\n",
      "NAME CamB\n",
      "NAME CamC\n",
      "CAM_VIDEOS defaultdict(<class 'list'>, {'CamA': ['D:/AN_local/AN664\\\\041023/../calibration\\\\CamA_Basler_acA720-520um__40048838__20230214_161645469.mp4'], 'CamB': ['D:/AN_local/AN664\\\\041023/../calibration\\\\CamB_Basler_acA720-520um__40080140__20230214_161642576.mp4'], 'CamC': ['D:/AN_local/AN664\\\\041023/../calibration\\\\CamC_Basler_acA720-520um__40048837__20230214_161640084.mp4']})\n",
      "CAM_NAMES ['CamA', 'CamB', 'CamC']\n",
      "BOARD_VIDEOS [['D:/AN_local/AN664\\\\041023/../calibration\\\\CamA_Basler_acA720-520um__40048838__20230214_161645469.mp4'], ['D:/AN_local/AN664\\\\041023/../calibration\\\\CamB_Basler_acA720-520um__40080140__20230214_161642576.mp4'], ['D:/AN_local/AN664\\\\041023/../calibration\\\\CamC_Basler_acA720-520um__40048837__20230214_161640084.mp4']]\n",
      "D:/AN_local/AN664\\041023/../calibration\\CamA_Basler_acA720-520um__40048838__20230214_161645469.mp4\n"
     ]
    },
    {
     "name": "stderr",
     "output_type": "stream",
     "text": [
      "  9%|██▍                        | 4376/48997 [00:06<01:10, 636.93it/s]\n"
     ]
    },
    {
     "ename": "KeyboardInterrupt",
     "evalue": "",
     "output_type": "error",
     "traceback": [
      "\u001b[1;31m---------------------------------------------------------------------------\u001b[0m",
      "\u001b[1;31mKeyboardInterrupt\u001b[0m                         Traceback (most recent call last)",
      "\u001b[1;32m~\\AppData\\Local\\Temp\\ipykernel_96344\\1974683664.py\u001b[0m in \u001b[0;36m<module>\u001b[1;34m\u001b[0m\n\u001b[1;32m----> 1\u001b[1;33m \u001b[0mpose_3d\u001b[0m\u001b[1;33m.\u001b[0m\u001b[0mcalibrate\u001b[0m\u001b[1;33m(\u001b[0m\u001b[1;33m)\u001b[0m\u001b[1;33m\u001b[0m\u001b[1;33m\u001b[0m\u001b[0m\n\u001b[0m",
      "\u001b[1;32m~\\projects\\sleap-convert\\addons\\pose_3d.py\u001b[0m in \u001b[0;36mcalibrate\u001b[1;34m()\u001b[0m\n\u001b[0;32m    176\u001b[0m \u001b[1;33m\u001b[0m\u001b[0m\n\u001b[0;32m    177\u001b[0m         \u001b[1;31m# calibration.toml creation\u001b[0m\u001b[1;33m\u001b[0m\u001b[1;33m\u001b[0m\u001b[1;33m\u001b[0m\u001b[0m\n\u001b[1;32m--> 178\u001b[1;33m         \u001b[0mgenerate_calibration\u001b[0m\u001b[1;33m(\u001b[0m\u001b[0mconfig\u001b[0m\u001b[1;33m)\u001b[0m\u001b[1;33m\u001b[0m\u001b[1;33m\u001b[0m\u001b[0m\n\u001b[0m\u001b[0;32m    179\u001b[0m \u001b[1;33m\u001b[0m\u001b[0m\n\u001b[0;32m    180\u001b[0m         \u001b[1;31m# Sanity check\u001b[0m\u001b[1;33m\u001b[0m\u001b[1;33m\u001b[0m\u001b[1;33m\u001b[0m\u001b[0m\n",
      "\u001b[1;32m~\\projects\\sleap-convert\\addons\\calibration.py\u001b[0m in \u001b[0;36mgenerate_calibration\u001b[1;34m(config)\u001b[0m\n\u001b[0;32m    106\u001b[0m         \u001b[0mcgroup\u001b[0m \u001b[1;33m=\u001b[0m \u001b[0mCameraGroup\u001b[0m\u001b[1;33m.\u001b[0m\u001b[0mfrom_names\u001b[0m\u001b[1;33m(\u001b[0m\u001b[0mcam_names\u001b[0m\u001b[1;33m,\u001b[0m \u001b[0mconfig_calibration\u001b[0m\u001b[1;33m[\u001b[0m\u001b[1;34m'fisheye'\u001b[0m\u001b[1;33m]\u001b[0m\u001b[1;33m)\u001b[0m\u001b[1;33m\u001b[0m\u001b[1;33m\u001b[0m\u001b[0m\n\u001b[0;32m    107\u001b[0m \u001b[1;33m\u001b[0m\u001b[0m\n\u001b[1;32m--> 108\u001b[1;33m         \u001b[0merror\u001b[0m\u001b[1;33m,\u001b[0m \u001b[0m_\u001b[0m \u001b[1;33m=\u001b[0m \u001b[0mcgroup\u001b[0m\u001b[1;33m.\u001b[0m\u001b[0mcalibrate_videos\u001b[0m\u001b[1;33m(\u001b[0m\u001b[0mboard_videos\u001b[0m\u001b[1;33m,\u001b[0m \u001b[0mboard\u001b[0m\u001b[1;33m)\u001b[0m\u001b[1;33m\u001b[0m\u001b[1;33m\u001b[0m\u001b[0m\n\u001b[0m\u001b[0;32m    109\u001b[0m         \u001b[0mcgroup\u001b[0m\u001b[1;33m.\u001b[0m\u001b[0mmetadata\u001b[0m\u001b[1;33m[\u001b[0m\u001b[1;34m'error'\u001b[0m\u001b[1;33m]\u001b[0m \u001b[1;33m=\u001b[0m \u001b[0merror\u001b[0m\u001b[1;33m.\u001b[0m\u001b[0mitem\u001b[0m\u001b[1;33m(\u001b[0m\u001b[1;33m)\u001b[0m\u001b[1;33m\u001b[0m\u001b[1;33m\u001b[0m\u001b[0m\n\u001b[0;32m    110\u001b[0m \u001b[1;33m\u001b[0m\u001b[0m\n",
      "\u001b[1;32m~\\AppData\\Roaming\\Python\\Python37\\site-packages\\aniposelib\\cameras.py\u001b[0m in \u001b[0;36mcalibrate_videos\u001b[1;34m(self, videos, board, init_intrinsics, init_extrinsics, verbose, **kwargs)\u001b[0m\n\u001b[0;32m   1599\u001b[0m         Also takes a board which specifies what should be detected in the videos\"\"\"\n\u001b[0;32m   1600\u001b[0m \u001b[1;33m\u001b[0m\u001b[0m\n\u001b[1;32m-> 1601\u001b[1;33m         \u001b[0mall_rows\u001b[0m \u001b[1;33m=\u001b[0m \u001b[0mself\u001b[0m\u001b[1;33m.\u001b[0m\u001b[0mget_rows_videos\u001b[0m\u001b[1;33m(\u001b[0m\u001b[0mvideos\u001b[0m\u001b[1;33m,\u001b[0m \u001b[0mboard\u001b[0m\u001b[1;33m,\u001b[0m \u001b[0mverbose\u001b[0m\u001b[1;33m=\u001b[0m\u001b[0mverbose\u001b[0m\u001b[1;33m)\u001b[0m\u001b[1;33m\u001b[0m\u001b[1;33m\u001b[0m\u001b[0m\n\u001b[0m\u001b[0;32m   1602\u001b[0m         \u001b[1;32mif\u001b[0m \u001b[0minit_extrinsics\u001b[0m\u001b[1;33m:\u001b[0m\u001b[1;33m\u001b[0m\u001b[1;33m\u001b[0m\u001b[0m\n\u001b[0;32m   1603\u001b[0m             \u001b[0mself\u001b[0m\u001b[1;33m.\u001b[0m\u001b[0mset_camera_sizes_videos\u001b[0m\u001b[1;33m(\u001b[0m\u001b[0mvideos\u001b[0m\u001b[1;33m)\u001b[0m\u001b[1;33m\u001b[0m\u001b[1;33m\u001b[0m\u001b[0m\n",
      "\u001b[1;32m~\\AppData\\Roaming\\Python\\Python37\\site-packages\\aniposelib\\cameras.py\u001b[0m in \u001b[0;36mget_rows_videos\u001b[1;34m(self, videos, board, verbose)\u001b[0m\n\u001b[0;32m   1578\u001b[0m             \u001b[1;32mfor\u001b[0m \u001b[0mvnum\u001b[0m\u001b[1;33m,\u001b[0m \u001b[0mvidname\u001b[0m \u001b[1;32min\u001b[0m \u001b[0menumerate\u001b[0m\u001b[1;33m(\u001b[0m\u001b[0mcam_videos\u001b[0m\u001b[1;33m)\u001b[0m\u001b[1;33m:\u001b[0m\u001b[1;33m\u001b[0m\u001b[1;33m\u001b[0m\u001b[0m\n\u001b[0;32m   1579\u001b[0m                 \u001b[1;32mif\u001b[0m \u001b[0mverbose\u001b[0m\u001b[1;33m:\u001b[0m \u001b[0mprint\u001b[0m\u001b[1;33m(\u001b[0m\u001b[0mvidname\u001b[0m\u001b[1;33m)\u001b[0m\u001b[1;33m\u001b[0m\u001b[1;33m\u001b[0m\u001b[0m\n\u001b[1;32m-> 1580\u001b[1;33m                 \u001b[0mrows\u001b[0m \u001b[1;33m=\u001b[0m \u001b[0mboard\u001b[0m\u001b[1;33m.\u001b[0m\u001b[0mdetect_video\u001b[0m\u001b[1;33m(\u001b[0m\u001b[0mvidname\u001b[0m\u001b[1;33m,\u001b[0m \u001b[0mprefix\u001b[0m\u001b[1;33m=\u001b[0m\u001b[0mvnum\u001b[0m\u001b[1;33m,\u001b[0m \u001b[0mprogress\u001b[0m\u001b[1;33m=\u001b[0m\u001b[0mverbose\u001b[0m\u001b[1;33m)\u001b[0m\u001b[1;33m\u001b[0m\u001b[1;33m\u001b[0m\u001b[0m\n\u001b[0m\u001b[0;32m   1581\u001b[0m                 \u001b[1;32mif\u001b[0m \u001b[0mverbose\u001b[0m\u001b[1;33m:\u001b[0m \u001b[0mprint\u001b[0m\u001b[1;33m(\u001b[0m\u001b[1;34m\"{} boards detected\"\u001b[0m\u001b[1;33m.\u001b[0m\u001b[0mformat\u001b[0m\u001b[1;33m(\u001b[0m\u001b[0mlen\u001b[0m\u001b[1;33m(\u001b[0m\u001b[0mrows\u001b[0m\u001b[1;33m)\u001b[0m\u001b[1;33m)\u001b[0m\u001b[1;33m)\u001b[0m\u001b[1;33m\u001b[0m\u001b[1;33m\u001b[0m\u001b[0m\n\u001b[0;32m   1582\u001b[0m                 \u001b[0mrows_cam\u001b[0m\u001b[1;33m.\u001b[0m\u001b[0mextend\u001b[0m\u001b[1;33m(\u001b[0m\u001b[0mrows\u001b[0m\u001b[1;33m)\u001b[0m\u001b[1;33m\u001b[0m\u001b[1;33m\u001b[0m\u001b[0m\n",
      "\u001b[1;32m~\\AppData\\Roaming\\Python\\Python37\\site-packages\\aniposelib\\boards.py\u001b[0m in \u001b[0;36mdetect_video\u001b[1;34m(self, vidname, prefix, skip, progress)\u001b[0m\n\u001b[0;32m    328\u001b[0m                 \u001b[1;32mcontinue\u001b[0m\u001b[1;33m\u001b[0m\u001b[1;33m\u001b[0m\u001b[0m\n\u001b[0;32m    329\u001b[0m \u001b[1;33m\u001b[0m\u001b[0m\n\u001b[1;32m--> 330\u001b[1;33m             \u001b[0mcorners\u001b[0m\u001b[1;33m,\u001b[0m \u001b[0mids\u001b[0m \u001b[1;33m=\u001b[0m \u001b[0mself\u001b[0m\u001b[1;33m.\u001b[0m\u001b[0mdetect_image\u001b[0m\u001b[1;33m(\u001b[0m\u001b[0mframe\u001b[0m\u001b[1;33m)\u001b[0m\u001b[1;33m\u001b[0m\u001b[1;33m\u001b[0m\u001b[0m\n\u001b[0m\u001b[0;32m    331\u001b[0m \u001b[1;33m\u001b[0m\u001b[0m\n\u001b[0;32m    332\u001b[0m             \u001b[1;32mif\u001b[0m \u001b[0mcorners\u001b[0m \u001b[1;32mis\u001b[0m \u001b[1;32mnot\u001b[0m \u001b[1;32mNone\u001b[0m \u001b[1;32mand\u001b[0m \u001b[0mlen\u001b[0m\u001b[1;33m(\u001b[0m\u001b[0mcorners\u001b[0m\u001b[1;33m)\u001b[0m \u001b[1;33m>\u001b[0m \u001b[1;36m0\u001b[0m\u001b[1;33m:\u001b[0m\u001b[1;33m\u001b[0m\u001b[1;33m\u001b[0m\u001b[0m\n",
      "\u001b[1;32m~\\AppData\\Roaming\\Python\\Python37\\site-packages\\aniposelib\\boards.py\u001b[0m in \u001b[0;36mdetect_image\u001b[1;34m(self, image, camera)\u001b[0m\n\u001b[0;32m    648\u001b[0m         \u001b[1;32mif\u001b[0m \u001b[0mlen\u001b[0m\u001b[1;33m(\u001b[0m\u001b[0mcorners\u001b[0m\u001b[1;33m)\u001b[0m \u001b[1;33m>\u001b[0m \u001b[1;36m0\u001b[0m\u001b[1;33m:\u001b[0m\u001b[1;33m\u001b[0m\u001b[1;33m\u001b[0m\u001b[0m\n\u001b[0;32m    649\u001b[0m             ret, detectedCorners, detectedIds = aruco.interpolateCornersCharuco(\n\u001b[1;32m--> 650\u001b[1;33m                 corners, ids, gray, self.board)\n\u001b[0m\u001b[0;32m    651\u001b[0m             \u001b[1;32mif\u001b[0m \u001b[0mdetectedIds\u001b[0m \u001b[1;32mis\u001b[0m \u001b[1;32mNone\u001b[0m\u001b[1;33m:\u001b[0m\u001b[1;33m\u001b[0m\u001b[1;33m\u001b[0m\u001b[0m\n\u001b[0;32m    652\u001b[0m                 \u001b[0mdetectedCorners\u001b[0m \u001b[1;33m=\u001b[0m \u001b[0mdetectedIds\u001b[0m \u001b[1;33m=\u001b[0m \u001b[0mnp\u001b[0m\u001b[1;33m.\u001b[0m\u001b[0mfloat64\u001b[0m\u001b[1;33m(\u001b[0m\u001b[1;33m[\u001b[0m\u001b[1;33m]\u001b[0m\u001b[1;33m)\u001b[0m\u001b[1;33m\u001b[0m\u001b[1;33m\u001b[0m\u001b[0m\n",
      "\u001b[1;31mKeyboardInterrupt\u001b[0m: "
     ]
    }
   ],
   "source": [
    "pose_3d.calibrate()"
   ]
  },
  {
   "cell_type": "markdown",
   "id": "efef30df",
   "metadata": {},
   "source": [
    "## 2D Filters"
   ]
  },
  {
   "cell_type": "code",
   "execution_count": 6,
   "id": "2213960b",
   "metadata": {},
   "outputs": [
    {
     "name": "stdout",
     "output_type": "stream",
     "text": [
      "CAMERA NAMES ['Cam00', 'Cam01', 'Cam02']\n",
      "Processing ['Cam00_230410_142351.analysis.h5', 'Cam01_230410_142351.analysis.h5', 'Cam02_230410_142351.analysis.h5']\n"
     ]
    }
   ],
   "source": [
    "pose_3d.filter_poses()"
   ]
  },
  {
   "cell_type": "markdown",
   "id": "d951a1e4",
   "metadata": {},
   "source": [
    "## Triangulation"
   ]
  },
  {
   "cell_type": "code",
   "execution_count": null,
   "id": "799dba72",
   "metadata": {},
   "outputs": [],
   "source": [
    "pose_3d.triangulate_poses()"
   ]
  }
 ],
 "metadata": {
  "kernelspec": {
   "display_name": "Python 3 (ipykernel)",
   "language": "python",
   "name": "python3"
  },
  "language_info": {
   "codemirror_mode": {
    "name": "ipython",
    "version": 3
   },
   "file_extension": ".py",
   "mimetype": "text/x-python",
   "name": "python",
   "nbconvert_exporter": "python",
   "pygments_lexer": "ipython3",
   "version": "3.7.12"
  }
 },
 "nbformat": 4,
 "nbformat_minor": 5
}
