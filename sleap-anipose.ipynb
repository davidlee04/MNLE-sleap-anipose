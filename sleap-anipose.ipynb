{
 "cells": [
  {
   "cell_type": "markdown",
   "id": "acfda5cc",
   "metadata": {},
   "source": [
    "# SLEAP-Anipose"
   ]
  },
  {
   "cell_type": "markdown",
   "id": "a3424edf",
   "metadata": {},
   "source": [
    "## Imports"
   ]
  },
  {
   "cell_type": "code",
   "execution_count": null,
   "id": "c3607a96",
   "metadata": {
    "scrolled": true
   },
   "outputs": [],
   "source": [
    "import pose_3d\n",
    "\n",
    "import numpy as np"
   ]
  },
  {
   "cell_type": "markdown",
   "id": "d0c5c083",
   "metadata": {},
   "source": [
    "## Specify Project Directory"
   ]
  },
  {
   "cell_type": "code",
   "execution_count": null,
   "id": "9c11493b",
   "metadata": {
    "scrolled": true
   },
   "outputs": [],
   "source": [
    "pose_3d.process_config('D:/AN_local/AN664')"
   ]
  },
  {
   "cell_type": "markdown",
   "id": "e8c2ee54",
   "metadata": {},
   "source": [
    "## Conversion"
   ]
  },
  {
   "cell_type": "code",
   "execution_count": null,
   "id": "76c4c08b",
   "metadata": {},
   "outputs": [],
   "source": [
    "pose_3d.convert("
   ]
  },
  {
   "cell_type": "markdown",
   "id": "abb6881c",
   "metadata": {},
   "source": [
    "## Calibration"
   ]
  },
  {
   "cell_type": "code",
   "execution_count": null,
   "id": "b3d61400",
   "metadata": {},
   "outputs": [],
   "source": [
    "pose_3d.calibrate()"
   ]
  },
  {
   "cell_type": "markdown",
   "id": "85716b68",
   "metadata": {},
   "source": [
    "## 2D Filters"
   ]
  },
  {
   "cell_type": "code",
   "execution_count": null,
   "id": "e08d675d",
   "metadata": {},
   "outputs": [],
   "source": [
    "pose_3d.filter_poses()"
   ]
  },
  {
   "cell_type": "markdown",
   "id": "8a977ba6",
   "metadata": {},
   "source": [
    "## Triangulation"
   ]
  },
  {
   "cell_type": "code",
   "execution_count": null,
   "id": "2a43a192",
   "metadata": {},
   "outputs": [],
   "source": [
    "pose_3d.triangulate_poses()"
   ]
  }
 ],
 "metadata": {
  "kernelspec": {
   "display_name": "Python 3 (ipykernel)",
   "language": "python",
   "name": "python3"
  },
  "language_info": {
   "codemirror_mode": {
    "name": "ipython",
    "version": 3
   },
   "file_extension": ".py",
   "mimetype": "text/x-python",
   "name": "python",
   "nbconvert_exporter": "python",
   "pygments_lexer": "ipython3",
   "version": "3.7.12"
  }
 },
 "nbformat": 4,
 "nbformat_minor": 5
}
