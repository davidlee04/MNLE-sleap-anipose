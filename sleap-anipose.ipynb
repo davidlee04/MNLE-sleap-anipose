{
 "cells": [
  {
   "cell_type": "markdown",
   "id": "79910b10",
   "metadata": {},
   "source": [
    "# SLEAP-Anipose"
   ]
  },
  {
   "cell_type": "markdown",
   "id": "18404b34",
   "metadata": {},
   "source": [
    "## Imports"
   ]
  },
  {
   "cell_type": "code",
   "execution_count": 1,
   "id": "c3607a96",
   "metadata": {
    "scrolled": true
   },
   "outputs": [],
   "source": [
    "import pose_3d\n",
    "\n",
    "import numpy as np"
   ]
  },
  {
   "cell_type": "markdown",
   "id": "059d4c85",
   "metadata": {},
   "source": [
    "## Specify Project Directory"
   ]
  },
  {
   "cell_type": "code",
   "execution_count": 7,
   "id": "9c11493b",
   "metadata": {
    "scrolled": true
   },
   "outputs": [
    {
     "name": "stdout",
     "output_type": "stream",
     "text": [
      "D:/AN_local/AN664/041023\n"
     ]
    }
   ],
   "source": [
    "pose_3d.process_config('D:/AN_local/AN664')"
   ]
  },
  {
   "cell_type": "markdown",
   "id": "565d5b25",
   "metadata": {},
   "source": [
    "## Conversion"
   ]
  },
  {
   "cell_type": "code",
   "execution_count": null,
   "id": "3f9a3e0f",
   "metadata": {},
   "outputs": [],
   "source": [
    "pose_3d.convert("
   ]
  },
  {
   "cell_type": "markdown",
   "id": "95e1e5d1",
   "metadata": {},
   "source": [
    "## "
   ]
  },
  {
   "cell_type": "code",
   "execution_count": 9,
   "id": "4c7d5e4d",
   "metadata": {},
   "outputs": [
    {
     "data": {
      "text/plain": [
       "25.2"
      ]
     },
     "execution_count": 9,
     "metadata": {},
     "output_type": "execute_result"
    }
   ],
   "source": [
    "pose_3d.config['triangulation']['scale_smooth']"
   ]
  },
  {
   "cell_type": "code",
   "execution_count": null,
   "id": "a4024b29",
   "metadata": {},
   "outputs": [],
   "source": [
    "# pose_3d.calibrate()\n",
    "# pose_3d.filter_poses()\n",
    "pose_3d.triangulate_poses()"
   ]
  }
 ],
 "metadata": {
  "kernelspec": {
   "display_name": "Python 3 (ipykernel)",
   "language": "python",
   "name": "python3"
  },
  "language_info": {
   "codemirror_mode": {
    "name": "ipython",
    "version": 3
   },
   "file_extension": ".py",
   "mimetype": "text/x-python",
   "name": "python",
   "nbconvert_exporter": "python",
   "pygments_lexer": "ipython3",
   "version": "3.7.12"
  }
 },
 "nbformat": 4,
 "nbformat_minor": 5
}
