{
 "cells": [
  {
   "cell_type": "code",
   "execution_count": 13,
   "id": "9a98b36d",
   "metadata": {},
   "outputs": [],
   "source": [
    "import pandas as pd"
   ]
  },
  {
   "cell_type": "code",
   "execution_count": 14,
   "id": "2b56eb77",
   "metadata": {},
   "outputs": [],
   "source": [
    "mat = pd.read_hdf('D:/AN_local/temp/PROC4_Lpaw_cday6_reach207_miss_cam1DLC_resnet_50_PROC_agustinSep22shuffle1_1030000.h5')"
   ]
  },
  {
   "cell_type": "code",
   "execution_count": 15,
   "id": "62a61368",
   "metadata": {
    "scrolled": true
   },
   "outputs": [
    {
     "name": "stdout",
     "output_type": "stream",
     "text": [
      "scorer    DLC_resnet_50_PROC_agustinSep22shuffle1_1030000              \\\n",
      "bodyparts                                             paw               \n",
      "coords                                                  x           y   \n",
      "0                                              657.075928  399.259857   \n",
      "1                                              641.235107  398.188782   \n",
      "2                                              632.682922  402.477417   \n",
      "3                                              615.207153  414.978302   \n",
      "4                                              601.243713  414.415039   \n",
      "..                                                    ...         ...   \n",
      "203                                            383.819305  341.414185   \n",
      "204                                            382.406616  339.204407   \n",
      "205                                            383.510132  336.457306   \n",
      "206                                            384.458954  335.461151   \n",
      "207                                              0.000000    0.000000   \n",
      "\n",
      "scorer                \n",
      "bodyparts             \n",
      "coords    likelihood  \n",
      "0           0.000097  \n",
      "1           0.000003  \n",
      "2           0.000030  \n",
      "3           0.000001  \n",
      "4           0.003273  \n",
      "..               ...  \n",
      "203         0.999991  \n",
      "204         0.999995  \n",
      "205         0.999986  \n",
      "206         0.999983  \n",
      "207         0.000000  \n",
      "\n",
      "[208 rows x 3 columns]\n"
     ]
    }
   ],
   "source": [
    "print(mat)"
   ]
  },
  {
   "cell_type": "code",
   "execution_count": 16,
   "id": "a5c56855",
   "metadata": {},
   "outputs": [
    {
     "data": {
      "text/plain": [
       "0      657.075928\n",
       "1      641.235107\n",
       "2      632.682922\n",
       "3      615.207153\n",
       "4      601.243713\n",
       "          ...    \n",
       "203    383.819305\n",
       "204    382.406616\n",
       "205    383.510132\n",
       "206    384.458954\n",
       "207      0.000000\n",
       "Name: x, Length: 208, dtype: float64"
      ]
     },
     "execution_count": 16,
     "metadata": {},
     "output_type": "execute_result"
    }
   ],
   "source": [
    "mat['DLC_resnet_50_PROC_agustinSep22shuffle1_1030000']['paw']['x']"
   ]
  },
  {
   "cell_type": "code",
   "execution_count": 17,
   "id": "8e541e37",
   "metadata": {},
   "outputs": [
    {
     "data": {
      "text/plain": [
       "<AxesSubplot:>"
      ]
     },
     "execution_count": 17,
     "metadata": {},
     "output_type": "execute_result"
    },
    {
     "data": {
      "image/png": "[encoded data removed]",
      "text/plain": [
       "<Figure size 432x288 with 1 Axes>"
      ]
     },
     "metadata": {
      "needs_background": "light"
     },
     "output_type": "display_data"
    }
   ],
   "source": [
    "mat['DLC_resnet_50_PROC_agustinSep22shuffle1_1030000']['paw']['x'].plot()\n",
    "mat['DLC_resnet_50_PROC_agustinSep22shuffle1_1030000']['paw']['y'].plot()"
   ]
  },
  {
   "cell_type": "code",
   "execution_count": null,
   "id": "acae3b18",
   "metadata": {},
   "outputs": [],
   "source": []
  },
  {
   "cell_type": "code",
   "execution_count": null,
   "id": "001b7f7a",
   "metadata": {},
   "outputs": [],
   "source": []
  },
  {
   "cell_type": "code",
   "execution_count": null,
   "id": "10037532",
   "metadata": {},
   "outputs": [],
   "source": []
  }
 ],
 "metadata": {
  "kernelspec": {
   "display_name": "Python 3 (ipykernel)",
   "language": "python",
   "name": "python3"
  },
  "language_info": {
   "codemirror_mode": {
    "name": "ipython",
    "version": 3
   },
   "file_extension": ".py",
   "mimetype": "text/x-python",
   "name": "python",
   "nbconvert_exporter": "python",
   "pygments_lexer": "ipython3",
   "version": "3.7.12"
  }
 },
 "nbformat": 4,
 "nbformat_minor": 5
}
