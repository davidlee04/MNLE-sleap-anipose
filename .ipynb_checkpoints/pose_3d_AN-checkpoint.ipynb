{
 "cells": [
  {
   "cell_type": "code",
   "execution_count": 9,
   "id": "78f82771",
   "metadata": {},
   "outputs": [],
   "source": [
    "# Generic imports\n",
    "from os import listdir\n",
    "from os.path import join, split\n",
    "import numpy as np \n",
    "import matplotlib.pyplot as plt \n",
    "import h5py\n",
    "import re\n",
    "from scipy.io import savemat\n",
    "import importlib\n",
    "import h5py\n",
    "from IPython.utils import io"
   ]
  },
  {
   "cell_type": "code",
   "execution_count": 10,
   "id": "a9ce0bd1",
   "metadata": {},
   "outputs": [],
   "source": [
    "# Custom libraries \n",
    "spec = importlib.util.find_spec('aniposelib')\n",
    "if spec is None:\n",
    "    #print(package_name +\" is not installed\")\n",
    "    !python -m pip install --user aniposelib\n",
    "from aniposelib.cameras import CameraGroup\n",
    "from preprocessing import get_2d_poses\n",
    "from aniposelib.utils import load_pose2d_fnames\n",
    "from triangulation_v2 import TriangulationMethod, get_3d_poses"
   ]
  },
  {
   "cell_type": "code",
   "execution_count": 11,
   "id": "ae94079e",
   "metadata": {},
   "outputs": [],
   "source": [
    "from os.path import split, exists, join\n",
    "from os import mkdir"
   ]
  },
  {
   "cell_type": "code",
   "execution_count": 15,
   "id": "04736a14",
   "metadata": {},
   "outputs": [
    {
     "name": "stdout",
     "output_type": "stream",
     "text": [
      "D:/AN_local/AN1486/calibration/calibration.toml\n",
      "D:/AN_local/AN664/041123/predictions_h5\n",
      "predictions_h5\n"
     ]
    }
   ],
   "source": [
    "# Init path with session data\n",
    "session_filepath ='D:/AN_local/AN664/041023/predictions_h5'\n",
    "_, session_name = split(session_filepath)\n",
    "save_filepath ='D:/AN_local/AN664/041023/pose3d'\n",
    "# Camera name in the h5 file (must be the same for a given session)\n",
    "# if save location does not exist, create it\n",
    "if not exists(save_filepath):\n",
    "    mkdir(save_filepath)\n",
    "camera_ids = ['Cam0','Cam1','Cam2']\n",
    "# Pre-computed calibration file (must be the same for a given session)\n",
    "calibration_file = 'D:/AN_local/AN1486/calibration/calibration.toml'\n",
    "print(calibration_file)\n",
    "print(session_filepath)\n",
    "print(session_name)"
   ]
  },
  {
   "cell_type": "code",
   "execution_count": 5,
   "id": "ed04a123",
   "metadata": {},
   "outputs": [],
   "source": [
    "# Choose triangulation method\n",
    "\"\"\"TriangulationMethod.\n",
    "    simple\n",
    "    calibrated_dtl    \n",
    "    calibrated_ransac.\"\"\"\n",
    "triangulate = TriangulationMethod.simple\n",
    "refine_calibration = False\n",
    "show_progress = False"
   ]
  },
  {
   "cell_type": "code",
   "execution_count": 6,
   "id": "14c85acc",
   "metadata": {},
   "outputs": [
    {
     "name": "stdout",
     "output_type": "stream",
     "text": [
      "Read files from session path\n"
     ]
    }
   ],
   "source": [
    "h5_regex = re.compile('.*Cam.*.h5')\n",
    "file_list = list(filter(h5_regex.match, listdir(session_filepath)))\n",
    "print('Read files from session path')"
   ]
  },
  {
   "cell_type": "code",
   "execution_count": 7,
   "id": "ef5942b4",
   "metadata": {},
   "outputs": [],
   "source": [
    "cam1_regex = re.compile(f'.*{camera_ids[0]}.*.h5')\n",
    "cam1_file_list = list(filter(cam1_regex.match, file_list))"
   ]
  },
  {
   "cell_type": "code",
   "execution_count": 8,
   "id": "689cc032",
   "metadata": {},
   "outputs": [
    {
     "name": "stdout",
     "output_type": "stream",
     "text": [
      "Processing Cam0_230411.analysis.h5\n",
      "Saving pose 3d to D:/AN_local/AN664/041123/pose3d\\Cam0_230411.analysis.mat\n"
     ]
    }
   ],
   "source": [
    "for cam1_file in cam1_file_list:\n",
    "    trial_name = cam1_file.replace('_' + camera_ids[0], '')\n",
    "    print(f'Processing {trial_name}')\n",
    "    # Get files for camera group (cam1,2,3) for a given trial\n",
    "    cam_group = [cam1_file.replace(camera_ids[0], cam_idx) for cam_idx in camera_ids]\n",
    "    \"\"\"Get trial data from h5 file.\"\"\"\n",
    "    with h5py.File(join(session_filepath, cam1_file), 'r') as cam1_h5_file:\n",
    "        marker_names = list(cam1_h5_file['node_names'][()])\n",
    "    video_files = []\n",
    "    for cam_file in cam_group:\n",
    "        with h5py.File(join(session_filepath, cam_file), 'r') as cam_h5_file:\n",
    "            video_files.append(cam_h5_file['video_path'][()])\n",
    "    \"\"\"Get 2D data.\"\"\"\n",
    "    # The get_2D_poses function returns 2D tracks for a single file at a time,\n",
    "    # so we append all the tracks to a list and then stack the 2D tracks on top of each other. \n",
    "    pose2d = [get_2d_poses(join(session_filepath, file)) for file in cam_group]\n",
    "    pose2d = np.stack(pose2d, axis=0)[:, :]\n",
    "\n",
    "    n_cams, n_frames, n_nodes, _, n_tracks = pose2d.shape\n",
    "    \"\"\"Get 3D data from triangulation.\"\"\"\n",
    "    \"\"\"Aniposelib gives us the option to triangulate with the direct linear transformation (DLT) or with RANSAC,\n",
    "    which adds an outlier rejection subroutine to the DLT. <br>\n",
    "    In addition to these 2 triangulation methods, we can further refine the 3D points via direct optimization\n",
    "    of the reprojection error.\n",
    "    def get_3d_poses(\n",
    "                    poses_2d: list,\n",
    "                    camera_mats: list = [],\n",
    "                    calibration_filepath: str = None,\n",
    "                    triangulate: TriangulationMethod = TriangulationMethod.simple,\n",
    "                    refine_calibration: bool = False,\n",
    "                    show_progress: bool = False\n",
    "                    ) -> np.ndarray\n",
    "    Args:\n",
    "        poses_2d: A length # cameras list of pose matrices for a single animal. Each pose matrix is of \n",
    "        shape (# frames, # nodes, 2, # tracks).\n",
    "        \n",
    "        camera_mats: A length # cameras list of camera matrices. Each camera matrix is a (3,4) ndarray. \n",
    "        Note that the camera matrices and pose_2d matrices have to be ordered in a corresponding fashion.\n",
    "        or\n",
    "        calibration_filepath: Filepath to calibration.toml\n",
    "\n",
    "        triangulate: Triangulation method\n",
    "            - simple: No other options are required\n",
    "            - calibrated_dtl: refine_calibration, show_progress can be passed\n",
    "            - calibrated_ransac: refine_calibration, show_progress can be passed\n",
    "\n",
    "        refine_calibration: bool = False, Use CameraGroup.optim refinement\n",
    "\n",
    "        show_progress: bool = False, Show progress of calibration\n",
    "        \n",
    "    Returns:\n",
    "        poses_3d: A (# frames, # nodes, 3, # tracks) that corresponds to the triangulated 3D points in the world frame. \n",
    "    \"\"\"\n",
    "    with io.capture_output() as captured:\n",
    "        pose3d = get_3d_poses(poses_2d=pose2d,\n",
    "                             calibration_filepath=calibration_file,\n",
    "                             triangulate=TriangulationMethod.calibrated_ransac,\n",
    "                             refine_calibration=refine_calibration,\n",
    "                             show_progress=show_progress)\n",
    "    mat_dict = {'session': session_name,\n",
    "                'trial': trial_name.replace('.h5', ''),\n",
    "                'marker_names': marker_names,\n",
    "                'video_files': video_files,\n",
    "                'pose3d': pose3d}\n",
    "    mat_file = join(save_filepath, trial_name.replace('.h5', '.mat'))\n",
    "        \n",
    "    print(f'Saving pose 3d to {mat_file}')\n",
    "    savemat(mat_file, mat_dict)"
   ]
  },
  {
   "cell_type": "code",
   "execution_count": 9,
   "id": "c2c51f3c",
   "metadata": {},
   "outputs": [],
   "source": [
    "analysis_file = join(session_filepath, cam_group[0])"
   ]
  },
  {
   "cell_type": "code",
   "execution_count": 10,
   "id": "ca56ae41",
   "metadata": {},
   "outputs": [],
   "source": [
    "with h5py.File(analysis_file, 'r') as f:\n",
    "    score = f['point_scores'][:].T"
   ]
  },
  {
   "cell_type": "code",
   "execution_count": 11,
   "id": "e10acbfc",
   "metadata": {},
   "outputs": [
    {
     "data": {
      "text/plain": [
       "(30000, 7, 1)"
      ]
     },
     "execution_count": 11,
     "metadata": {},
     "output_type": "execute_result"
    }
   ],
   "source": [
    "score.shape"
   ]
  },
  {
   "cell_type": "code",
   "execution_count": 12,
   "id": "09478ef5",
   "metadata": {},
   "outputs": [
    {
     "data": {
      "text/plain": [
       "[<matplotlib.lines.Line2D at 0x1b99148f8c8>]"
      ]
     },
     "execution_count": 12,
     "metadata": {},
     "output_type": "execute_result"
    },
    {
     "data": {
      "image/png": "[encoded data removed]",
      "text/plain": [
       "<Figure size 432x288 with 1 Axes>"
      ]
     },
     "metadata": {
      "needs_background": "light"
     },
     "output_type": "display_data"
    }
   ],
   "source": [
    "plt.plot(score[:,1])"
   ]
  },
  {
   "cell_type": "code",
   "execution_count": 13,
   "id": "f79f93f0",
   "metadata": {},
   "outputs": [
    {
     "name": "stdout",
     "output_type": "stream",
     "text": [
      "Processing Cam0_230410.analysis.h5\n"
     ]
    }
   ],
   "source": [
    "trial_name = cam1_file.replace('_' + camera_ids[0], '')\n",
    "print(f'Processing {trial_name}')\n",
    "# Get files for camera group (cam1,2,3) for a given trial\n",
    "cam_group = [cam1_file.replace(camera_ids[0], cam_idx) for cam_idx in camera_ids]\n",
    "\"\"\"Get trial data from h5 file.\"\"\"\n",
    "with h5py.File(join(session_filepath, cam1_file), 'r') as cam1_h5_file:\n",
    "    marker_names = list(cam1_h5_file['node_names'][()])\n",
    "video_files = []\n",
    "for cam_file in cam_group:\n",
    "    with h5py.File(join(session_filepath, cam_file), 'r') as cam_h5_file:\n",
    "        video_files.append(cam_h5_file['video_path'][()])"
   ]
  },
  {
   "cell_type": "code",
   "execution_count": 14,
   "id": "cce58d4e",
   "metadata": {},
   "outputs": [
    {
     "data": {
      "text/plain": [
       "<HDF5 file \"Cam0_230410.analysis.h5\" (mode r)>"
      ]
     },
     "execution_count": 14,
     "metadata": {},
     "output_type": "execute_result"
    }
   ],
   "source": [
    "h5py.File(join(session_filepath, cam1_file), 'r')"
   ]
  },
  {
   "cell_type": "code",
   "execution_count": null,
   "id": "97515866",
   "metadata": {},
   "outputs": [],
   "source": []
  },
  {
   "cell_type": "code",
   "execution_count": 15,
   "id": "6be1ea12",
   "metadata": {},
   "outputs": [
    {
     "ename": "NameError",
     "evalue": "name 'data' is not defined",
     "output_type": "error",
     "traceback": [
      "\u001b[1;31m---------------------------------------------------------------------------\u001b[0m",
      "\u001b[1;31mNameError\u001b[0m                                 Traceback (most recent call last)",
      "\u001b[1;32m~\\AppData\\Local\\Temp\\ipykernel_57492\\1743741225.py\u001b[0m in \u001b[0;36m<module>\u001b[1;34m\u001b[0m\n\u001b[1;32m----> 1\u001b[1;33m \u001b[0mdata\u001b[0m\u001b[1;33m[\u001b[0m\u001b[1;36m0\u001b[0m\u001b[1;33m]\u001b[0m\u001b[1;33m\u001b[0m\u001b[1;33m\u001b[0m\u001b[0m\n\u001b[0m",
      "\u001b[1;31mNameError\u001b[0m: name 'data' is not defined"
     ]
    }
   ],
   "source": [
    "data[0]"
   ]
  },
  {
   "cell_type": "code",
   "execution_count": 36,
   "id": "eb2ec3bc",
   "metadata": {},
   "outputs": [
    {
     "data": {
      "text/plain": [
       "{'0': <HDF5 file \"Cam0_0000000230418.analysis.h5\" (mode r)>,\n",
       " '1': <HDF5 file \"Cam1_0000000230418.analysis.h5\" (mode r)>,\n",
       " '2': <HDF5 file \"Cam2_0000000230418.analysis.h5\" (mode r)>}"
      ]
     },
     "execution_count": 36,
     "metadata": {},
     "output_type": "execute_result"
    }
   ],
   "source": [
    "fname_dict"
   ]
  },
  {
   "cell_type": "code",
   "execution_count": 49,
   "id": "b1dbea60",
   "metadata": {},
   "outputs": [
    {
     "data": {
      "text/plain": [
       "3"
      ]
     },
     "execution_count": 49,
     "metadata": {},
     "output_type": "execute_result"
    }
   ],
   "source": [
    "len(pose2d)"
   ]
  },
  {
   "cell_type": "code",
   "execution_count": null,
   "id": "06ad073e",
   "metadata": {},
   "outputs": [],
   "source": []
  }
 ],
 "metadata": {
  "kernelspec": {
   "display_name": "Python 3 (ipykernel)",
   "language": "python",
   "name": "python3"
  },
  "language_info": {
   "codemirror_mode": {
    "name": "ipython",
    "version": 3
   },
   "file_extension": ".py",
   "mimetype": "text/x-python",
   "name": "python",
   "nbconvert_exporter": "python",
   "pygments_lexer": "ipython3",
   "version": "3.7.12"
  }
 },
 "nbformat": 4,
 "nbformat_minor": 5
}
