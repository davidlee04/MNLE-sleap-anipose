{
 "cells": [
  {
   "cell_type": "markdown",
   "id": "958fc73a",
   "metadata": {},
   "source": [
    "# SLEAP-Anipose"
   ]
  },
  {
   "cell_type": "markdown",
   "id": "1df791c1",
   "metadata": {},
   "source": [
    "## Imports"
   ]
  },
  {
   "cell_type": "code",
   "execution_count": null,
   "id": "c3607a96",
   "metadata": {
    "scrolled": true
   },
   "outputs": [],
   "source": [
    "import pose_3d"
   ]
  },
  {
   "cell_type": "markdown",
   "id": "7a5fcf4d",
   "metadata": {},
   "source": [
    "## Specify Project Directory"
   ]
  },
  {
   "cell_type": "code",
   "execution_count": null,
   "id": "9c11493b",
   "metadata": {
    "scrolled": true
   },
   "outputs": [],
   "source": [
    "pose_3d.process_config('D:/AN_local/AN664')"
   ]
  },
  {
   "cell_type": "markdown",
   "id": "dd8aa451",
   "metadata": {},
   "source": [
    "## Conversion"
   ]
  },
  {
   "cell_type": "code",
   "execution_count": null,
   "id": "cac04432",
   "metadata": {},
   "outputs": [],
   "source": [
    "pose_3d.convert()"
   ]
  },
  {
   "cell_type": "markdown",
   "id": "059077f0",
   "metadata": {},
   "source": [
    "## Calibration"
   ]
  },
  {
   "cell_type": "code",
   "execution_count": null,
   "id": "721871d5",
   "metadata": {},
   "outputs": [],
   "source": [
    "pose_3d.calibrate()"
   ]
  },
  {
   "cell_type": "markdown",
   "id": "94542e4b",
   "metadata": {},
   "source": [
    "## 2D Filters"
   ]
  },
  {
   "cell_type": "code",
   "execution_count": null,
   "id": "a6c3bb7d",
   "metadata": {},
   "outputs": [],
   "source": [
    "pose_3d.filter_poses()"
   ]
  },
  {
   "cell_type": "markdown",
   "id": "a283fda4",
   "metadata": {},
   "source": [
    "## Triangulation"
   ]
  },
  {
   "cell_type": "code",
   "execution_count": null,
   "id": "2e310fa4",
   "metadata": {},
   "outputs": [],
   "source": [
    "pose_3d.triangulate_poses()"
   ]
  }
 ],
 "metadata": {
  "kernelspec": {
   "display_name": "Python 3 (ipykernel)",
   "language": "python",
   "name": "python3"
  },
  "language_info": {
   "codemirror_mode": {
    "name": "ipython",
    "version": 3
   },
   "file_extension": ".py",
   "mimetype": "text/x-python",
   "name": "python",
   "nbconvert_exporter": "python",
   "pygments_lexer": "ipython3",
   "version": "3.7.12"
  }
 },
 "nbformat": 4,
 "nbformat_minor": 5
}
