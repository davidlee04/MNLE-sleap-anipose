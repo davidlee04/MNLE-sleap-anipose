{
 "cells": [
  {
   "cell_type": "markdown",
   "id": "03da65b7",
   "metadata": {},
   "source": [
    "# SLEAP-Anipose"
   ]
  },
  {
   "cell_type": "markdown",
   "id": "ecb98552",
   "metadata": {},
   "source": [
    "## Imports"
   ]
  },
  {
   "cell_type": "code",
   "execution_count": 1,
   "id": "c3607a96",
   "metadata": {
    "scrolled": true
   },
   "outputs": [],
   "source": [
    "import pose_3d"
   ]
  },
  {
   "cell_type": "markdown",
   "id": "9d9d242c",
   "metadata": {},
   "source": [
    "## Specify Project Directory"
   ]
  },
  {
   "cell_type": "code",
   "execution_count": 2,
   "id": "9c11493b",
   "metadata": {
    "scrolled": true
   },
   "outputs": [
    {
     "name": "stdout",
     "output_type": "stream",
     "text": [
      "['041023']\n"
     ]
    }
   ],
   "source": [
    "pose_3d.setup('D:/AN_local/AN664')"
   ]
  },
  {
   "cell_type": "markdown",
   "id": "edca7080",
   "metadata": {},
   "source": [
    "## Conversion"
   ]
  },
  {
   "cell_type": "code",
   "execution_count": 8,
   "id": "0d5548c0",
   "metadata": {
    "scrolled": true
   },
   "outputs": [
    {
     "name": "stdout",
     "output_type": "stream",
     "text": [
      "Converting D:/AN_local/AN664\\041023\\predictions\n",
      "Outputting to D:/AN_local/AN664\\041023\\predictions_h5\n",
      "SLEAP FILES: ['D:/AN_local/AN664\\\\041023\\\\predictions\\\\Cam00_0000000230411.avi.230801_173516.predictions.slp', 'D:/AN_local/AN664\\\\041023\\\\predictions\\\\Cam00_0000000230412.avi.230801_173733.predictions.slp', 'D:/AN_local/AN664\\\\041023\\\\predictions\\\\Cam00_230410_142351.avi.230620_165354.predictions.slp', 'D:/AN_local/AN664\\\\041023\\\\predictions\\\\Cam01_0000000230411.avi.230801_180848.predictions.slp', 'D:/AN_local/AN664\\\\041023\\\\predictions\\\\Cam01_0000000230412.avi.230801_181103.predictions.slp', 'D:/AN_local/AN664\\\\041023\\\\predictions\\\\Cam01_230410_142351.avi.230621_121320.predictions.slp', 'D:/AN_local/AN664\\\\041023\\\\predictions\\\\Cam02_0000000230411.avi.230802_153835.predictions.slp', 'D:/AN_local/AN664\\\\041023\\\\predictions\\\\Cam02_0000000230412.avi.230802_163531.predictions.slp', 'D:/AN_local/AN664\\\\041023\\\\predictions\\\\Cam02_230410_142351.avi.230621_180723.predictions.slp']\n",
      "Saving to D:/AN_local/AN664\\041023\\predictions_h5\\Cam00_0000000230411.analysis.h5\n",
      "Saving to D:/AN_local/AN664\\041023\\predictions_h5\\Cam00_0000000230412.analysis.h5\n",
      "Saving to D:/AN_local/AN664\\041023\\predictions_h5\\Cam00_230410_142351.analysis.h5\n",
      "Saving to D:/AN_local/AN664\\041023\\predictions_h5\\Cam01_0000000230411.analysis.h5\n",
      "Saving to D:/AN_local/AN664\\041023\\predictions_h5\\Cam01_0000000230412.analysis.h5\n",
      "Saving to D:/AN_local/AN664\\041023\\predictions_h5\\Cam01_230410_142351.analysis.h5\n",
      "Saving to D:/AN_local/AN664\\041023\\predictions_h5\\Cam02_0000000230411.analysis.h5\n",
      "Saving to D:/AN_local/AN664\\041023\\predictions_h5\\Cam02_0000000230412.analysis.h5\n",
      "Saving to D:/AN_local/AN664\\041023\\predictions_h5\\Cam02_230410_142351.analysis.h5\n"
     ]
    }
   ],
   "source": [
    "pose_3d.convert()"
   ]
  },
  {
   "cell_type": "markdown",
   "id": "30ad1e09",
   "metadata": {},
   "source": [
    "## Calibration"
   ]
  },
  {
   "cell_type": "code",
   "execution_count": 4,
   "id": "9bede95a",
   "metadata": {},
   "outputs": [
    {
     "name": "stdout",
     "output_type": "stream",
     "text": [
      "calibration.toml already exists, do you want to replace it? Y/Ny\n",
      "VIDEO FILES: ['D:/AN_local/AN664\\\\calibration\\\\CamA_Basler_acA720-520um__40048838__20230214_161645469.mp4', 'D:/AN_local/AN664\\\\calibration\\\\CamB_Basler_acA720-520um__40080140__20230214_161642576.mp4', 'D:/AN_local/AN664\\\\calibration\\\\CamC_Basler_acA720-520um__40048837__20230214_161640084.mp4']\n",
      "NAME CamA\n",
      "NAME CamB\n",
      "NAME CamC\n",
      "CAM_VIDEOS defaultdict(<class 'list'>, {'CamA': ['D:/AN_local/AN664\\\\calibration\\\\CamA_Basler_acA720-520um__40048838__20230214_161645469.mp4'], 'CamB': ['D:/AN_local/AN664\\\\calibration\\\\CamB_Basler_acA720-520um__40080140__20230214_161642576.mp4'], 'CamC': ['D:/AN_local/AN664\\\\calibration\\\\CamC_Basler_acA720-520um__40048837__20230214_161640084.mp4']})\n",
      "CAM_NAMES ['CamA', 'CamB', 'CamC']\n",
      "BOARD_VIDEOS [['D:/AN_local/AN664\\\\calibration\\\\CamA_Basler_acA720-520um__40048838__20230214_161645469.mp4'], ['D:/AN_local/AN664\\\\calibration\\\\CamB_Basler_acA720-520um__40080140__20230214_161642576.mp4'], ['D:/AN_local/AN664\\\\calibration\\\\CamC_Basler_acA720-520um__40048837__20230214_161640084.mp4']]\n",
      "D:/AN_local/AN664\\calibration\\CamA_Basler_acA720-520um__40048838__20230214_161645469.mp4\n"
     ]
    },
    {
     "name": "stderr",
     "output_type": "stream",
     "text": [
      "100%|██████████████████████████| 48997/48997 [01:33<00:00, 522.91it/s]\n"
     ]
    },
    {
     "name": "stdout",
     "output_type": "stream",
     "text": [
      "17458 boards detected\n",
      "D:/AN_local/AN664\\calibration\\CamB_Basler_acA720-520um__40080140__20230214_161642576.mp4\n"
     ]
    },
    {
     "name": "stderr",
     "output_type": "stream",
     "text": [
      "100%|██████████████████████████| 48998/48998 [01:32<00:00, 527.14it/s]\n"
     ]
    },
    {
     "name": "stdout",
     "output_type": "stream",
     "text": [
      "18442 boards detected\n",
      "D:/AN_local/AN664\\calibration\\CamC_Basler_acA720-520um__40048837__20230214_161640084.mp4\n"
     ]
    },
    {
     "name": "stderr",
     "output_type": "stream",
     "text": [
      "100%|██████████████████████████| 48998/48998 [01:32<00:00, 530.31it/s]\n"
     ]
    },
    {
     "name": "stdout",
     "output_type": "stream",
     "text": [
      "15657 boards detected\n",
      "defaultdict(<class 'int'>,\n",
      "            {('CamA', 'CamB'): 7414,\n",
      "             ('CamA', 'CamC'): 7699,\n",
      "             ('CamB', 'CamA'): 7414,\n",
      "             ('CamB', 'CamC'): 8297,\n",
      "             ('CamC', 'CamA'): 7699,\n",
      "             ('CamC', 'CamB'): 8297})\n",
      "INFO:numba.core.transforms:finding looplift candidates\n",
      "error:  0.3298394764300801\n",
      "n_samples: 100\n",
      "{(0, 1): (2936, array([0.1736024 , 0.47594656])),\n",
      " (0, 2): (2936, array([0.18304728, 0.47699463])),\n",
      " (1, 2): (2936, array([0.19847153, 0.55408572]))}\n",
      "error: 0.33, mu: 0.6, ratio: 0.800\n",
      "INFO:numba.core.transforms:finding looplift candidates\n",
      "INFO:numba.core.transforms:finding looplift candidates\n",
      "   Iteration     Total nfev        Cost      Cost reduction    Step norm     Optimality   \n",
      "       0              1         1.2157e+03                                    4.01e+04    \n",
      "       1              2         4.2112e+01      1.17e+03       1.13e+02       6.61e+03    \n",
      "       2              3         1.2819e+01      2.93e+01       1.03e+01       5.60e+00    \n",
      "       3              4         1.2170e+01      6.50e-01       2.39e+00       1.62e-01    \n",
      "       4              5         1.2169e+01      2.20e-04       2.31e-01       3.10e+00    \n",
      "`ftol` termination condition is satisfied.\n",
      "Function evaluations 5, initial cost 1.2157e+03, final cost 1.2169e+01, first-order optimality 3.10e+00.\n",
      "{(0, 1): (2940, array([0.06251761, 0.17128094])),\n",
      " (0, 2): (2940, array([0.06061349, 0.17005115])),\n",
      " (1, 2): (2940, array([0.06530607, 0.18304924]))}\n",
      "   Iteration     Total nfev        Cost      Cost reduction    Step norm     Optimality   \n",
      "       0              1         1.1569e+04                                    3.27e+04    \n",
      "       1              2         3.5509e+02      1.12e+04       3.04e+02       1.65e+04    \n",
      "       2              3         1.2460e+02      2.30e+02       3.42e+01       4.04e+00    \n",
      "       3              4         1.2030e+02      4.31e+00       6.73e+00       1.07e+00    \n",
      "       4              5         1.2028e+02      1.45e-02       5.51e-01       8.44e-01    \n",
      "       5              6         1.2028e+02      1.67e-04       9.69e-02       4.44e+00    \n",
      "`ftol` termination condition is satisfied.\n",
      "Function evaluations 6, initial cost 1.1569e+04, final cost 1.2028e+02, first-order optimality 4.44e+00.\n",
      "{(0, 1): (2940, array([0.05725954, 0.160847  ])),\n",
      " (0, 2): (2940, array([0.05561636, 0.15810057])),\n",
      " (1, 2): (2940, array([0.05949029, 0.16941831]))}\n",
      "error:  0.10986190646861008\n"
     ]
    }
   ],
   "source": [
    "pose_3d.calibrate()"
   ]
  },
  {
   "cell_type": "markdown",
   "id": "efef30df",
   "metadata": {},
   "source": [
    "## 2D Filters"
   ]
  },
  {
   "cell_type": "code",
   "execution_count": 3,
   "id": "2213960b",
   "metadata": {},
   "outputs": [
    {
     "name": "stdout",
     "output_type": "stream",
     "text": [
      "CAMERA NAMES ['Cam00', 'Cam01', 'Cam02']\n",
      "Processing ['Cam00_0000000230411.analysis.h5', 'Cam01_0000000230411.analysis.h5', 'Cam02_0000000230411.analysis.h5']\n"
     ]
    },
    {
     "ename": "KeyboardInterrupt",
     "evalue": "",
     "output_type": "error",
     "traceback": [
      "\u001b[1;31m---------------------------------------------------------------------------\u001b[0m",
      "\u001b[1;31mKeyboardInterrupt\u001b[0m                         Traceback (most recent call last)",
      "Cell \u001b[1;32mIn[3], line 1\u001b[0m\n\u001b[1;32m----> 1\u001b[0m \u001b[43mpose_3d\u001b[49m\u001b[38;5;241;43m.\u001b[39;49m\u001b[43mfilter_poses\u001b[49m\u001b[43m(\u001b[49m\u001b[43m)\u001b[49m\n",
      "File \u001b[1;32m~\\projects\\sleap-convert\\addons\\pose_3d.py:224\u001b[0m, in \u001b[0;36mfilter_poses\u001b[1;34m()\u001b[0m\n\u001b[0;32m    221\u001b[0m \u001b[38;5;250m\u001b[39m\u001b[38;5;124;03m\"\"\"Generate filtered .h5 files by applying 2D filters.\"\"\"\u001b[39;00m\n\u001b[0;32m    223\u001b[0m \u001b[38;5;28;01mfor\u001b[39;00m path \u001b[38;5;129;01min\u001b[39;00m config[\u001b[38;5;124m'\u001b[39m\u001b[38;5;124mpaths\u001b[39m\u001b[38;5;124m'\u001b[39m]:\n\u001b[1;32m--> 224\u001b[0m \t\u001b[43mfilter_session\u001b[49m\u001b[43m(\u001b[49m\u001b[43mpath\u001b[49m\u001b[43m)\u001b[49m\n",
      "File \u001b[1;32m~\\projects\\sleap-convert\\addons\\pose_3d.py:261\u001b[0m, in \u001b[0;36mfilter_session\u001b[1;34m(session_path)\u001b[0m\n\u001b[0;32m    258\u001b[0m \u001b[38;5;66;03m# Prediction scores for each point\u001b[39;00m\n\u001b[0;32m    259\u001b[0m point_scores \u001b[38;5;241m=\u001b[39m get_point_scores(join(predictions_h5_directory, cam_file))\n\u001b[1;32m--> 261\u001b[0m filtered_points, filtered_scores \u001b[38;5;241m=\u001b[39m \u001b[43mget_filter_poses\u001b[49m\u001b[43m(\u001b[49m\u001b[43mconfig\u001b[49m\u001b[43m,\u001b[49m\u001b[43m \u001b[49m\u001b[43mpose2d\u001b[49m\u001b[43m,\u001b[49m\u001b[43m \u001b[49m\u001b[43mpoint_scores\u001b[49m\u001b[43m)\u001b[49m\n\u001b[0;32m    263\u001b[0m \u001b[38;5;28;01mreturn\u001b[39;00m filtered_points\n\u001b[0;32m    265\u001b[0m \u001b[38;5;66;03m# Reshaping for exporting back to .h5\u001b[39;00m\n",
      "File \u001b[1;32m~\\projects\\sleap-convert\\addons\\filter.py:340\u001b[0m, in \u001b[0;36mget_filter_poses\u001b[1;34m(config, points_full, scores_full)\u001b[0m\n\u001b[0;32m    333\u001b[0m \u001b[38;5;28;01mdef\u001b[39;00m \u001b[38;5;21mget_filter_poses\u001b[39m(config, points_full, scores_full):\n\u001b[0;32m    334\u001b[0m     filter_func \u001b[38;5;241m=\u001b[39m {\n\u001b[0;32m    335\u001b[0m         \u001b[38;5;124m'\u001b[39m\u001b[38;5;124mmedian\u001b[39m\u001b[38;5;124m'\u001b[39m: filter_pose_medfilt,\n\u001b[0;32m    336\u001b[0m         \u001b[38;5;124m'\u001b[39m\u001b[38;5;124mviterbi\u001b[39m\u001b[38;5;124m'\u001b[39m: filter_pose_viterbi,\n\u001b[0;32m    337\u001b[0m         \u001b[38;5;124m'\u001b[39m\u001b[38;5;124mar\u001b[39m\u001b[38;5;124m'\u001b[39m: filter_pose_ar,\n\u001b[0;32m    338\u001b[0m     }\n\u001b[1;32m--> 340\u001b[0m     \u001b[38;5;28;01mreturn\u001b[39;00m \u001b[43mfilter_func\u001b[49m\u001b[43m[\u001b[49m\u001b[43mconfig\u001b[49m\u001b[43m[\u001b[49m\u001b[38;5;124;43m'\u001b[39;49m\u001b[38;5;124;43mfilter\u001b[39;49m\u001b[38;5;124;43m'\u001b[39;49m\u001b[43m]\u001b[49m\u001b[43m[\u001b[49m\u001b[38;5;124;43m'\u001b[39;49m\u001b[38;5;124;43mtype\u001b[39;49m\u001b[38;5;124;43m'\u001b[39;49m\u001b[43m]\u001b[49m\u001b[43m]\u001b[49m\u001b[43m(\u001b[49m\u001b[43mconfig\u001b[49m\u001b[43m,\u001b[49m\u001b[43m \u001b[49m\u001b[43mpoints_full\u001b[49m\u001b[43m,\u001b[49m\u001b[43m \u001b[49m\u001b[43mscores_full\u001b[49m\u001b[43m)\u001b[49m\n",
      "File \u001b[1;32m~\\projects\\sleap-convert\\addons\\filter.py:162\u001b[0m, in \u001b[0;36mfilter_pose_viterbi\u001b[1;34m(config, points_full, scores_full)\u001b[0m\n\u001b[0;32m    159\u001b[0m output_stride \u001b[38;5;241m=\u001b[39m predictor\u001b[38;5;241m.\u001b[39mconfmap_config\u001b[38;5;241m.\u001b[39mmodel\u001b[38;5;241m.\u001b[39mheads\u001b[38;5;241m.\u001b[39msingle_instance\u001b[38;5;241m.\u001b[39moutput_stride\n\u001b[0;32m    161\u001b[0m video \u001b[38;5;241m=\u001b[39m sleap\u001b[38;5;241m.\u001b[39mload_video(\u001b[38;5;124mR\u001b[39m\u001b[38;5;124m'\u001b[39m\u001b[38;5;124mD:\u001b[39m\u001b[38;5;124m\\\u001b[39m\u001b[38;5;124mAN_local\u001b[39m\u001b[38;5;124m\\\u001b[39m\u001b[38;5;124mAN664\u001b[39m\u001b[38;5;124m\\\u001b[39m\u001b[38;5;124m041023\u001b[39m\u001b[38;5;124m\\\u001b[39m\u001b[38;5;124mcam0\u001b[39m\u001b[38;5;124m\\\u001b[39m\u001b[38;5;124mCam00_230410_142351.avi\u001b[39m\u001b[38;5;124m'\u001b[39m)\n\u001b[1;32m--> 162\u001b[0m imgs \u001b[38;5;241m=\u001b[39m \u001b[43mvideo\u001b[49m\u001b[43m[\u001b[49m\u001b[38;5;241;43m0\u001b[39;49m\u001b[43m:\u001b[49m\u001b[38;5;241;43m15000\u001b[39;49m\u001b[43m]\u001b[49m\n\u001b[0;32m    164\u001b[0m predictions \u001b[38;5;241m=\u001b[39m predictor\u001b[38;5;241m.\u001b[39minference_model\u001b[38;5;241m.\u001b[39mpredict(imgs)\n\u001b[0;32m    165\u001b[0m confmaps \u001b[38;5;241m=\u001b[39m predictions[\u001b[38;5;124m'\u001b[39m\u001b[38;5;124mconfmaps\u001b[39m\u001b[38;5;124m'\u001b[39m]\n",
      "File \u001b[1;32m~\\anaconda3\\envs\\slpanipose4\\lib\\site-packages\\sleap\\io\\video.py:1155\u001b[0m, in \u001b[0;36mVideo.__getitem__\u001b[1;34m(self, idxs)\u001b[0m\n\u001b[0;32m   1153\u001b[0m     start, stop, step \u001b[38;5;241m=\u001b[39m idxs\u001b[38;5;241m.\u001b[39mindices(\u001b[38;5;28mself\u001b[39m\u001b[38;5;241m.\u001b[39mnum_frames)\n\u001b[0;32m   1154\u001b[0m     idxs \u001b[38;5;241m=\u001b[39m \u001b[38;5;28mrange\u001b[39m(start, stop, step)\n\u001b[1;32m-> 1155\u001b[0m \u001b[38;5;28;01mreturn\u001b[39;00m \u001b[38;5;28;43mself\u001b[39;49m\u001b[38;5;241;43m.\u001b[39;49m\u001b[43mget_frames\u001b[49m\u001b[43m(\u001b[49m\u001b[43midxs\u001b[49m\u001b[43m)\u001b[49m\n",
      "File \u001b[1;32m~\\anaconda3\\envs\\slpanipose4\\lib\\site-packages\\sleap\\io\\video.py:1117\u001b[0m, in \u001b[0;36mVideo.get_frames\u001b[1;34m(self, idxs)\u001b[0m\n\u001b[0;32m   1115\u001b[0m \u001b[38;5;28;01mif\u001b[39;00m np\u001b[38;5;241m.\u001b[39misscalar(idxs):\n\u001b[0;32m   1116\u001b[0m     idxs \u001b[38;5;241m=\u001b[39m [idxs]\n\u001b[1;32m-> 1117\u001b[0m \u001b[38;5;28;01mreturn\u001b[39;00m np\u001b[38;5;241m.\u001b[39mstack([\u001b[38;5;28mself\u001b[39m\u001b[38;5;241m.\u001b[39mget_frame(idx) \u001b[38;5;28;01mfor\u001b[39;00m idx \u001b[38;5;129;01min\u001b[39;00m idxs], axis\u001b[38;5;241m=\u001b[39m\u001b[38;5;241m0\u001b[39m)\n",
      "File \u001b[1;32m~\\anaconda3\\envs\\slpanipose4\\lib\\site-packages\\sleap\\io\\video.py:1117\u001b[0m, in \u001b[0;36m<listcomp>\u001b[1;34m(.0)\u001b[0m\n\u001b[0;32m   1115\u001b[0m \u001b[38;5;28;01mif\u001b[39;00m np\u001b[38;5;241m.\u001b[39misscalar(idxs):\n\u001b[0;32m   1116\u001b[0m     idxs \u001b[38;5;241m=\u001b[39m [idxs]\n\u001b[1;32m-> 1117\u001b[0m \u001b[38;5;28;01mreturn\u001b[39;00m np\u001b[38;5;241m.\u001b[39mstack([\u001b[38;5;28;43mself\u001b[39;49m\u001b[38;5;241;43m.\u001b[39;49m\u001b[43mget_frame\u001b[49m\u001b[43m(\u001b[49m\u001b[43midx\u001b[49m\u001b[43m)\u001b[49m \u001b[38;5;28;01mfor\u001b[39;00m idx \u001b[38;5;129;01min\u001b[39;00m idxs], axis\u001b[38;5;241m=\u001b[39m\u001b[38;5;241m0\u001b[39m)\n",
      "File \u001b[1;32m~\\anaconda3\\envs\\slpanipose4\\lib\\site-packages\\sleap\\io\\video.py:1104\u001b[0m, in \u001b[0;36mVideo.get_frame\u001b[1;34m(self, idx)\u001b[0m\n\u001b[0;32m   1094\u001b[0m \u001b[38;5;28;01mdef\u001b[39;00m \u001b[38;5;21mget_frame\u001b[39m(\u001b[38;5;28mself\u001b[39m, idx: \u001b[38;5;28mint\u001b[39m) \u001b[38;5;241m-\u001b[39m\u001b[38;5;241m>\u001b[39m np\u001b[38;5;241m.\u001b[39mndarray:\n\u001b[0;32m   1095\u001b[0m \u001b[38;5;250m    \u001b[39m\u001b[38;5;124;03m\"\"\"\u001b[39;00m\n\u001b[0;32m   1096\u001b[0m \u001b[38;5;124;03m    Return a single frame of video from the underlying video data.\u001b[39;00m\n\u001b[0;32m   1097\u001b[0m \n\u001b[1;32m   (...)\u001b[0m\n\u001b[0;32m   1102\u001b[0m \u001b[38;5;124;03m        The video frame with shape (height, width, channels)\u001b[39;00m\n\u001b[0;32m   1103\u001b[0m \u001b[38;5;124;03m    \"\"\"\u001b[39;00m\n\u001b[1;32m-> 1104\u001b[0m     \u001b[38;5;28;01mreturn\u001b[39;00m \u001b[38;5;28;43mself\u001b[39;49m\u001b[38;5;241;43m.\u001b[39;49m\u001b[43mbackend\u001b[49m\u001b[38;5;241;43m.\u001b[39;49m\u001b[43mget_frame\u001b[49m\u001b[43m(\u001b[49m\u001b[43midx\u001b[49m\u001b[43m)\u001b[49m\n",
      "File \u001b[1;32m~\\anaconda3\\envs\\slpanipose4\\lib\\site-packages\\sleap\\io\\video.py:493\u001b[0m, in \u001b[0;36mMediaVideo.get_frame\u001b[1;34m(self, idx, grayscale)\u001b[0m\n\u001b[0;32m    490\u001b[0m     \u001b[38;5;28;01mif\u001b[39;00m \u001b[38;5;28mself\u001b[39m\u001b[38;5;241m.\u001b[39m__reader\u001b[38;5;241m.\u001b[39mget(cv2\u001b[38;5;241m.\u001b[39mCAP_PROP_POS_FRAMES) \u001b[38;5;241m!=\u001b[39m idx:\n\u001b[0;32m    491\u001b[0m         \u001b[38;5;28mself\u001b[39m\u001b[38;5;241m.\u001b[39m__reader\u001b[38;5;241m.\u001b[39mset(cv2\u001b[38;5;241m.\u001b[39mCAP_PROP_POS_FRAMES, idx)\n\u001b[1;32m--> 493\u001b[0m     success, frame \u001b[38;5;241m=\u001b[39m \u001b[38;5;28;43mself\u001b[39;49m\u001b[38;5;241;43m.\u001b[39;49m\u001b[43m__reader\u001b[49m\u001b[38;5;241;43m.\u001b[39;49m\u001b[43mread\u001b[49m\u001b[43m(\u001b[49m\u001b[43m)\u001b[49m\n\u001b[0;32m    495\u001b[0m \u001b[38;5;28;01mif\u001b[39;00m \u001b[38;5;129;01mnot\u001b[39;00m success \u001b[38;5;129;01mor\u001b[39;00m frame \u001b[38;5;129;01mis\u001b[39;00m \u001b[38;5;28;01mNone\u001b[39;00m:\n\u001b[0;32m    496\u001b[0m     \u001b[38;5;28;01mraise\u001b[39;00m \u001b[38;5;167;01mKeyError\u001b[39;00m(\u001b[38;5;124mf\u001b[39m\u001b[38;5;124m\"\u001b[39m\u001b[38;5;124mUnable to load frame \u001b[39m\u001b[38;5;132;01m{\u001b[39;00midx\u001b[38;5;132;01m}\u001b[39;00m\u001b[38;5;124m from \u001b[39m\u001b[38;5;132;01m{\u001b[39;00m\u001b[38;5;28mself\u001b[39m\u001b[38;5;132;01m}\u001b[39;00m\u001b[38;5;124m.\u001b[39m\u001b[38;5;124m\"\u001b[39m)\n",
      "\u001b[1;31mKeyboardInterrupt\u001b[0m: "
     ]
    }
   ],
   "source": [
    "pose_3d.filter_poses()"
   ]
  },
  {
   "cell_type": "markdown",
   "id": "d951a1e4",
   "metadata": {},
   "source": [
    "## Triangulation"
   ]
  },
  {
   "cell_type": "code",
   "execution_count": 6,
   "id": "799dba72",
   "metadata": {},
   "outputs": [
    {
     "name": "stdout",
     "output_type": "stream",
     "text": [
      "DATA D:/AN_local/AN664\\041023\\predictions_h5\n",
      "CAMERA NAMES ['Cam00', 'Cam01', 'Cam02']\n",
      "CALIBRATION FILE D:/AN_local/AN664\\calibration\\calibration.toml\n",
      "Processing ['Cam00_230410_142351.analysis.h5', 'Cam01_230410_142351.analysis.h5', 'Cam02_230410_142351.analysis.h5']\n"
     ]
    },
    {
     "name": "stderr",
     "output_type": "stream",
     "text": [
      "100%|███████████████████████| 210000/210000 [00:30<00:00, 6892.41it/s]"
     ]
    },
    {
     "name": "stdout",
     "output_type": "stream",
     "text": [
      "INFO:numba.core.transforms:finding looplift candidates\n"
     ]
    },
    {
     "name": "stderr",
     "output_type": "stream",
     "text": [
      "\n"
     ]
    },
    {
     "name": "stdout",
     "output_type": "stream",
     "text": [
      "scores_proj (7, 30000)\n",
      "Saving pose 3d to D:/AN_local/AN664\\041023\\pose3d\\Cam00_230410_142351.analysis.mat\n"
     ]
    },
    {
     "name": "stderr",
     "output_type": "stream",
     "text": [
      "C:\\Users\\MNL-E\\anaconda3\\envs\\slpanipose4\\lib\\site-packages\\scipy\\io\\matlab\\_mio5.py:703: FutureWarning: elementwise comparison failed; returning scalar instead, but in the future will perform elementwise comparison\n",
      "  if arr.size == 0 or np.all(arr == ''):\n"
     ]
    }
   ],
   "source": [
    "pose_3d.triangulate_poses()"
   ]
  },
  {
   "cell_type": "code",
   "execution_count": 7,
   "id": "bed64268",
   "metadata": {},
   "outputs": [
    {
     "name": "stderr",
     "output_type": "stream",
     "text": [
      "100%|██████████████████████████| 30000/30000 [00:56<00:00, 532.09it/s]\n"
     ]
    }
   ],
   "source": [
    "pose_3d.label_2d(r\"D:\\AN_local\\AN664\\041023\\predictions_h5\\Cam00_230410_142351.analysis.h5\",\n",
    "                 r\"D:\\AN_local\\AN664\\041023\\cam0\\Cam00_230410_142351.avi\",\n",
    "                 \"labeledcamorig00_230410.mp4\")"
   ]
  },
  {
   "cell_type": "code",
   "execution_count": 4,
   "id": "71ed6af9",
   "metadata": {},
   "outputs": [
    {
     "ename": "PackageNotFoundError",
     "evalue": "opencv-python",
     "output_type": "error",
     "traceback": [
      "\u001b[1;31m---------------------------------------------------------------------------\u001b[0m",
      "\u001b[1;31mPackageNotFoundError\u001b[0m                      Traceback (most recent call last)",
      "Cell \u001b[1;32mIn[4], line 3\u001b[0m\n\u001b[0;32m      1\u001b[0m \u001b[38;5;28;01mfrom\u001b[39;00m \u001b[38;5;21;01mimportlib\u001b[39;00m\u001b[38;5;21;01m.\u001b[39;00m\u001b[38;5;21;01mmetadata\u001b[39;00m \u001b[38;5;28;01mimport\u001b[39;00m version\n\u001b[0;32m      2\u001b[0m version(\u001b[38;5;124m'\u001b[39m\u001b[38;5;124mstatsmodels\u001b[39m\u001b[38;5;124m'\u001b[39m)\n\u001b[1;32m----> 3\u001b[0m \u001b[43mversion\u001b[49m\u001b[43m(\u001b[49m\u001b[38;5;124;43m'\u001b[39;49m\u001b[38;5;124;43mopencv-python\u001b[39;49m\u001b[38;5;124;43m'\u001b[39;49m\u001b[43m)\u001b[49m\n",
      "File \u001b[1;32m~\\anaconda3\\envs\\slpanipose4\\lib\\importlib\\metadata.py:530\u001b[0m, in \u001b[0;36mversion\u001b[1;34m(distribution_name)\u001b[0m\n\u001b[0;32m    523\u001b[0m \u001b[38;5;28;01mdef\u001b[39;00m \u001b[38;5;21mversion\u001b[39m(distribution_name):\n\u001b[0;32m    524\u001b[0m \u001b[38;5;250m    \u001b[39m\u001b[38;5;124;03m\"\"\"Get the version string for the named package.\u001b[39;00m\n\u001b[0;32m    525\u001b[0m \n\u001b[0;32m    526\u001b[0m \u001b[38;5;124;03m    :param distribution_name: The name of the distribution package to query.\u001b[39;00m\n\u001b[0;32m    527\u001b[0m \u001b[38;5;124;03m    :return: The version string for the package as defined in the package's\u001b[39;00m\n\u001b[0;32m    528\u001b[0m \u001b[38;5;124;03m        \"Version\" metadata key.\u001b[39;00m\n\u001b[0;32m    529\u001b[0m \u001b[38;5;124;03m    \"\"\"\u001b[39;00m\n\u001b[1;32m--> 530\u001b[0m     \u001b[38;5;28;01mreturn\u001b[39;00m \u001b[43mdistribution\u001b[49m\u001b[43m(\u001b[49m\u001b[43mdistribution_name\u001b[49m\u001b[43m)\u001b[49m\u001b[38;5;241m.\u001b[39mversion\n",
      "File \u001b[1;32m~\\anaconda3\\envs\\slpanipose4\\lib\\importlib\\metadata.py:503\u001b[0m, in \u001b[0;36mdistribution\u001b[1;34m(distribution_name)\u001b[0m\n\u001b[0;32m    497\u001b[0m \u001b[38;5;28;01mdef\u001b[39;00m \u001b[38;5;21mdistribution\u001b[39m(distribution_name):\n\u001b[0;32m    498\u001b[0m \u001b[38;5;250m    \u001b[39m\u001b[38;5;124;03m\"\"\"Get the ``Distribution`` instance for the named package.\u001b[39;00m\n\u001b[0;32m    499\u001b[0m \n\u001b[0;32m    500\u001b[0m \u001b[38;5;124;03m    :param distribution_name: The name of the distribution package as a string.\u001b[39;00m\n\u001b[0;32m    501\u001b[0m \u001b[38;5;124;03m    :return: A ``Distribution`` instance (or subclass thereof).\u001b[39;00m\n\u001b[0;32m    502\u001b[0m \u001b[38;5;124;03m    \"\"\"\u001b[39;00m\n\u001b[1;32m--> 503\u001b[0m     \u001b[38;5;28;01mreturn\u001b[39;00m \u001b[43mDistribution\u001b[49m\u001b[38;5;241;43m.\u001b[39;49m\u001b[43mfrom_name\u001b[49m\u001b[43m(\u001b[49m\u001b[43mdistribution_name\u001b[49m\u001b[43m)\u001b[49m\n",
      "File \u001b[1;32m~\\anaconda3\\envs\\slpanipose4\\lib\\importlib\\metadata.py:177\u001b[0m, in \u001b[0;36mDistribution.from_name\u001b[1;34m(cls, name)\u001b[0m\n\u001b[0;32m    175\u001b[0m         \u001b[38;5;28;01mreturn\u001b[39;00m dist\n\u001b[0;32m    176\u001b[0m \u001b[38;5;28;01melse\u001b[39;00m:\n\u001b[1;32m--> 177\u001b[0m     \u001b[38;5;28;01mraise\u001b[39;00m PackageNotFoundError(name)\n",
      "\u001b[1;31mPackageNotFoundError\u001b[0m: opencv-python"
     ]
    }
   ],
   "source": [
    "from importlib.metadata import version\n",
    "version('statsmodels')\n",
    "version('opencv-python')"
   ]
  },
  {
   "cell_type": "code",
   "execution_count": 2,
   "id": "8d4a4a64",
   "metadata": {},
   "outputs": [],
   "source": [
    "from cv2 import aruco"
   ]
  },
  {
   "cell_type": "code",
   "execution_count": 3,
   "id": "cbb06644",
   "metadata": {},
   "outputs": [
    {
     "name": "stdout",
     "output_type": "stream",
     "text": [
      "(15000, 272, 272, 7)\n",
      "(15000, 7, 20, 3)\n",
      "(15000, 7, 20, 3)\n",
      "[[[[256.         224.           0.8364182 ]\n",
      "   [258.         224.           0.82975495]\n",
      "   [256.         226.           0.81347156]\n",
      "   ...\n",
      "   [262.         224.           0.5744324 ]\n",
      "   [252.         226.           0.5657542 ]\n",
      "   [256.         220.           0.56414443]]\n",
      "\n",
      "  [[238.         310.           0.9291853 ]\n",
      "   [236.         310.           0.8786099 ]\n",
      "   [238.         308.           0.87179434]\n",
      "   ...\n",
      "   [242.         308.           0.64621174]\n",
      "   [242.         312.           0.6457816 ]\n",
      "   [240.         314.           0.6454348 ]]\n",
      "\n",
      "  [[318.         336.           0.8797889 ]\n",
      "   [316.         336.           0.85838103]\n",
      "   [318.         334.           0.8331961 ]\n",
      "   ...\n",
      "   [322.         336.           0.6078511 ]\n",
      "   [320.         340.           0.60585564]\n",
      "   [322.         334.           0.5680873 ]]\n",
      "\n",
      "  ...\n",
      "\n",
      "  [[466.         154.           0.97694916]\n",
      "   [466.         156.           0.9449172 ]\n",
      "   [468.         154.           0.92532396]\n",
      "   ...\n",
      "   [466.         150.           0.62969214]\n",
      "   [462.         152.           0.62830997]\n",
      "   [468.         150.           0.5976015 ]]\n",
      "\n",
      "  [[346.         366.           0.8736854 ]\n",
      "   [348.         364.           0.85727966]\n",
      "   [346.         364.           0.85675144]\n",
      "   ...\n",
      "   [350.         368.           0.61085284]\n",
      "   [346.         360.           0.5858897 ]\n",
      "   [350.         360.           0.57644874]]\n",
      "\n",
      "  [[432.         222.           1.0029176 ]\n",
      "   [430.         222.           0.97958213]\n",
      "   [432.         224.           0.95575386]\n",
      "   ...\n",
      "   [436.         222.           0.6694767 ]\n",
      "   [428.         226.           0.63317686]\n",
      "   [436.         224.           0.6300839 ]]]\n",
      "\n",
      "\n",
      " [[[256.         224.           0.8472453 ]\n",
      "   [258.         224.           0.83860576]\n",
      "   [256.         226.           0.8171762 ]\n",
      "   ...\n",
      "   [258.         220.           0.5794138 ]\n",
      "   [260.         228.           0.57534313]\n",
      "   [262.         224.           0.57508   ]]\n",
      "\n",
      "  [[238.         310.           0.92468554]\n",
      "   [236.         310.           0.8704522 ]\n",
      "   [238.         308.           0.86413765]\n",
      "   ...\n",
      "   [234.         312.           0.65307915]\n",
      "   [236.         314.           0.6503563 ]\n",
      "   [242.         308.           0.64900726]]\n",
      "\n",
      "  [[318.         336.           0.8913123 ]\n",
      "   [316.         336.           0.85968447]\n",
      "   [318.         334.           0.84252983]\n",
      "   ...\n",
      "   [322.         336.           0.63033265]\n",
      "   [320.         340.           0.62335587]\n",
      "   [322.         334.           0.59102184]]\n",
      "\n",
      "  ...\n",
      "\n",
      "  [[466.         154.           0.9676706 ]\n",
      "   [466.         156.           0.9472579 ]\n",
      "   [468.         154.           0.91699076]\n",
      "   ...\n",
      "   [462.         152.           0.6112737 ]\n",
      "   [466.         150.           0.6088137 ]\n",
      "   [470.         158.           0.58904886]]\n",
      "\n",
      "  [[346.         366.           0.8614649 ]\n",
      "   [348.         366.           0.85582554]\n",
      "   [348.         364.           0.852909  ]\n",
      "   ...\n",
      "   [342.         366.           0.58385074]\n",
      "   [348.         370.           0.5796829 ]\n",
      "   [346.         370.           0.576054  ]]\n",
      "\n",
      "  [[432.         222.           1.0027941 ]\n",
      "   [430.         222.           0.9718387 ]\n",
      "   [432.         224.           0.94320995]\n",
      "   ...\n",
      "   [436.         222.           0.6754273 ]\n",
      "   [436.         224.           0.6296904 ]\n",
      "   [434.         218.           0.6280154 ]]]\n",
      "\n",
      "\n",
      " [[[258.         224.           0.847416  ]\n",
      "   [256.         224.           0.84150696]\n",
      "   [258.         226.           0.8146257 ]\n",
      "   ...\n",
      "   [254.         228.           0.58300227]\n",
      "   [256.         220.           0.57912135]\n",
      "   [262.         226.           0.5674235 ]]\n",
      "\n",
      "  [[238.         310.           0.9321522 ]\n",
      "   [240.         310.           0.8805328 ]\n",
      "   [238.         308.           0.8706522 ]\n",
      "   ...\n",
      "   [236.         306.           0.6559988 ]\n",
      "   [236.         314.           0.64765793]\n",
      "   [240.         306.           0.64705193]]\n",
      "\n",
      "  [[318.         336.           0.88728166]\n",
      "   [316.         336.           0.8467855 ]\n",
      "   [318.         334.           0.8354316 ]\n",
      "   ...\n",
      "   [320.         332.           0.63147897]\n",
      "   [320.         340.           0.629823  ]\n",
      "   [322.         334.           0.598904  ]]\n",
      "\n",
      "  ...\n",
      "\n",
      "  [[466.         154.           0.9641369 ]\n",
      "   [466.         156.           0.949977  ]\n",
      "   [468.         154.           0.91509   ]\n",
      "   ...\n",
      "   [462.         152.           0.6034481 ]\n",
      "   [466.         150.           0.59979314]\n",
      "   [470.         158.           0.5957672 ]]\n",
      "\n",
      "  [[348.         366.           0.8564425 ]\n",
      "   [346.         366.           0.8550591 ]\n",
      "   [348.         364.           0.8522821 ]\n",
      "   ...\n",
      "   [348.         370.           0.58339065]\n",
      "   [350.         360.           0.5768066 ]\n",
      "   [346.         370.           0.57501155]]\n",
      "\n",
      "  [[432.         222.           0.9998753 ]\n",
      "   [430.         222.           0.96814   ]\n",
      "   [432.         224.           0.93779975]\n",
      "   ...\n",
      "   [436.         222.           0.6727873 ]\n",
      "   [434.         218.           0.6282326 ]\n",
      "   [436.         224.           0.6253357 ]]]\n",
      "\n",
      "\n",
      " ...\n",
      "\n",
      "\n",
      " [[[262.         220.           0.9046922 ]\n",
      "   [260.         220.           0.9003532 ]\n",
      "   [260.         218.           0.86376   ]\n",
      "   ...\n",
      "   [266.         220.           0.62284404]\n",
      "   [264.         224.           0.6035868 ]\n",
      "   [256.         220.           0.59944373]]\n",
      "\n",
      "  [[242.         314.           0.8786673 ]\n",
      "   [242.         316.           0.8371777 ]\n",
      "   [240.         314.           0.8234775 ]\n",
      "   ...\n",
      "   [238.         312.           0.6306199 ]\n",
      "   [238.         316.           0.6171737 ]\n",
      "   [246.         312.           0.5870463 ]]\n",
      "\n",
      "  [[326.         342.           0.9540389 ]\n",
      "   [324.         342.           0.9493336 ]\n",
      "   [326.         340.           0.9411008 ]\n",
      "   ...\n",
      "   [324.         346.           0.6647005 ]\n",
      "   [326.         336.           0.6498218 ]\n",
      "   [330.         342.           0.6376977 ]]\n",
      "\n",
      "  ...\n",
      "\n",
      "  [[466.         160.           0.9658432 ]\n",
      "   [466.         158.           0.9383655 ]\n",
      "   [468.         160.           0.91999245]\n",
      "   ...\n",
      "   [466.         164.           0.6485569 ]\n",
      "   [470.         156.           0.63118947]\n",
      "   [462.         162.           0.6222589 ]]\n",
      "\n",
      "  [[362.         366.           0.86565584]\n",
      "   [362.         368.           0.8654838 ]\n",
      "   [364.         366.           0.8292654 ]\n",
      "   ...\n",
      "   [362.         362.           0.6247735 ]\n",
      "   [364.         362.           0.59454376]\n",
      "   [358.         364.           0.58934546]]\n",
      "\n",
      "  [[432.         222.           1.0411271 ]\n",
      "   [432.         224.           1.0120374 ]\n",
      "   [430.         222.           0.9969748 ]\n",
      "   ...\n",
      "   [432.         218.           0.698304  ]\n",
      "   [428.         226.           0.68213814]\n",
      "   [430.         218.           0.67075634]]]\n",
      "\n",
      "\n",
      " [[[262.         220.           0.90112346]\n",
      "   [260.         220.           0.89870137]\n",
      "   [260.         218.           0.8654557 ]\n",
      "   ...\n",
      "   [266.         220.           0.6123009 ]\n",
      "   [256.         220.           0.5977477 ]\n",
      "   [264.         224.           0.58770114]]\n",
      "\n",
      "  [[242.         314.           0.87718964]\n",
      "   [242.         316.           0.83053946]\n",
      "   [240.         314.           0.8228541 ]\n",
      "   ...\n",
      "   [240.         318.           0.63170654]\n",
      "   [238.         316.           0.61259884]\n",
      "   [246.         312.           0.59197044]]\n",
      "\n",
      "  [[324.         342.           0.949098  ]\n",
      "   [326.         342.           0.94689935]\n",
      "   [326.         340.           0.9372301 ]\n",
      "   ...\n",
      "   [324.         346.           0.65968716]\n",
      "   [326.         336.           0.65253794]\n",
      "   [324.         336.           0.63021326]]\n",
      "\n",
      "  ...\n",
      "\n",
      "  [[466.         160.           0.9651037 ]\n",
      "   [466.         158.           0.9419771 ]\n",
      "   [468.         160.           0.9191528 ]\n",
      "   ...\n",
      "   [466.         164.           0.63953584]\n",
      "   [470.         156.           0.63673645]\n",
      "   [462.         162.           0.6191966 ]]\n",
      "\n",
      "  [[362.         366.           0.8754373 ]\n",
      "   [362.         368.           0.8720831 ]\n",
      "   [364.         366.           0.83822316]\n",
      "   ...\n",
      "   [362.         362.           0.6310254 ]\n",
      "   [364.         362.           0.60221046]\n",
      "   [358.         364.           0.5968825 ]]\n",
      "\n",
      "  [[432.         222.           1.0511296 ]\n",
      "   [432.         224.           1.0167292 ]\n",
      "   [430.         222.           0.9998379 ]\n",
      "   ...\n",
      "   [432.         218.           0.7078965 ]\n",
      "   [430.         218.           0.6759694 ]\n",
      "   [428.         226.           0.67459786]]]\n",
      "\n",
      "\n",
      " [[[260.         220.           0.91108656]\n",
      "   [262.         220.           0.8919491 ]\n",
      "   [260.         218.           0.871499  ]\n",
      "   ...\n",
      "   [256.         220.           0.6334962 ]\n",
      "   [256.         218.           0.61707944]\n",
      "   [258.         224.           0.58554226]]\n",
      "\n",
      "  [[242.         314.           0.8790978 ]\n",
      "   [242.         316.           0.83419216]\n",
      "   [240.         314.           0.83039576]\n",
      "   ...\n",
      "   [246.         316.           0.63534224]\n",
      "   [238.         316.           0.62468857]\n",
      "   [244.         310.           0.5839323 ]]\n",
      "\n",
      "  [[324.         342.           0.93796486]\n",
      "   [326.         342.           0.9367202 ]\n",
      "   [326.         340.           0.9292262 ]\n",
      "   ...\n",
      "   [326.         336.           0.651984  ]\n",
      "   [324.         346.           0.6457187 ]\n",
      "   [324.         336.           0.62901264]]\n",
      "\n",
      "  ...\n",
      "\n",
      "  [[466.         160.           0.9641973 ]\n",
      "   [466.         158.           0.9450522 ]\n",
      "   [468.         160.           0.9138246 ]\n",
      "   ...\n",
      "   [470.         162.           0.6334347 ]\n",
      "   [466.         164.           0.632     ]\n",
      "   [462.         162.           0.62051725]]\n",
      "\n",
      "  [[362.         366.           0.88589865]\n",
      "   [362.         368.           0.8782665 ]\n",
      "   [364.         366.           0.85011333]\n",
      "   ...\n",
      "   [362.         362.           0.6388934 ]\n",
      "   [364.         362.           0.61221886]\n",
      "   [358.         364.           0.60379094]]\n",
      "\n",
      "  [[432.         222.           1.0564262 ]\n",
      "   [432.         224.           1.0220236 ]\n",
      "   [430.         222.           1.0010433 ]\n",
      "   ...\n",
      "   [432.         218.           0.7144657 ]\n",
      "   [436.         220.           0.6807115 ]\n",
      "   [430.         218.           0.6804554 ]]]]\n"
     ]
    },
    {
     "name": "stderr",
     "output_type": "stream",
     "text": [
      "7it [00:36,  5.21s/it]\n"
     ]
    }
   ],
   "source": [
    "import filter\n",
    "import h5py\n",
    "\n",
    "with h5py.File(r\"D:\\AN_local\\AN664\\041023\\predictions_h5\\Cam00_230410_142351.analysis.h5\", 'r') as f:\n",
    "    p = f['tracks'][:].T\n",
    "fp, _ = filter.filter_pose_viterbi(pose_3d.config, [], [])\n",
    "    "
   ]
  },
  {
   "cell_type": "code",
   "execution_count": 6,
   "id": "678ae101",
   "metadata": {},
   "outputs": [
    {
     "data": {
      "text/plain": [
       "[<matplotlib.lines.Line2D at 0x210806024c0>]"
      ]
     },
     "execution_count": 6,
     "metadata": {},
     "output_type": "execute_result"
    },
    {
     "data": {
      "image/png": "[encoded data removed]",
      "text/plain": [
       "<Figure size 640x480 with 1 Axes>"
      ]
     },
     "metadata": {},
     "output_type": "display_data"
    }
   ],
   "source": [
    "import matplotlib.pyplot as plt\n",
    "# plt.xlim([5000,10000])\n",
    "plt.plot(p[:,0,0,0])\n",
    "plt.plot(fp[:,0,0])"
   ]
  },
  {
   "cell_type": "code",
   "execution_count": 5,
   "id": "eeab57c0",
   "metadata": {},
   "outputs": [
    {
     "data": {
      "text/plain": [
       "[<matplotlib.lines.Line2D at 0x20c72155be0>]"
      ]
     },
     "execution_count": 5,
     "metadata": {},
     "output_type": "execute_result"
    },
    {
     "data": {
      "image/png": "[encoded data removed]",
      "text/plain": [
       "<Figure size 640x480 with 1 Axes>"
      ]
     },
     "metadata": {},
     "output_type": "display_data"
    }
   ],
   "source": [
    "plt.plot(fp[:,0,0])"
   ]
  },
  {
   "cell_type": "code",
   "execution_count": null,
   "id": "58f61303",
   "metadata": {},
   "outputs": [],
   "source": []
  },
  {
   "cell_type": "code",
   "execution_count": null,
   "id": "7353f437",
   "metadata": {},
   "outputs": [],
   "source": []
  }
 ],
 "metadata": {
  "kernelspec": {
   "display_name": "Python 3 (ipykernel)",
   "language": "python",
   "name": "python3"
  },
  "language_info": {
   "codemirror_mode": {
    "name": "ipython",
    "version": 3
   },
   "file_extension": ".py",
   "mimetype": "text/x-python",
   "name": "python",
   "nbconvert_exporter": "python",
   "pygments_lexer": "ipython3",
   "version": "3.8.17"
  }
 },
 "nbformat": 4,
 "nbformat_minor": 5
}
