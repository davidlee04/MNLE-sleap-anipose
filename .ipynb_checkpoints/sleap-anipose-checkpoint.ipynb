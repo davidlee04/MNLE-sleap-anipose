{
 "cells": [
  {
   "cell_type": "markdown",
   "id": "3d3fe45f",
   "metadata": {},
   "source": [
    "# SLEAP-Anipose"
   ]
  },
  {
   "cell_type": "markdown",
   "id": "864a8cb5",
   "metadata": {},
   "source": [
    "## Imports"
   ]
  },
  {
   "cell_type": "code",
   "execution_count": null,
   "id": "c3607a96",
   "metadata": {
    "scrolled": true
   },
   "outputs": [],
   "source": [
    "import pose_3d"
   ]
  },
  {
   "cell_type": "markdown",
   "id": "2df8142a",
   "metadata": {},
   "source": [
    "## Specify Project Directory"
   ]
  },
  {
   "cell_type": "code",
   "execution_count": null,
   "id": "9c11493b",
   "metadata": {
    "scrolled": true
   },
   "outputs": [],
   "source": [
    "pose_3d.process_config('D:/AN_local/AN664')"
   ]
  },
  {
   "cell_type": "markdown",
   "id": "67ce1216",
   "metadata": {},
   "source": [
    "## Conversion"
   ]
  },
  {
   "cell_type": "code",
   "execution_count": null,
   "id": "99cee3aa",
   "metadata": {},
   "outputs": [],
   "source": [
    "pose_3d.convert("
   ]
  },
  {
   "cell_type": "markdown",
   "id": "37a23b3a",
   "metadata": {},
   "source": [
    "## Calibration"
   ]
  },
  {
   "cell_type": "code",
   "execution_count": null,
   "id": "593f99c4",
   "metadata": {},
   "outputs": [],
   "source": [
    "pose_3d.calibrate()"
   ]
  },
  {
   "cell_type": "markdown",
   "id": "2238f9e4",
   "metadata": {},
   "source": [
    "## 2D Filters"
   ]
  },
  {
   "cell_type": "code",
   "execution_count": null,
   "id": "83a0bb64",
   "metadata": {},
   "outputs": [],
   "source": [
    "pose_3d.filter_poses()"
   ]
  },
  {
   "cell_type": "markdown",
   "id": "272d3672",
   "metadata": {},
   "source": [
    "## Triangulation"
   ]
  },
  {
   "cell_type": "code",
   "execution_count": null,
   "id": "440c6ff0",
   "metadata": {},
   "outputs": [],
   "source": [
    "pose_3d.triangulate_poses()"
   ]
  }
 ],
 "metadata": {
  "kernelspec": {
   "display_name": "Python 3 (ipykernel)",
   "language": "python",
   "name": "python3"
  },
  "language_info": {
   "codemirror_mode": {
    "name": "ipython",
    "version": 3
   },
   "file_extension": ".py",
   "mimetype": "text/x-python",
   "name": "python",
   "nbconvert_exporter": "python",
   "pygments_lexer": "ipython3",
   "version": "3.7.12"
  }
 },
 "nbformat": 4,
 "nbformat_minor": 5
}
