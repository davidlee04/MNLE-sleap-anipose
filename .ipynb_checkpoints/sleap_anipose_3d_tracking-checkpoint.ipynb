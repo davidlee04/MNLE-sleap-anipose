{
 "cells": [
  {
   "cell_type": "markdown",
   "id": "b70a1569-b042-4bfd-b05c-9a6f8ba572fa",
   "metadata": {},
   "source": [
    "In this notebook we cover how to triangulate the 3D locations of animals using [anipose](https://anipose.readthedocs.io/en/latest/index.html) and [SLEAP](https://sleap.ai/). <br>\n",
    "We start with the tracked 2D locations of the animals, stored in separate hdf5 files for each camera view, along with the videos of the calibration board. <br>\n",
    "We calibrate the camera parameters using th| calibration board videos, and then use those parameters in conjunction with our tracked 2D locations to derive the 3D points. "
   ]
  },
  {
   "cell_type": "markdown",
   "id": "e376fe23-c23e-4a0f-9216-8214de9e6f3c",
   "metadata": {},
   "source": [
    "# Imports"
   ]
  },
  {
   "cell_type": "code",
   "execution_count": 1,
   "id": "0d626ba5-7975-4f8f-b29e-598a8db55a2f",
   "metadata": {
    "scrolled": true
   },
   "outputs": [],
   "source": [
    "# Generic imports "
   ]
  },
  {
   "cell_type": "code",
   "execution_count": 1,
   "id": "5078fbe2-9e86-461a-8600-783a6a65f645",
   "metadata": {
    "scrolled": true
   },
   "outputs": [],
   "source": [
    "import numpy as np \n",
    "import matplotlib.pyplot as plt \n",
    "import h5py "
   ]
  },
  {
   "cell_type": "code",
   "execution_count": 2,
   "id": "8d42c2be-edf6-4362-87d2-d23a59fd6325",
   "metadata": {
    "scrolled": true
   },
   "outputs": [],
   "source": [
    "# SLEAP \n",
    "import importlib.util\n",
    "\n",
    "spec = importlib.util.find_spec('sleap')\n",
    "if spec is None:\n",
    "    #print(package_name +\" is not installed\")\n",
    "    !pip install sleap"
   ]
  },
  {
   "cell_type": "code",
   "execution_count": 6,
   "id": "26253e44-e1af-4fa5-accb-f62f0138a463",
   "metadata": {},
   "outputs": [
    {
     "name": "stdout",
     "output_type": "stream",
     "text": [
      "SLEAP: 1.2.6\n",
      "TensorFlow: 2.6.3\n",
      "Numpy: 1.19.5\n",
      "Python: 3.7.12\n",
      "OS: Windows-10-10.0.22621-SP0\n"
     ]
    }
   ],
   "source": [
    "import sleap\n",
    "sleap.versions()"
   ]
  },
  {
   "cell_type": "code",
   "execution_count": 3,
   "id": "28054925-5e55-4bc8-aa12-9eeb3c569ba1",
   "metadata": {
    "scrolled": true
   },
   "outputs": [],
   "source": [
    "# Aniposelib \n",
    "spec = importlib.util.find_spec('aniposelib')\n",
    "if spec is None:\n",
    "    #print(package_name +\" is not installed\")\n",
    "    !python -m pip install --user aniposelib"
   ]
  },
  {
   "cell_type": "code",
   "execution_count": 4,
   "id": "5b9edc84-dc55-4ad3-98fb-e7afec510356",
   "metadata": {
    "scrolled": true
   },
   "outputs": [],
   "source": [
    "from aniposelib.boards import CharucoBoard, Checkerboard\n",
    "from aniposelib.cameras import Camera, CameraGroup\n",
    "from aniposelib.utils import load_pose2d_fnames"
   ]
  },
  {
   "cell_type": "code",
   "execution_count": 5,
   "id": "ab06bca3",
   "metadata": {},
   "outputs": [],
   "source": [
    "import preprocessing as pre"
   ]
  },
  {
   "cell_type": "markdown",
   "id": "12a35419-a5f8-495f-9fc5-b059ee7a2a72",
   "metadata": {},
   "source": [
    "# Loading Data"
   ]
  },
  {
   "cell_type": "code",
   "execution_count": 8,
   "id": "4ce16c7c-c44c-42e6-adc9-f27511de764b",
   "metadata": {},
   "outputs": [],
   "source": [
    "analysis_files = ['D:\\Ayesha_local\\Ayesha\\RP_SLEAP_trainingVideos\\RP_SLEAP_trainingVideos_H5\\CFL10_03142022_saline_31_13-50-25_cam1.analysis.h5',\n",
    "                  'D:\\Ayesha_local\\Ayesha\\RP_SLEAP_trainingVideos\\RP_SLEAP_trainingVideos_H5\\CFL10_03142022_saline_31_13-50-25_cam2.analysis.h5',\n",
    "                 'D:\\Ayesha_local\\Ayesha\\RP_SLEAP_trainingVideos\\RP_SLEAP_trainingVideos_H5\\CFL10_03142022_saline_31_13-50-25_cam3.analysis.h5']"
   ]
  },
  {
   "cell_type": "code",
   "execution_count": 9,
   "id": "2f1c9888-bab6-4d52-8209-4564cb288fe0",
   "metadata": {},
   "outputs": [],
   "source": [
    "SAMPLE_START = 100\n",
    "SAMPLE_END  = 500"
   ]
  },
  {
   "cell_type": "code",
   "execution_count": 10,
   "id": "c01fb394-9583-4fa9-bad0-913d9d32cf8b",
   "metadata": {
    "scrolled": true
   },
   "outputs": [
    {
     "ename": "ValueError",
     "evalue": "all input arrays must have the same shape",
     "output_type": "error",
     "traceback": [
      "\u001b[1;31m---------------------------------------------------------------------------\u001b[0m",
      "\u001b[1;31mValueError\u001b[0m                                Traceback (most recent call last)",
      "\u001b[1;32m~\\AppData\\Local\\Temp\\ipykernel_12748\\562082566.py\u001b[0m in \u001b[0;36m<module>\u001b[1;34m\u001b[0m\n\u001b[0;32m      1\u001b[0m \u001b[0mgt\u001b[0m \u001b[1;33m=\u001b[0m \u001b[1;33m[\u001b[0m\u001b[0mpre\u001b[0m\u001b[1;33m.\u001b[0m\u001b[0mget_2d_poses\u001b[0m\u001b[1;33m(\u001b[0m\u001b[0mfile\u001b[0m\u001b[1;33m)\u001b[0m \u001b[1;32mfor\u001b[0m \u001b[0mfile\u001b[0m \u001b[1;32min\u001b[0m \u001b[0manalysis_files\u001b[0m\u001b[1;33m]\u001b[0m\u001b[1;33m\u001b[0m\u001b[1;33m\u001b[0m\u001b[0m\n\u001b[1;32m----> 2\u001b[1;33m \u001b[0mgt\u001b[0m \u001b[1;33m=\u001b[0m \u001b[0mnp\u001b[0m\u001b[1;33m.\u001b[0m\u001b[0mstack\u001b[0m\u001b[1;33m(\u001b[0m\u001b[0mgt\u001b[0m\u001b[1;33m,\u001b[0m \u001b[0maxis\u001b[0m\u001b[1;33m=\u001b[0m\u001b[1;36m0\u001b[0m\u001b[1;33m)\u001b[0m\u001b[1;33m[\u001b[0m\u001b[1;33m:\u001b[0m\u001b[1;33m,\u001b[0m \u001b[0mSAMPLE_START\u001b[0m\u001b[1;33m:\u001b[0m\u001b[0mSAMPLE_END\u001b[0m\u001b[1;33m]\u001b[0m\u001b[1;33m\u001b[0m\u001b[1;33m\u001b[0m\u001b[0m\n\u001b[0m\u001b[0;32m      3\u001b[0m \u001b[1;33m\u001b[0m\u001b[0m\n\u001b[0;32m      4\u001b[0m \u001b[0mn_cams\u001b[0m\u001b[1;33m,\u001b[0m \u001b[0mn_frames\u001b[0m\u001b[1;33m,\u001b[0m \u001b[0mn_nodes\u001b[0m\u001b[1;33m,\u001b[0m \u001b[0m_\u001b[0m\u001b[1;33m,\u001b[0m \u001b[0mn_tracks\u001b[0m \u001b[1;33m=\u001b[0m \u001b[0mgt\u001b[0m\u001b[1;33m.\u001b[0m\u001b[0mshape\u001b[0m\u001b[1;33m\u001b[0m\u001b[1;33m\u001b[0m\u001b[0m\n\u001b[0;32m      5\u001b[0m \u001b[0mgt\u001b[0m\u001b[1;33m.\u001b[0m\u001b[0mshape\u001b[0m \u001b[1;31m# (n_cams, n_sampled_frames, n_keypoints, 2, # tracks)\u001b[0m\u001b[1;33m\u001b[0m\u001b[1;33m\u001b[0m\u001b[0m\n",
      "\u001b[1;32m<__array_function__ internals>\u001b[0m in \u001b[0;36mstack\u001b[1;34m(*args, **kwargs)\u001b[0m\n",
      "\u001b[1;32m~\\anaconda3\\envs\\sleap_126\\lib\\site-packages\\numpy\\core\\shape_base.py\u001b[0m in \u001b[0;36mstack\u001b[1;34m(arrays, axis, out)\u001b[0m\n\u001b[0;32m    425\u001b[0m     \u001b[0mshapes\u001b[0m \u001b[1;33m=\u001b[0m \u001b[1;33m{\u001b[0m\u001b[0marr\u001b[0m\u001b[1;33m.\u001b[0m\u001b[0mshape\u001b[0m \u001b[1;32mfor\u001b[0m \u001b[0marr\u001b[0m \u001b[1;32min\u001b[0m \u001b[0marrays\u001b[0m\u001b[1;33m}\u001b[0m\u001b[1;33m\u001b[0m\u001b[1;33m\u001b[0m\u001b[0m\n\u001b[0;32m    426\u001b[0m     \u001b[1;32mif\u001b[0m \u001b[0mlen\u001b[0m\u001b[1;33m(\u001b[0m\u001b[0mshapes\u001b[0m\u001b[1;33m)\u001b[0m \u001b[1;33m!=\u001b[0m \u001b[1;36m1\u001b[0m\u001b[1;33m:\u001b[0m\u001b[1;33m\u001b[0m\u001b[1;33m\u001b[0m\u001b[0m\n\u001b[1;32m--> 427\u001b[1;33m         \u001b[1;32mraise\u001b[0m \u001b[0mValueError\u001b[0m\u001b[1;33m(\u001b[0m\u001b[1;34m'all input arrays must have the same shape'\u001b[0m\u001b[1;33m)\u001b[0m\u001b[1;33m\u001b[0m\u001b[1;33m\u001b[0m\u001b[0m\n\u001b[0m\u001b[0;32m    428\u001b[0m \u001b[1;33m\u001b[0m\u001b[0m\n\u001b[0;32m    429\u001b[0m     \u001b[0mresult_ndim\u001b[0m \u001b[1;33m=\u001b[0m \u001b[0marrays\u001b[0m\u001b[1;33m[\u001b[0m\u001b[1;36m0\u001b[0m\u001b[1;33m]\u001b[0m\u001b[1;33m.\u001b[0m\u001b[0mndim\u001b[0m \u001b[1;33m+\u001b[0m \u001b[1;36m1\u001b[0m\u001b[1;33m\u001b[0m\u001b[1;33m\u001b[0m\u001b[0m\n",
      "\u001b[1;31mValueError\u001b[0m: all input arrays must have the same shape"
     ]
    }
   ],
   "source": [
    "gt = [pre.get_2d_poses(file) for file in analysis_files]\n",
    "gt = np.stack(gt, axis=0)[:, SAMPLE_START:SAMPLE_END]\n",
    "\n",
    "n_cams, n_frames, n_nodes, _, n_tracks = gt.shape\n",
    "gt.shape # (n_cams, n_sampled_frames, n_keypoints, 2, # tracks)"
   ]
  },
  {
   "cell_type": "markdown",
   "id": "0a6ae017-49ee-45b7-bc43-a4d631da7126",
   "metadata": {},
   "source": [
    "The get_2D_poses function returns 2D tracks for a single file at a time, so we append all the tracks to a list and then stack the 2D tracks on top of each other. "
   ]
  },
  {
   "cell_type": "markdown",
   "id": "f486b0b8-5cce-4aa0-b82a-6e8a576c1959",
   "metadata": {},
   "source": [
    "# Calibration"
   ]
  },
  {
   "cell_type": "markdown",
   "id": "79993f4e-2f78-475d-9b7b-8148197b7618",
   "metadata": {},
   "source": [
    "Some of the following code was adapted from the [aniposelib tutorial](https://anipose.readthedocs.io/en/latest/aniposelib-tutorial.html#). "
   ]
  },
  {
   "cell_type": "code",
   "execution_count": 7,
   "id": "d4e37163-a351-48d4-ba8a-e4f9d6cd8dc9",
   "metadata": {
    "scrolled": true
   },
   "outputs": [
    {
     "name": "stdout",
     "output_type": "stream",
     "text": [
      "D:\\AN_local\\CFL28\\calibration\\Cam00_230925_092608.avi\n"
     ]
    },
    {
     "name": "stderr",
     "output_type": "stream",
     "text": [
      "100%|████████████████████████████| 3218/3218 [00:17<00:00, 178.82it/s]\n"
     ]
    },
    {
     "name": "stdout",
     "output_type": "stream",
     "text": [
      "1986 boards detected\n",
      "D:\\AN_local\\CFL28\\calibration\\Cam01_230925_092608.avi\n"
     ]
    },
    {
     "name": "stderr",
     "output_type": "stream",
     "text": [
      "100%|████████████████████████████| 3218/3218 [00:17<00:00, 184.72it/s]\n"
     ]
    },
    {
     "name": "stdout",
     "output_type": "stream",
     "text": [
      "2054 boards detected\n",
      "D:\\AN_local\\CFL28\\calibration\\Cam02_230925_092608.avi\n"
     ]
    },
    {
     "name": "stderr",
     "output_type": "stream",
     "text": [
      "100%|████████████████████████████| 3218/3218 [00:20<00:00, 159.50it/s]\n"
     ]
    },
    {
     "name": "stdout",
     "output_type": "stream",
     "text": [
      "2177 boards detected\n",
      "defaultdict(<class 'int'>,\n",
      "            {('Cam00', 'Cam01'): 270,\n",
      "             ('Cam00', 'CamC02'): 377,\n",
      "             ('Cam01', 'Cam00'): 270,\n",
      "             ('Cam01', 'CamC02'): 443,\n",
      "             ('CamC02', 'Cam00'): 377,\n",
      "             ('CamC02', 'Cam01'): 443})\n",
      "INFO:numba.core.transforms:finding looplift candidates\n",
      "error:  0.5893704286849737\n",
      "n_samples: 100\n",
      "{(0, 1): (1000, array([0.30246164, 0.82073918])),\n",
      " (0, 2): (1000, array([0.27399794, 1.26398444])),\n",
      " (1, 2): (1000, array([0.28507338, 0.85629374]))}\n",
      "error: 0.59, mu: 1.3, ratio: 0.941\n",
      "INFO:numba.core.transforms:finding looplift candidates\n",
      "INFO:numba.core.transforms:finding looplift candidates\n",
      "   Iteration     Total nfev        Cost      Cost reduction    Step norm     Optimality   \n",
      "       0              1         1.3226e+03                                    1.86e+05    \n",
      "       1              2         1.5855e+01      1.31e+03       1.44e+02       3.73e+04    \n",
      "       2              3         1.0912e+01      4.94e+00       1.02e+01       1.87e+02    \n",
      "       3              4         1.0911e+01      4.74e-04       8.43e-02       3.64e+00    \n",
      "`ftol` termination condition is satisfied.\n",
      "Function evaluations 4, initial cost 1.3226e+03, final cost 1.0911e+01, first-order optimality 3.64e+00.\n",
      "{(0, 1): (1000, array([0.04561643, 0.15856955])),\n",
      " (0, 2): (1000, array([0.03756245, 0.14150233])),\n",
      " (1, 2): (1000, array([0.0413913, 0.1640405]))}\n",
      "   Iteration     Total nfev        Cost      Cost reduction    Step norm     Optimality   \n",
      "       0              1         1.5614e+04                                    4.67e+03    \n",
      "       1              2         1.3958e+02      1.55e+04       1.35e+02       5.82e+02    \n",
      "       2              3         4.3672e+01      9.59e+01       1.54e+01       1.28e+00    \n",
      "       3              4         4.2478e+01      1.19e+00       2.08e+00       1.72e+00    \n",
      "       4              5         4.2478e+01      4.11e-04       4.58e-01       5.26e+00    \n",
      "`ftol` termination condition is satisfied.\n",
      "Function evaluations 5, initial cost 1.5614e+04, final cost 4.2478e+01, first-order optimality 5.26e+00.\n",
      "{(0, 1): (1000, array([0.04558115, 0.15870036])),\n",
      " (0, 2): (1000, array([0.03781156, 0.13860313])),\n",
      " (1, 2): (1000, array([0.03846854, 0.15976579]))}\n",
      "error:  0.08282108491396695\n"
     ]
    }
   ],
   "source": [
    "board_vids =[['D:\\AN_local\\CFL28\\calibration\\Cam00_230925_092608.avi'],\n",
    "['D:\\AN_local\\CFL28\\calibration\\Cam01_230925_092608.avi'],\n",
    "['D:\\AN_local\\CFL28\\calibration\\Cam02_230925_092608.avi']]\n",
    "             # Insert your own video paths here \n",
    "cam_names = ['Cam00', 'Cam01', 'Cam02']\n",
    "\n",
    "board = CharucoBoard(5, 5, # width x height\n",
    "                     square_length=3, # here, in cm but any unit works\n",
    "                     marker_length=2.5,\n",
    "                     marker_bits=4, dict_size=100)\n",
    "\n",
    "cgroup = CameraGroup.from_names(cam_names)\n",
    "\n",
    "cgroup.calibrate_videos(board_vids, board)\n",
    "cgroup.dump('calibration.toml')"
   ]
  },
  {
   "cell_type": "markdown",
   "id": "2fa4651a-d249-4cb7-813f-c88fd0f5bad2",
   "metadata": {},
   "source": [
    "The cgroup object refers to all the cameras in a single entity. It will keep track of the camera parameters for when we later need them for triangulation"
   ]
  },
  {
   "cell_type": "code",
   "execution_count": 10,
   "id": "29612283",
   "metadata": {},
   "outputs": [],
   "source": [
    "cgroup = CameraGroup.load(\"C:\\\\Users\\\\shantanu.ray\\\\projects\\\\sleap\\\\addons\\\\calibration.toml\")"
   ]
  },
  {
   "cell_type": "markdown",
   "id": "20dd9893-47a7-4a07-a655-051b100b0b3a",
   "metadata": {},
   "source": [
    "# Triangulation"
   ]
  },
  {
   "cell_type": "markdown",
   "id": "797805f1-8a71-40fe-b855-778d6d4dc7e3",
   "metadata": {},
   "source": [
    "Aniposelib gives us the option to triangulate with the direct linear transformation (DLT) or with RANSAC, which adds an outlier rejection subroutine to the DLT. <br>\n",
    "In addition to these 2 triangulation methods, we can further refine the 3D points via direct optimization of the reprojection error. "
   ]
  },
  {
   "cell_type": "code",
   "execution_count": 21,
   "id": "9511ce7b-1855-48eb-99eb-9376472929df",
   "metadata": {},
   "outputs": [
    {
     "name": "stderr",
     "output_type": "stream",
     "text": [
      "100%|██████████████████████████| 4400/4400 [00:00<00:00, 10080.50it/s]\n"
     ]
    },
    {
     "data": {
      "text/plain": [
       "(400, 11, 3, 1)"
      ]
     },
     "execution_count": 21,
     "metadata": {},
     "output_type": "execute_result"
    }
   ],
   "source": [
    "# Original simple triangulation\n",
    "p3d_dlt = np.stack([cgroup.triangulate_optim(gt[..., track], init_progress=True) for track in range(n_tracks)], axis=-1)\n",
    "p3d_dlt.shape"
   ]
  },
  {
   "cell_type": "code",
   "execution_count": 40,
   "id": "8d9ef393-c3c0-4074-b73b-0ea147b9e157",
   "metadata": {},
   "outputs": [
    {
     "name": "stderr",
     "output_type": "stream",
     "text": [
      "  0%|                                        | 0/4400 [00:00<?, ?it/s]"
     ]
    },
    {
     "name": "stdout",
     "output_type": "stream",
     "text": [
      "INFO:numba.core.transforms:finding looplift candidates\n"
     ]
    },
    {
     "name": "stderr",
     "output_type": "stream",
     "text": [
      "100%|████████████████████████████| 4400/4400 [00:08<00:00, 499.06it/s]\n",
      "C:\\Users\\shantanu.ray\\projects\\sleap\\sleap\\lib\\site-packages\\numpy\\core\\fromnumeric.py:3474: RuntimeWarning: Mean of empty slice.\n",
      "  return _methods._mean(a, axis=axis, dtype=dtype,\n",
      "C:\\Users\\shantanu.ray\\projects\\sleap\\sleap\\lib\\site-packages\\numpy\\core\\_methods.py:189: RuntimeWarning: invalid value encountered in double_scalars\n",
      "  ret = ret.dtype.type(ret / rcount)\n"
     ]
    },
    {
     "name": "stdout",
     "output_type": "stream",
     "text": [
      "INFO:numba.core.transforms:finding looplift candidates\n"
     ]
    },
    {
     "data": {
      "text/plain": [
       "(400, 11, 3, 1)"
      ]
     },
     "execution_count": 40,
     "metadata": {},
     "output_type": "execute_result"
    }
   ],
   "source": [
    "# Ransac triangulation \n",
    "p3d_ransac = np.stack([cgroup.triangulate_optim(gt[..., track], init_ransac = True, init_progress = True) for track in range(n_tracks)], axis=-1)\n",
    "p3d_ransac.shape"
   ]
  },
  {
   "cell_type": "code",
   "execution_count": 22,
   "id": "0a6e7766-6724-4b31-bd88-75245922f552",
   "metadata": {},
   "outputs": [
    {
     "data": {
      "text/plain": [
       "(400, 11, 3, 1)"
      ]
     },
     "execution_count": 22,
     "metadata": {},
     "output_type": "execute_result"
    }
   ],
   "source": [
    "# Refinement\n",
    "p3d_ls = np.stack([cgroup.optim_points(gt[..., track], p3d_dlt[..., track]) for track in range(n_tracks)], axis=-1) \n",
    "p3d_ls.shape"
   ]
  },
  {
   "cell_type": "code",
   "execution_count": 18,
   "id": "6f1265d5-9861-48af-945e-1c223df7bb10",
   "metadata": {},
   "outputs": [],
   "source": [
    "np.save('p3d_ls.npy', p3d_ls)"
   ]
  },
  {
   "cell_type": "code",
   "execution_count": null,
   "id": "507f26b7-65ec-4ea5-b39b-59d75f12e495",
   "metadata": {},
   "outputs": [],
   "source": [
    "from scipy.io import savemat"
   ]
  },
  {
   "cell_type": "code",
   "execution_count": 33,
   "id": "e01278d7-24b6-493c-a1d8-af86849c5873",
   "metadata": {},
   "outputs": [],
   "source": []
  },
  {
   "cell_type": "code",
   "execution_count": 11,
   "id": "c280d0c0-ca81-4a73-9c7a-bc982883c1e7",
   "metadata": {},
   "outputs": [],
   "source": [
    "from triangulation import TriangulationMethod, get_3d_poses"
   ]
  },
  {
   "cell_type": "code",
   "execution_count": 12,
   "id": "4342f50d-d3c9-4ccf-b995-3396b1b389c4",
   "metadata": {},
   "outputs": [
    {
     "name": "stderr",
     "output_type": "stream",
     "text": [
      "100%|███████████████████████████| 4400/4400 [00:03<00:00, 1365.92it/s]\n",
      "C:\\Users\\shantanu.ray\\projects\\sleap\\sleap\\lib\\site-packages\\numpy\\core\\fromnumeric.py:3474: RuntimeWarning: Mean of empty slice.\n",
      "  return _methods._mean(a, axis=axis, dtype=dtype,\n",
      "C:\\Users\\shantanu.ray\\projects\\sleap\\sleap\\lib\\site-packages\\numpy\\core\\_methods.py:189: RuntimeWarning: invalid value encountered in double_scalars\n",
      "  ret = ret.dtype.type(ret / rcount)\n"
     ]
    },
    {
     "name": "stdout",
     "output_type": "stream",
     "text": [
      "INFO:numba.core.transforms:finding looplift candidates\n",
      "INFO:numba.core.transforms:finding looplift candidates\n"
     ]
    }
   ],
   "source": [
    "p3d_dlt_1 = get_3d_poses(poses_2d=gt,\n",
    "                         calibration_filepath=\"C:\\\\Users\\\\shantanu.ray\\\\projects\\\\sleap\\\\addons\\\\calibration.toml\",\n",
    "                         triangulate=TriangulationMethod.calibrated_dtl,\n",
    "                         show_progress=True)"
   ]
  },
  {
   "cell_type": "code",
   "execution_count": 13,
   "id": "c4df13e3-8ac2-4699-af1f-247f3b3c9f07",
   "metadata": {},
   "outputs": [
    {
     "data": {
      "text/plain": [
       "(400, 11, 3, 1)"
      ]
     },
     "execution_count": 13,
     "metadata": {},
     "output_type": "execute_result"
    }
   ],
   "source": [
    "p3d_dlt_1.shape"
   ]
  },
  {
   "cell_type": "code",
   "execution_count": 14,
   "id": "2570000e-8d0d-49ca-aa18-25fbff706cec",
   "metadata": {},
   "outputs": [
    {
     "name": "stderr",
     "output_type": "stream",
     "text": [
      "  0%|                                        | 0/4400 [00:00<?, ?it/s]"
     ]
    },
    {
     "name": "stdout",
     "output_type": "stream",
     "text": [
      "INFO:numba.core.transforms:finding looplift candidates\n"
     ]
    },
    {
     "name": "stderr",
     "output_type": "stream",
     "text": [
      "100%|████████████████████████████| 4400/4400 [00:06<00:00, 705.11it/s]\n",
      "C:\\Users\\shantanu.ray\\projects\\sleap\\sleap\\lib\\site-packages\\numpy\\core\\fromnumeric.py:3474: RuntimeWarning: Mean of empty slice.\n",
      "  return _methods._mean(a, axis=axis, dtype=dtype,\n",
      "C:\\Users\\shantanu.ray\\projects\\sleap\\sleap\\lib\\site-packages\\numpy\\core\\_methods.py:189: RuntimeWarning: invalid value encountered in double_scalars\n",
      "  ret = ret.dtype.type(ret / rcount)\n"
     ]
    },
    {
     "name": "stdout",
     "output_type": "stream",
     "text": [
      "INFO:numba.core.transforms:finding looplift candidates\n"
     ]
    }
   ],
   "source": [
    "p3d_ransac_1 = get_3d_poses(poses_2d=gt,\n",
    "                         calibration_filepath=\"C:\\\\Users\\\\shantanu.ray\\\\projects\\\\sleap\\\\addons\\\\calibration.toml\",\n",
    "                         triangulate=TriangulationMethod.calibrated_ransac,\n",
    "                         show_progress=True)"
   ]
  },
  {
   "cell_type": "code",
   "execution_count": 15,
   "id": "33cfda27-b6fc-4e30-93c0-b81d04ca2ab8",
   "metadata": {},
   "outputs": [
    {
     "data": {
      "text/plain": [
       "(400, 11, 3, 1)"
      ]
     },
     "execution_count": 15,
     "metadata": {},
     "output_type": "execute_result"
    }
   ],
   "source": [
    "p3d_ransac_1.shape"
   ]
  },
  {
   "cell_type": "code",
   "execution_count": 16,
   "id": "e824b17a-b84b-4016-ad64-48422e9ffdad",
   "metadata": {},
   "outputs": [
    {
     "name": "stderr",
     "output_type": "stream",
     "text": [
      "100%|███████████████████████████| 4400/4400 [00:00<00:00, 9386.68it/s]\n",
      "C:\\Users\\shantanu.ray\\projects\\sleap\\sleap\\lib\\site-packages\\numpy\\core\\fromnumeric.py:3474: RuntimeWarning: Mean of empty slice.\n",
      "  return _methods._mean(a, axis=axis, dtype=dtype,\n",
      "C:\\Users\\shantanu.ray\\projects\\sleap\\sleap\\lib\\site-packages\\numpy\\core\\_methods.py:189: RuntimeWarning: invalid value encountered in double_scalars\n",
      "  ret = ret.dtype.type(ret / rcount)\n"
     ]
    }
   ],
   "source": [
    "p3d_dlt_2 = get_3d_poses(poses_2d=gt,\n",
    "                         calibration_filepath=\"C:\\\\Users\\\\shantanu.ray\\\\projects\\\\sleap\\\\addons\\\\calibration.toml\",\n",
    "                         triangulate=TriangulationMethod.calibrated_dtl,\n",
    "                         refine_calibration=True,\n",
    "                         show_progress=True)"
   ]
  },
  {
   "cell_type": "code",
   "execution_count": 17,
   "id": "9873edfd-4995-44ce-8d85-e6d4058a4516",
   "metadata": {},
   "outputs": [
    {
     "data": {
      "text/plain": [
       "(400, 11, 3, 1)"
      ]
     },
     "execution_count": 17,
     "metadata": {},
     "output_type": "execute_result"
    }
   ],
   "source": [
    "p3d_dlt_2.shape"
   ]
  }
 ],
 "metadata": {
  "kernelspec": {
   "display_name": "sleap_126",
   "language": "python",
   "name": "sleap_126"
  },
  "language_info": {
   "codemirror_mode": {
    "name": "ipython",
    "version": 3
   },
   "file_extension": ".py",
   "mimetype": "text/x-python",
   "name": "python",
   "nbconvert_exporter": "python",
   "pygments_lexer": "ipython3",
   "version": "3.7.12"
  }
 },
 "nbformat": 4,
 "nbformat_minor": 5
}
