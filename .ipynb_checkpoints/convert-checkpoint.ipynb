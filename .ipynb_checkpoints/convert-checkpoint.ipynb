{
 "cells": [
  {
   "cell_type": "markdown",
   "id": "4b052c65-1eaa-474d-838b-36d94f023a8c",
   "metadata": {},
   "source": [
    "### Initialize Input Path with slp files"
   ]
  },
  {
   "cell_type": "code",
   "execution_count": 8,
   "id": "774f0af0-12e2-4469-a95b-1c076d3de00b",
   "metadata": {},
   "outputs": [
    {
     "name": "stdout",
     "output_type": "stream",
     "text": [
      "D:/AN_local/AN664/040423/predictions\n"
     ]
    }
   ],
   "source": [
    "input_path ='D:/AN_local/AN664/040423/predictions'\n",
    "# F:/Ropepull/20221122_Pilot_set/predictions\n",
    "print(input_path)"
   ]
  },
  {
   "cell_type": "code",
   "execution_count": 9,
   "id": "79bac4ae-33b2-47a5-a07f-747a87344dfb",
   "metadata": {},
   "outputs": [],
   "source": [
    "# Get all .slp files\n",
    "input_file_pattern = r'.*\\.slp'"
   ]
  },
  {
   "cell_type": "code",
   "execution_count": 10,
   "id": "46d2d0e9-c85f-498e-96f3-a5062b55ab67",
   "metadata": {},
   "outputs": [],
   "source": [
    "from utils import get_files"
   ]
  },
  {
   "cell_type": "code",
   "execution_count": 11,
   "id": "ce569fd4-7d03-4fbe-ada8-5c2f7884e505",
   "metadata": {
    "scrolled": false
   },
   "outputs": [
    {
     "name": "stdout",
     "output_type": "stream",
     "text": [
      "['D:/AN_local/AN664/040423/predictions\\\\Cam00_0000000230405.avi.230530_152835.predictions.slp', 'D:/AN_local/AN664/040423/predictions\\\\Cam00_0000000230406.avi.230530_151951.predictions.slp', 'D:/AN_local/AN664/040423/predictions\\\\Cam00_0000000230407.avi.230530_153046.predictions.slp', 'D:/AN_local/AN664/040423/predictions\\\\Cam00_0000000230408.avi.230530_153257.predictions.slp', 'D:/AN_local/AN664/040423/predictions\\\\Cam00_0000000230409.avi.230530_153507.predictions.slp', 'D:/AN_local/AN664/040423/predictions\\\\Cam00_0000000230410.avi.230530_153718.predictions.slp', 'D:/AN_local/AN664/040423/predictions\\\\Cam00_0000000230411.avi.230530_151734.predictions.slp', 'D:/AN_local/AN664/040423/predictions\\\\Cam00_0000000230412.avi.230530_153928.predictions.slp', 'D:/AN_local/AN664/040423/predictions\\\\Cam00_0000000230413.avi.230530_154138.predictions.slp', 'D:/AN_local/AN664/040423/predictions\\\\Cam00_0000000230414.avi.230530_154348.predictions.slp', 'D:/AN_local/AN664/040423/predictions\\\\Cam00_0000000230415.avi.230530_152413.predictions.slp', 'D:/AN_local/AN664/040423/predictions\\\\Cam00_0000000230416.avi.230530_154559.predictions.slp', 'D:/AN_local/AN664/040423/predictions\\\\Cam00_0000000230417.avi.230530_154810.predictions.slp', 'D:/AN_local/AN664/040423/predictions\\\\Cam00_0000000230418.avi.230530_155022.predictions.slp', 'D:/AN_local/AN664/040423/predictions\\\\Cam00_0000000230419.avi.230530_155233.predictions.slp', 'D:/AN_local/AN664/040423/predictions\\\\Cam00_0000000230420.avi.230530_155443.predictions.slp', 'D:/AN_local/AN664/040423/predictions\\\\Cam00_0000000230421.avi.230530_155654.predictions.slp', 'D:/AN_local/AN664/040423/predictions\\\\Cam00_0000000230422.avi.230530_155904.predictions.slp', 'D:/AN_local/AN664/040423/predictions\\\\Cam00_0000000230423.avi.230530_152624.predictions.slp', 'D:/AN_local/AN664/040423/predictions\\\\Cam00_0000000230424.avi.230530_160115.predictions.slp', 'D:/AN_local/AN664/040423/predictions\\\\Cam00_0000000230425.avi.230530_160326.predictions.slp', 'D:/AN_local/AN664/040423/predictions\\\\Cam00_0000000230426.avi.230530_160536.predictions.slp', 'D:/AN_local/AN664/040423/predictions\\\\Cam00_0000000230427.avi.230530_160745.predictions.slp', 'D:/AN_local/AN664/040423/predictions\\\\Cam00_0000000230428.avi.230530_160957.predictions.slp', 'D:/AN_local/AN664/040423/predictions\\\\Cam00_0000000230429.avi.230530_161207.predictions.slp', 'D:/AN_local/AN664/040423/predictions\\\\Cam00_0000000230430.avi.230530_161416.predictions.slp', 'D:/AN_local/AN664/040423/predictions\\\\Cam00_0000000230431.avi.230530_161628.predictions.slp', 'D:/AN_local/AN664/040423/predictions\\\\Cam00_0000000230432.avi.230530_161847.predictions.slp', 'D:/AN_local/AN664/040423/predictions\\\\Cam00_0000000230433.avi.230530_162057.predictions.slp', 'D:/AN_local/AN664/040423/predictions\\\\Cam00_0000000230434.avi.230530_162309.predictions.slp', 'D:/AN_local/AN664/040423/predictions\\\\Cam00_0000000230435.avi.230530_162519.predictions.slp', 'D:/AN_local/AN664/040423/predictions\\\\Cam00_230404_140206.avi.230530_152202.predictions.slp', 'D:/AN_local/AN664/040423/predictions\\\\Cam01_0000000230405.avi.230531_103131.predictions.slp', 'D:/AN_local/AN664/040423/predictions\\\\Cam01_0000000230406.avi.230531_103341.predictions.slp', 'D:/AN_local/AN664/040423/predictions\\\\Cam01_0000000230407.avi.230531_103551.predictions.slp', 'D:/AN_local/AN664/040423/predictions\\\\Cam01_0000000230408.avi.230531_103801.predictions.slp', 'D:/AN_local/AN664/040423/predictions\\\\Cam01_0000000230409.avi.230531_104010.predictions.slp', 'D:/AN_local/AN664/040423/predictions\\\\Cam01_0000000230410.avi.230531_104220.predictions.slp', 'D:/AN_local/AN664/040423/predictions\\\\Cam01_0000000230411.avi.230531_102254.predictions.slp', 'D:/AN_local/AN664/040423/predictions\\\\Cam01_0000000230412.avi.230531_104429.predictions.slp', 'D:/AN_local/AN664/040423/predictions\\\\Cam01_0000000230413.avi.230531_104638.predictions.slp', 'D:/AN_local/AN664/040423/predictions\\\\Cam01_0000000230414.avi.230531_104847.predictions.slp', 'D:/AN_local/AN664/040423/predictions\\\\Cam01_0000000230415.avi.230531_102503.predictions.slp', 'D:/AN_local/AN664/040423/predictions\\\\Cam01_0000000230416.avi.230531_105056.predictions.slp', 'D:/AN_local/AN664/040423/predictions\\\\Cam01_0000000230417.avi.230531_105305.predictions.slp', 'D:/AN_local/AN664/040423/predictions\\\\Cam01_0000000230418.avi.230531_105515.predictions.slp', 'D:/AN_local/AN664/040423/predictions\\\\Cam01_0000000230419.avi.230531_105723.predictions.slp', 'D:/AN_local/AN664/040423/predictions\\\\Cam01_0000000230420.avi.230531_105933.predictions.slp', 'D:/AN_local/AN664/040423/predictions\\\\Cam01_0000000230421.avi.230531_110142.predictions.slp', 'D:/AN_local/AN664/040423/predictions\\\\Cam01_0000000230422.avi.230531_110351.predictions.slp', 'D:/AN_local/AN664/040423/predictions\\\\Cam01_0000000230423.avi.230531_102712.predictions.slp', 'D:/AN_local/AN664/040423/predictions\\\\Cam01_0000000230424.avi.230531_110600.predictions.slp', 'D:/AN_local/AN664/040423/predictions\\\\Cam01_0000000230425.avi.230531_110811.predictions.slp', 'D:/AN_local/AN664/040423/predictions\\\\Cam01_0000000230426.avi.230531_111021.predictions.slp', 'D:/AN_local/AN664/040423/predictions\\\\Cam01_0000000230427.avi.230531_111231.predictions.slp', 'D:/AN_local/AN664/040423/predictions\\\\Cam01_0000000230428.avi.230531_111441.predictions.slp', 'D:/AN_local/AN664/040423/predictions\\\\Cam01_0000000230429.avi.230531_111651.predictions.slp', 'D:/AN_local/AN664/040423/predictions\\\\Cam01_0000000230430.avi.230531_111901.predictions.slp', 'D:/AN_local/AN664/040423/predictions\\\\Cam01_0000000230431.avi.230531_112111.predictions.slp', 'D:/AN_local/AN664/040423/predictions\\\\Cam01_0000000230432.avi.230531_112321.predictions.slp', 'D:/AN_local/AN664/040423/predictions\\\\Cam01_0000000230433.avi.230531_112530.predictions.slp', 'D:/AN_local/AN664/040423/predictions\\\\Cam01_0000000230434.avi.230531_112741.predictions.slp', 'D:/AN_local/AN664/040423/predictions\\\\Cam01_0000000230435.avi.230531_112950.predictions.slp', 'D:/AN_local/AN664/040423/predictions\\\\Cam01_230404_140206.avi.230531_102921.predictions.slp', 'D:/AN_local/AN664/040423/predictions\\\\Cam02_0000000230405.avi.230531_120411.predictions.slp', 'D:/AN_local/AN664/040423/predictions\\\\Cam02_0000000230406.avi.230531_120620.predictions.slp', 'D:/AN_local/AN664/040423/predictions\\\\Cam02_0000000230407.avi.230531_120829.predictions.slp', 'D:/AN_local/AN664/040423/predictions\\\\Cam02_0000000230408.avi.230531_121039.predictions.slp', 'D:/AN_local/AN664/040423/predictions\\\\Cam02_0000000230409.avi.230531_121248.predictions.slp', 'D:/AN_local/AN664/040423/predictions\\\\Cam02_0000000230410.avi.230531_121458.predictions.slp', 'D:/AN_local/AN664/040423/predictions\\\\Cam02_0000000230411.avi.230531_115533.predictions.slp', 'D:/AN_local/AN664/040423/predictions\\\\Cam02_0000000230412.avi.230531_121708.predictions.slp', 'D:/AN_local/AN664/040423/predictions\\\\Cam02_0000000230413.avi.230531_121917.predictions.slp', 'D:/AN_local/AN664/040423/predictions\\\\Cam02_0000000230414.avi.230531_122127.predictions.slp', 'D:/AN_local/AN664/040423/predictions\\\\Cam02_0000000230415.avi.230531_115742.predictions.slp', 'D:/AN_local/AN664/040423/predictions\\\\Cam02_0000000230416.avi.230531_122336.predictions.slp', 'D:/AN_local/AN664/040423/predictions\\\\Cam02_0000000230417.avi.230531_122545.predictions.slp', 'D:/AN_local/AN664/040423/predictions\\\\Cam02_0000000230418.avi.230531_122754.predictions.slp', 'D:/AN_local/AN664/040423/predictions\\\\Cam02_0000000230419.avi.230531_123003.predictions.slp', 'D:/AN_local/AN664/040423/predictions\\\\Cam02_0000000230420.avi.230531_123211.predictions.slp', 'D:/AN_local/AN664/040423/predictions\\\\Cam02_0000000230421.avi.230531_123419.predictions.slp', 'D:/AN_local/AN664/040423/predictions\\\\Cam02_0000000230422.avi.230531_123629.predictions.slp', 'D:/AN_local/AN664/040423/predictions\\\\Cam02_0000000230423.avi.230531_115952.predictions.slp', 'D:/AN_local/AN664/040423/predictions\\\\Cam02_0000000230424.avi.230531_123838.predictions.slp', 'D:/AN_local/AN664/040423/predictions\\\\Cam02_0000000230425.avi.230531_124047.predictions.slp', 'D:/AN_local/AN664/040423/predictions\\\\Cam02_0000000230426.avi.230531_124256.predictions.slp', 'D:/AN_local/AN664/040423/predictions\\\\Cam02_0000000230427.avi.230531_124505.predictions.slp', 'D:/AN_local/AN664/040423/predictions\\\\Cam02_0000000230428.avi.230531_124713.predictions.slp', 'D:/AN_local/AN664/040423/predictions\\\\Cam02_0000000230429.avi.230531_124923.predictions.slp', 'D:/AN_local/AN664/040423/predictions\\\\Cam02_0000000230430.avi.230531_125131.predictions.slp', 'D:/AN_local/AN664/040423/predictions\\\\Cam02_0000000230431.avi.230531_125340.predictions.slp', 'D:/AN_local/AN664/040423/predictions\\\\Cam02_0000000230432.avi.230531_125549.predictions.slp', 'D:/AN_local/AN664/040423/predictions\\\\Cam02_0000000230433.avi.230531_125759.predictions.slp', 'D:/AN_local/AN664/040423/predictions\\\\Cam02_0000000230434.avi.230531_130009.predictions.slp', 'D:/AN_local/AN664/040423/predictions\\\\Cam02_0000000230435.avi.230531_130222.predictions.slp', 'D:/AN_local/AN664/040423/predictions\\\\Cam02_230404_140207.avi.230531_120202.predictions.slp']\n"
     ]
    }
   ],
   "source": [
    "input_files = get_files(input_path, input_file_pattern)\n",
    "print(input_files)"
   ]
  },
  {
   "cell_type": "markdown",
   "id": "c688e760-6b6b-4610-b388-59999f916a49",
   "metadata": {},
   "source": [
    "### Select appropriate conversion type"
   ]
  },
  {
   "cell_type": "code",
   "execution_count": 14,
   "id": "4466684c-600a-4915-8871-f07502fa9853",
   "metadata": {},
   "outputs": [],
   "source": [
    "conversion_format = 'analysis'\n",
    "assert conversion_format in ['h5', 'slp', 'json', 'analysis'], f'Incorrect conversion format {format}'\n",
    "if conversion_format == 'analysis':\n",
    "    ext = '.analysis.h5'\n",
    "else:\n",
    "    ext = '.' + conversion_format"
   ]
  },
  {
   "cell_type": "markdown",
   "id": "96d0357f-e5c7-4582-9333-cb4a26f6e1a0",
   "metadata": {},
   "source": [
    "### Select save location"
   ]
  },
  {
   "cell_type": "code",
   "execution_count": 15,
   "id": "8556e656-0943-469e-862c-832044e43cfe",
   "metadata": {},
   "outputs": [],
   "source": [
    "from os.path import split, exists, join\n",
    "from os import mkdir"
   ]
  },
  {
   "cell_type": "code",
   "execution_count": 16,
   "id": "b31fca65-1845-43de-84f6-4d81235396f3",
   "metadata": {},
   "outputs": [],
   "source": [
    "out_path ='D:/AN_local/AN664/040423/predictions_h5'\n",
    "# if save location does not exist, create it\n",
    "if not exists(out_path):\n",
    "    mkdir(out_path)"
   ]
  },
  {
   "cell_type": "markdown",
   "id": "bd6c5cde-e95e-49cf-8eb3-b8b4e44bae02",
   "metadata": {},
   "source": [
    "### Run conversion"
   ]
  },
  {
   "cell_type": "code",
   "execution_count": 17,
   "id": "1ffc5fc5-e91a-4b81-97b8-aedbe1c84751",
   "metadata": {},
   "outputs": [],
   "source": [
    "from utils import extract_prefix, extract_match\n",
    "from io_sleap import convert\n",
    "from IPython.utils import io"
   ]
  },
  {
   "cell_type": "code",
   "execution_count": 27,
   "id": "df50fec2-3425-46d9-ab24-07b546606470",
   "metadata": {},
   "outputs": [
    {
     "name": "stdout",
     "output_type": "stream",
     "text": [
      "Saving to F:/Ropepull/20221122_Pilot_set/predictions_H5\\20221122_Pilot_set_cam1.analysis.h5\n",
      "Saving to F:/Ropepull/20221122_Pilot_set/predictions_H5\\20221122_Pilot_set_cam1.analysis.h5\n",
      "Saving to F:/Ropepull/20221122_Pilot_set/predictions_H5\\20221122_Pilot_set_cam1.analysis.h5\n",
      "Saving to F:/Ropepull/20221122_Pilot_set/predictions_H5\\20221122_Pilot_set_cam1.analysis.h5\n",
      "Saving to F:/Ropepull/20221122_Pilot_set/predictions_H5\\20221122_Pilot_set_cam1.analysis.h5\n",
      "Saving to F:/Ropepull/20221122_Pilot_set/predictions_H5\\20221122_Pilot_set_cam2.analysis.h5\n",
      "Saving to F:/Ropepull/20221122_Pilot_set/predictions_H5\\20221122_Pilot_set_cam2.analysis.h5\n",
      "Saving to F:/Ropepull/20221122_Pilot_set/predictions_H5\\20221122_Pilot_set_cam2.analysis.h5\n",
      "Saving to F:/Ropepull/20221122_Pilot_set/predictions_H5\\20221122_Pilot_set_cam2.analysis.h5\n",
      "Saving to F:/Ropepull/20221122_Pilot_set/predictions_H5\\20221122_Pilot_set_cam2.analysis.h5\n",
      "Saving to F:/Ropepull/20221122_Pilot_set/predictions_H5\\20221122_Pilot_set_cam3.analysis.h5\n",
      "Saving to F:/Ropepull/20221122_Pilot_set/predictions_H5\\20221122_Pilot_set_cam3.analysis.h5\n",
      "Saving to F:/Ropepull/20221122_Pilot_set/predictions_H5\\20221122_Pilot_set_cam3.analysis.h5\n",
      "Saving to F:/Ropepull/20221122_Pilot_set/predictions_H5\\20221122_Pilot_set_cam3.analysis.h5\n",
      "Saving to F:/Ropepull/20221122_Pilot_set/predictions_H5\\20221122_Pilot_set_cam3.analysis.h5\n",
      "Saving to F:/Ropepull/20221122_Pilot_set/predictions_H5\\adult6_t_20220630_round1_2_16-55-39_cam1.analysis.h5\n",
      "Saving to F:/Ropepull/20221122_Pilot_set/predictions_H5\\adult6_t_20220630_round1_2_16-55-39_cam2.analysis.h5\n",
      "Saving to F:/Ropepull/20221122_Pilot_set/predictions_H5\\adult6_t_20220630_round1_2_16-55-39_cam3.analysis.h5\n"
     ]
    }
   ],
   "source": [
    "for in_filepath in input_files:\n",
    "    _, in_filename = split(in_filepath)\n",
    "    # Extract string from in_filename that ends in cam number as output filename\n",
    "    out_filename = extract_match(in_filename, pattern = r'.*_cam\\d+') + ext\n",
    "    out_filepath = join(out_path, out_filename)\n",
    "    print(f'Saving to {out_filepath}')\n",
    "    # Convert file\n",
    "    with io.capture_output() as captured: # Block unnecessary output from sleap.info.write_tracking_h5.write_occupancy_file\n",
    "        convert(in_filepath, out_filepath, format=conversion_format)"
   ]
  },
  {
   "cell_type": "code",
   "execution_count": null,
   "id": "c450600e-9968-4f61-bc53-97d0b445bb33",
   "metadata": {},
   "outputs": [],
   "source": []
  }
 ],
 "metadata": {
  "kernelspec": {
   "display_name": "sleap_126",
   "language": "python",
   "name": "sleap_126"
  },
  "language_info": {
   "codemirror_mode": {
    "name": "ipython",
    "version": 3
   },
   "file_extension": ".py",
   "mimetype": "text/x-python",
   "name": "python",
   "nbconvert_exporter": "python",
   "pygments_lexer": "ipython3",
   "version": "3.7.12"
  }
 },
 "nbformat": 4,
 "nbformat_minor": 5
}
