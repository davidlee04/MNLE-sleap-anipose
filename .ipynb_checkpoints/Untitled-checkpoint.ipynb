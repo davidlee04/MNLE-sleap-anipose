{
 "cells": [
  {
   "cell_type": "code",
   "execution_count": null,
   "id": "5a6e0638",
   "metadata": {},
   "outputs": [],
   "source": [
    "import pandas as pd\n",
    "import numpy as np\n",
    "\n",
    "file_name = 'dlch5.h5'\n",
    "\n",
    "data_orig = pd.read_hdf(file_name)\n",
    "\n",
    "scorer = data_orig.columns.levels[0][0]\n",
    "\n",
    "data = data_orig.loc[:,scorer]\n",
    "\n",
    "bp_index = data.columns.names.index('bodyparts')\n",
    "coord_index = data.columns.names.index('coords')\n",
    "bodyparts = list(data.columns.get_level_values(bp_index).unique())\n",
    "n_possible = len(data.columns.levels[coord_index])//3\n",
    "\n",
    "n_frames = len(data)\n",
    "n_joints = len(bodyparts)\n",
    "test = np.array(data).reshape(n_frames, n_joints, n_possible, 3)\n",
    "\n",
    "print(test)\n"
   ]
  },
  {
   "cell_type": "code",
   "execution_count": 29,
   "id": "8363e232",
   "metadata": {},
   "outputs": [],
   "source": [
    "all_points = np.zeros((30000,7,1,3))\n",
    "n_frames, n_joints, n_possible, _ = all_points.shape\n",
    "\n",
    "points_full = all_points[:, :, :, :2]\n",
    "scores_full = all_points[:, :, :, 2]\n",
    "\n",
    "points_full[scores_full < config['filter']['score_threshold']] = np.nan\n"
   ]
  },
  {
   "cell_type": "code",
   "execution_count": null,
   "id": "3e0b0f08",
   "metadata": {},
   "outputs": [],
   "source": []
  }
 ],
 "metadata": {
  "kernelspec": {
   "display_name": "sleap_126",
   "language": "python",
   "name": "sleap_126"
  },
  "language_info": {
   "codemirror_mode": {
    "name": "ipython",
    "version": 3
   },
   "file_extension": ".py",
   "mimetype": "text/x-python",
   "name": "python",
   "nbconvert_exporter": "python",
   "pygments_lexer": "ipython3",
   "version": "3.7.12"
  }
 },
 "nbformat": 4,
 "nbformat_minor": 5
}
