{
 "cells": [
  {
   "cell_type": "code",
   "execution_count": 1,
   "id": "727346e4",
   "metadata": {},
   "outputs": [
    {
     "name": "stdout",
     "output_type": "stream",
     "text": [
      "D:/AN_local/CFL28/092023/predictions\n"
     ]
    }
   ],
   "source": [
    "input_path ='D:/AN_local/CFL28/092023/predictions'\n",
    "# F:/Ropepull/20221122_Pilot_set/predictions\n",
    "print(input_path)"
   ]
  },
  {
   "cell_type": "code",
   "execution_count": 2,
   "id": "28f07d23",
   "metadata": {},
   "outputs": [],
   "source": [
    "# Get all .slp files\n",
    "input_file_pattern = r'.*\\.slp'"
   ]
  },
  {
   "cell_type": "code",
   "execution_count": 3,
   "id": "27e7c2df",
   "metadata": {},
   "outputs": [],
   "source": [
    "from utils import get_files"
   ]
  },
  {
   "cell_type": "code",
   "execution_count": 4,
   "id": "35c8270b",
   "metadata": {},
   "outputs": [
    {
     "name": "stdout",
     "output_type": "stream",
     "text": [
      "['D:/AN_local/CFL28/092023/predictions\\\\Cam01_0000610706.avi.230927_175440.predictions.slp']\n"
     ]
    }
   ],
   "source": [
    "input_files = get_files(input_path, input_file_pattern)\n",
    "print(input_files)"
   ]
  },
  {
   "cell_type": "code",
   "execution_count": 5,
   "id": "6ad35464",
   "metadata": {},
   "outputs": [],
   "source": [
    "conversion_format = 'analysis'\n",
    "assert conversion_format in ['h5', 'slp', 'json', 'analysis'], f'Incorrect conversion format {format}'\n",
    "if conversion_format == 'analysis':\n",
    "    ext = '.analysis.h5'\n",
    "else:\n",
    "    ext = '.' + conversion_format"
   ]
  },
  {
   "cell_type": "code",
   "execution_count": 6,
   "id": "b14d1f52",
   "metadata": {},
   "outputs": [],
   "source": [
    "from os.path import split, exists, join\n",
    "from os import mkdir"
   ]
  },
  {
   "cell_type": "code",
   "execution_count": 7,
   "id": "afb48c14",
   "metadata": {},
   "outputs": [],
   "source": [
    "out_path ='D:/AN_local/AN1483/071623/predictions_h5'\n",
    "# if save location does not exist, create it\n",
    "if not exists(out_path):\n",
    "    mkdir(out_path)"
   ]
  },
  {
   "cell_type": "code",
   "execution_count": 8,
   "id": "017042e3",
   "metadata": {},
   "outputs": [],
   "source": [
    "from utils import extract_prefix, extract_match\n",
    "from io_sleap import convert\n",
    "from IPython.utils import io"
   ]
  },
  {
   "cell_type": "code",
   "execution_count": null,
   "id": "5e930e97",
   "metadata": {},
   "outputs": [],
   "source": [
    "for in_filepath in input_files:\n",
    "    _, in_filename = split(in_filepath)\n",
    "    camID = extract_match(in_filename, pattern = r'.*Cam\\d+')\n",
    "    temp_filename = in_filename.split('.')\n",
    "    temp_filename2 = temp_filename[0].split('_')\n",
    "    out_filename = camID + '_' + temp_filename2[1] + ext\n",
    "    out_filepath = join(out_path, out_filename)\n",
    "    print(f'Saving to {out_filepath}')\n",
    "    # Convert file\n",
    "    with io.capture_output() as captured: # Block unnecessary output from sleap.info.write_tracking_h5.write_occupancy_file\n",
    "        convert(in_filepath, out_filepath, format=conversion_format)"
   ]
  }
 ],
 "metadata": {
  "kernelspec": {
   "display_name": "sleap_126",
   "language": "python",
   "name": "sleap_126"
  },
  "language_info": {
   "codemirror_mode": {
    "name": "ipython",
    "version": 3
   },
   "file_extension": ".py",
   "mimetype": "text/x-python",
   "name": "python",
   "nbconvert_exporter": "python",
   "pygments_lexer": "ipython3",
   "version": "3.7.12"
  }
 },
 "nbformat": 4,
 "nbformat_minor": 5
}
