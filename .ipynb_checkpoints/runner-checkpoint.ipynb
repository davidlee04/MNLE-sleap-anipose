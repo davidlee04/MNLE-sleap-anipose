{
 "cells": [
  {
   "cell_type": "code",
   "execution_count": 1,
   "id": "7dd1b763",
   "metadata": {},
   "outputs": [],
   "source": [
    "import os.path\n",
    "import toml"
   ]
  },
  {
   "cell_type": "code",
   "execution_count": 2,
   "id": "762cf14c",
   "metadata": {},
   "outputs": [],
   "source": [
    "#adapted from anipose repo\n",
    "# converts toml to dict\n",
    "def load_config(file):\n",
    "    if os.path.exists(file):\n",
    "        try:\n",
    "            config = toml.load(file)\n",
    "        except(TypeError, toml.TomlDecodeError):\n",
    "            print('error loading config.toml') # to change\n",
    "            return\n",
    "    else:\n",
    "        print('config.toml not found') # to change\n",
    "        return\n",
    "    \n",
    "    if 'path' not in config:\n",
    "        print('path not specified') # to change\n",
    "        return\n",
    "    if 'project' not in config:\n",
    "        print('no project name specified, defaulting') # to change\n",
    "        config['project'] = os.path.dirname(file).split('/')[-1]\n",
    "                    \n",
    "    return config"
   ]
  },
  {
   "cell_type": "code",
   "execution_count": 3,
   "id": "c3607a96",
   "metadata": {},
   "outputs": [],
   "source": [
    "import pose_3d\n",
    "\n",
    "import numpy as np\n",
    "\n",
    "from scipy import signal"
   ]
  },
  {
   "cell_type": "code",
   "execution_count": 4,
   "id": "9c11493b",
   "metadata": {
    "scrolled": true
   },
   "outputs": [
    {
     "name": "stdout",
     "output_type": "stream",
     "text": [
      "AN664_041023\n",
      "D:/AN_local/AN664/041023\n",
      "Read files from session path\n",
      "calibration.toml already exists, do you want to replace it? Y/Ny\n",
      "VIDEO FILES: ['D:/AN_local/AN664/041023/../calibration\\\\CamA_Basler_acA720-520um__40048838__20230214_161645469.mp4', 'D:/AN_local/AN664/041023/../calibration\\\\CamB_Basler_acA720-520um__40080140__20230214_161642576.mp4', 'D:/AN_local/AN664/041023/../calibration\\\\camC_Basler_acA720-520um__40048837__20230214_161640084.mp4']\n",
      "NAME CamA\n",
      "NAME CamB\n",
      "CAM_VIDEOS defaultdict(<class 'list'>, {'CamA': ['D:/AN_local/AN664/041023/../calibration\\\\CamA_Basler_acA720-520um__40048838__20230214_161645469.mp4'], 'CamB': ['D:/AN_local/AN664/041023/../calibration\\\\CamB_Basler_acA720-520um__40080140__20230214_161642576.mp4']})\n",
      "CAM_NAMES ['CamA', 'CamB']\n",
      "BOARD_VIDEOS [['D:/AN_local/AN664/041023/../calibration\\\\CamA_Basler_acA720-520um__40048838__20230214_161645469.mp4'], ['D:/AN_local/AN664/041023/../calibration\\\\CamB_Basler_acA720-520um__40080140__20230214_161642576.mp4']]\n",
      "D:/AN_local/AN664/041023/../calibration\\CamA_Basler_acA720-520um__40048838__20230214_161645469.mp4\n"
     ]
    },
    {
     "name": "stderr",
     "output_type": "stream",
     "text": [
      "  8%|██                         | 3765/48997 [00:04<00:50, 895.76it/s]\n"
     ]
    },
    {
     "ename": "KeyboardInterrupt",
     "evalue": "",
     "output_type": "error",
     "traceback": [
      "\u001b[1;31m---------------------------------------------------------------------------\u001b[0m",
      "\u001b[1;31mKeyboardInterrupt\u001b[0m                         Traceback (most recent call last)",
      "\u001b[1;32m~\\AppData\\Local\\Temp\\ipykernel_94604\\1756971585.py\u001b[0m in \u001b[0;36m<module>\u001b[1;34m\u001b[0m\n\u001b[0;32m      6\u001b[0m \u001b[1;33m\u001b[0m\u001b[0m\n\u001b[0;32m      7\u001b[0m \u001b[1;31m#     pose_3d.convert()\u001b[0m\u001b[1;33m\u001b[0m\u001b[1;33m\u001b[0m\u001b[1;33m\u001b[0m\u001b[0m\n\u001b[1;32m----> 8\u001b[1;33m     \u001b[0mpose_3d\u001b[0m\u001b[1;33m.\u001b[0m\u001b[0mcalibrate\u001b[0m\u001b[1;33m(\u001b[0m\u001b[1;33m)\u001b[0m\u001b[1;33m\u001b[0m\u001b[1;33m\u001b[0m\u001b[0m\n\u001b[0m\u001b[0;32m      9\u001b[0m \u001b[1;31m#     pose_3d.filter_poses()\u001b[0m\u001b[1;33m\u001b[0m\u001b[1;33m\u001b[0m\u001b[1;33m\u001b[0m\u001b[0m\n\u001b[0;32m     10\u001b[0m \u001b[1;31m#     pose_3d.triangulate_poses()\u001b[0m\u001b[1;33m\u001b[0m\u001b[1;33m\u001b[0m\u001b[1;33m\u001b[0m\u001b[0m\n",
      "\u001b[1;32m~\\projects\\sleap-convert\\addons\\pose_3d.py\u001b[0m in \u001b[0;36mcalibrate\u001b[1;34m()\u001b[0m\n\u001b[0;32m    141\u001b[0m \u001b[1;32mdef\u001b[0m \u001b[0mcalibrate\u001b[0m\u001b[1;33m(\u001b[0m\u001b[1;33m)\u001b[0m\u001b[1;33m:\u001b[0m\u001b[1;33m\u001b[0m\u001b[1;33m\u001b[0m\u001b[0m\n\u001b[0;32m    142\u001b[0m         \u001b[1;32mglobal\u001b[0m \u001b[0mcam_names\u001b[0m\u001b[1;33m\u001b[0m\u001b[1;33m\u001b[0m\u001b[0m\n\u001b[1;32m--> 143\u001b[1;33m         \u001b[0mgenerate_calibration\u001b[0m\u001b[1;33m(\u001b[0m\u001b[0mconfig\u001b[0m\u001b[1;33m)\u001b[0m\u001b[1;33m\u001b[0m\u001b[1;33m\u001b[0m\u001b[0m\n\u001b[0m\u001b[0;32m    144\u001b[0m         \u001b[0mpath\u001b[0m \u001b[1;33m=\u001b[0m \u001b[0mconfig\u001b[0m\u001b[1;33m[\u001b[0m\u001b[1;34m'path'\u001b[0m\u001b[1;33m]\u001b[0m\u001b[1;33m\u001b[0m\u001b[1;33m\u001b[0m\u001b[0m\n\u001b[0;32m    145\u001b[0m         \u001b[0mcalibration_folder\u001b[0m \u001b[1;33m=\u001b[0m \u001b[0mpath\u001b[0m\u001b[1;33m+\u001b[0m\u001b[1;34m'/../calibration'\u001b[0m\u001b[1;33m\u001b[0m\u001b[1;33m\u001b[0m\u001b[0m\n",
      "\u001b[1;32m~\\projects\\sleap-convert\\addons\\calibration.py\u001b[0m in \u001b[0;36mgenerate_calibration\u001b[1;34m(config)\u001b[0m\n\u001b[0;32m     92\u001b[0m         \u001b[0mcgroup\u001b[0m \u001b[1;33m=\u001b[0m \u001b[0mCameraGroup\u001b[0m\u001b[1;33m.\u001b[0m\u001b[0mfrom_names\u001b[0m\u001b[1;33m(\u001b[0m\u001b[0mcam_names\u001b[0m\u001b[1;33m,\u001b[0m \u001b[0mconfig_calibration\u001b[0m\u001b[1;33m[\u001b[0m\u001b[1;34m'fisheye'\u001b[0m\u001b[1;33m]\u001b[0m\u001b[1;33m)\u001b[0m\u001b[1;33m\u001b[0m\u001b[1;33m\u001b[0m\u001b[0m\n\u001b[0;32m     93\u001b[0m \u001b[1;33m\u001b[0m\u001b[0m\n\u001b[1;32m---> 94\u001b[1;33m         \u001b[0merror\u001b[0m\u001b[1;33m,\u001b[0m \u001b[0m_\u001b[0m \u001b[1;33m=\u001b[0m \u001b[0mcgroup\u001b[0m\u001b[1;33m.\u001b[0m\u001b[0mcalibrate_videos\u001b[0m\u001b[1;33m(\u001b[0m\u001b[0mboard_videos\u001b[0m\u001b[1;33m,\u001b[0m \u001b[0mboard\u001b[0m\u001b[1;33m)\u001b[0m\u001b[1;33m\u001b[0m\u001b[1;33m\u001b[0m\u001b[0m\n\u001b[0m\u001b[0;32m     95\u001b[0m \u001b[1;33m\u001b[0m\u001b[0m\n\u001b[0;32m     96\u001b[0m         \u001b[0mcgroup\u001b[0m\u001b[1;33m.\u001b[0m\u001b[0mmetadata\u001b[0m\u001b[1;33m[\u001b[0m\u001b[1;34m'error'\u001b[0m\u001b[1;33m]\u001b[0m \u001b[1;33m=\u001b[0m \u001b[0merror\u001b[0m\u001b[1;33m.\u001b[0m\u001b[0mitem\u001b[0m\u001b[1;33m(\u001b[0m\u001b[1;33m)\u001b[0m\u001b[1;33m\u001b[0m\u001b[1;33m\u001b[0m\u001b[0m\n",
      "\u001b[1;32m~\\AppData\\Roaming\\Python\\Python37\\site-packages\\aniposelib\\cameras.py\u001b[0m in \u001b[0;36mcalibrate_videos\u001b[1;34m(self, videos, board, init_intrinsics, init_extrinsics, verbose, **kwargs)\u001b[0m\n\u001b[0;32m   1599\u001b[0m         Also takes a board which specifies what should be detected in the videos\"\"\"\n\u001b[0;32m   1600\u001b[0m \u001b[1;33m\u001b[0m\u001b[0m\n\u001b[1;32m-> 1601\u001b[1;33m         \u001b[0mall_rows\u001b[0m \u001b[1;33m=\u001b[0m \u001b[0mself\u001b[0m\u001b[1;33m.\u001b[0m\u001b[0mget_rows_videos\u001b[0m\u001b[1;33m(\u001b[0m\u001b[0mvideos\u001b[0m\u001b[1;33m,\u001b[0m \u001b[0mboard\u001b[0m\u001b[1;33m,\u001b[0m \u001b[0mverbose\u001b[0m\u001b[1;33m=\u001b[0m\u001b[0mverbose\u001b[0m\u001b[1;33m)\u001b[0m\u001b[1;33m\u001b[0m\u001b[1;33m\u001b[0m\u001b[0m\n\u001b[0m\u001b[0;32m   1602\u001b[0m         \u001b[1;32mif\u001b[0m \u001b[0minit_extrinsics\u001b[0m\u001b[1;33m:\u001b[0m\u001b[1;33m\u001b[0m\u001b[1;33m\u001b[0m\u001b[0m\n\u001b[0;32m   1603\u001b[0m             \u001b[0mself\u001b[0m\u001b[1;33m.\u001b[0m\u001b[0mset_camera_sizes_videos\u001b[0m\u001b[1;33m(\u001b[0m\u001b[0mvideos\u001b[0m\u001b[1;33m)\u001b[0m\u001b[1;33m\u001b[0m\u001b[1;33m\u001b[0m\u001b[0m\n",
      "\u001b[1;32m~\\AppData\\Roaming\\Python\\Python37\\site-packages\\aniposelib\\cameras.py\u001b[0m in \u001b[0;36mget_rows_videos\u001b[1;34m(self, videos, board, verbose)\u001b[0m\n\u001b[0;32m   1578\u001b[0m             \u001b[1;32mfor\u001b[0m \u001b[0mvnum\u001b[0m\u001b[1;33m,\u001b[0m \u001b[0mvidname\u001b[0m \u001b[1;32min\u001b[0m \u001b[0menumerate\u001b[0m\u001b[1;33m(\u001b[0m\u001b[0mcam_videos\u001b[0m\u001b[1;33m)\u001b[0m\u001b[1;33m:\u001b[0m\u001b[1;33m\u001b[0m\u001b[1;33m\u001b[0m\u001b[0m\n\u001b[0;32m   1579\u001b[0m                 \u001b[1;32mif\u001b[0m \u001b[0mverbose\u001b[0m\u001b[1;33m:\u001b[0m \u001b[0mprint\u001b[0m\u001b[1;33m(\u001b[0m\u001b[0mvidname\u001b[0m\u001b[1;33m)\u001b[0m\u001b[1;33m\u001b[0m\u001b[1;33m\u001b[0m\u001b[0m\n\u001b[1;32m-> 1580\u001b[1;33m                 \u001b[0mrows\u001b[0m \u001b[1;33m=\u001b[0m \u001b[0mboard\u001b[0m\u001b[1;33m.\u001b[0m\u001b[0mdetect_video\u001b[0m\u001b[1;33m(\u001b[0m\u001b[0mvidname\u001b[0m\u001b[1;33m,\u001b[0m \u001b[0mprefix\u001b[0m\u001b[1;33m=\u001b[0m\u001b[0mvnum\u001b[0m\u001b[1;33m,\u001b[0m \u001b[0mprogress\u001b[0m\u001b[1;33m=\u001b[0m\u001b[0mverbose\u001b[0m\u001b[1;33m)\u001b[0m\u001b[1;33m\u001b[0m\u001b[1;33m\u001b[0m\u001b[0m\n\u001b[0m\u001b[0;32m   1581\u001b[0m                 \u001b[1;32mif\u001b[0m \u001b[0mverbose\u001b[0m\u001b[1;33m:\u001b[0m \u001b[0mprint\u001b[0m\u001b[1;33m(\u001b[0m\u001b[1;34m\"{} boards detected\"\u001b[0m\u001b[1;33m.\u001b[0m\u001b[0mformat\u001b[0m\u001b[1;33m(\u001b[0m\u001b[0mlen\u001b[0m\u001b[1;33m(\u001b[0m\u001b[0mrows\u001b[0m\u001b[1;33m)\u001b[0m\u001b[1;33m)\u001b[0m\u001b[1;33m)\u001b[0m\u001b[1;33m\u001b[0m\u001b[1;33m\u001b[0m\u001b[0m\n\u001b[0;32m   1582\u001b[0m                 \u001b[0mrows_cam\u001b[0m\u001b[1;33m.\u001b[0m\u001b[0mextend\u001b[0m\u001b[1;33m(\u001b[0m\u001b[0mrows\u001b[0m\u001b[1;33m)\u001b[0m\u001b[1;33m\u001b[0m\u001b[1;33m\u001b[0m\u001b[0m\n",
      "\u001b[1;32m~\\AppData\\Roaming\\Python\\Python37\\site-packages\\aniposelib\\boards.py\u001b[0m in \u001b[0;36mdetect_video\u001b[1;34m(self, vidname, prefix, skip, progress)\u001b[0m\n\u001b[0;32m    328\u001b[0m                 \u001b[1;32mcontinue\u001b[0m\u001b[1;33m\u001b[0m\u001b[1;33m\u001b[0m\u001b[0m\n\u001b[0;32m    329\u001b[0m \u001b[1;33m\u001b[0m\u001b[0m\n\u001b[1;32m--> 330\u001b[1;33m             \u001b[0mcorners\u001b[0m\u001b[1;33m,\u001b[0m \u001b[0mids\u001b[0m \u001b[1;33m=\u001b[0m \u001b[0mself\u001b[0m\u001b[1;33m.\u001b[0m\u001b[0mdetect_image\u001b[0m\u001b[1;33m(\u001b[0m\u001b[0mframe\u001b[0m\u001b[1;33m)\u001b[0m\u001b[1;33m\u001b[0m\u001b[1;33m\u001b[0m\u001b[0m\n\u001b[0m\u001b[0;32m    331\u001b[0m \u001b[1;33m\u001b[0m\u001b[0m\n\u001b[0;32m    332\u001b[0m             \u001b[1;32mif\u001b[0m \u001b[0mcorners\u001b[0m \u001b[1;32mis\u001b[0m \u001b[1;32mnot\u001b[0m \u001b[1;32mNone\u001b[0m \u001b[1;32mand\u001b[0m \u001b[0mlen\u001b[0m\u001b[1;33m(\u001b[0m\u001b[0mcorners\u001b[0m\u001b[1;33m)\u001b[0m \u001b[1;33m>\u001b[0m \u001b[1;36m0\u001b[0m\u001b[1;33m:\u001b[0m\u001b[1;33m\u001b[0m\u001b[1;33m\u001b[0m\u001b[0m\n",
      "\u001b[1;32m~\\AppData\\Roaming\\Python\\Python37\\site-packages\\aniposelib\\boards.py\u001b[0m in \u001b[0;36mdetect_image\u001b[1;34m(self, image, camera)\u001b[0m\n\u001b[0;32m    645\u001b[0m             \u001b[0mgray\u001b[0m \u001b[1;33m=\u001b[0m \u001b[0mimage\u001b[0m\u001b[1;33m\u001b[0m\u001b[1;33m\u001b[0m\u001b[0m\n\u001b[0;32m    646\u001b[0m \u001b[1;33m\u001b[0m\u001b[0m\n\u001b[1;32m--> 647\u001b[1;33m         \u001b[0mcorners\u001b[0m\u001b[1;33m,\u001b[0m \u001b[0mids\u001b[0m \u001b[1;33m=\u001b[0m \u001b[0mself\u001b[0m\u001b[1;33m.\u001b[0m\u001b[0mdetect_markers\u001b[0m\u001b[1;33m(\u001b[0m\u001b[0mimage\u001b[0m\u001b[1;33m,\u001b[0m \u001b[0mcamera\u001b[0m\u001b[1;33m,\u001b[0m \u001b[0mrefine\u001b[0m\u001b[1;33m=\u001b[0m\u001b[1;32mTrue\u001b[0m\u001b[1;33m)\u001b[0m\u001b[1;33m\u001b[0m\u001b[1;33m\u001b[0m\u001b[0m\n\u001b[0m\u001b[0;32m    648\u001b[0m         \u001b[1;32mif\u001b[0m \u001b[0mlen\u001b[0m\u001b[1;33m(\u001b[0m\u001b[0mcorners\u001b[0m\u001b[1;33m)\u001b[0m \u001b[1;33m>\u001b[0m \u001b[1;36m0\u001b[0m\u001b[1;33m:\u001b[0m\u001b[1;33m\u001b[0m\u001b[1;33m\u001b[0m\u001b[0m\n\u001b[0;32m    649\u001b[0m             ret, detectedCorners, detectedIds = aruco.interpolateCornersCharuco(\n",
      "\u001b[1;32m~\\AppData\\Roaming\\Python\\Python37\\site-packages\\aniposelib\\boards.py\u001b[0m in \u001b[0;36mdetect_markers\u001b[1;34m(self, image, camera, refine)\u001b[0m\n\u001b[0;32m    616\u001b[0m \u001b[1;33m\u001b[0m\u001b[0m\n\u001b[0;32m    617\u001b[0m         corners, ids, rejectedImgPoints = aruco.detectMarkers(\n\u001b[1;32m--> 618\u001b[1;33m             gray, self.dictionary, parameters=params)\n\u001b[0m\u001b[0;32m    619\u001b[0m \u001b[1;33m\u001b[0m\u001b[0m\n\u001b[0;32m    620\u001b[0m         \u001b[1;32mif\u001b[0m \u001b[0mids\u001b[0m \u001b[1;32mis\u001b[0m \u001b[1;32mNone\u001b[0m\u001b[1;33m:\u001b[0m\u001b[1;33m\u001b[0m\u001b[1;33m\u001b[0m\u001b[0m\n",
      "\u001b[1;31mKeyboardInterrupt\u001b[0m: "
     ]
    }
   ],
   "source": [
    "if __name__ == \"__main__\":\n",
    "    # prompt for session directory\n",
    "    # auto look for config.toml\n",
    "    config = load_config('D:/AN_local/AN664/config.toml') # need to create way to choose/specify where config is\n",
    "    pose_3d.process_config(config)\n",
    "    \n",
    "#     pose_3d.convert()\n",
    "    pose_3d.calibrate()\n",
    "#     pose_3d.filter_poses()\n",
    "#     pose_3d.triangulate_poses()"
   ]
  },
  {
   "cell_type": "code",
   "execution_count": null,
   "id": "ba333c8c",
   "metadata": {},
   "outputs": [],
   "source": [
    "from ipyfilechooser import FileChooser\n",
    "\n",
    "fc = FileChooser('D:/AN_local/AN664')\n",
    "display(fc)"
   ]
  }
 ],
 "metadata": {
  "kernelspec": {
   "display_name": "Python 3 (ipykernel)",
   "language": "python",
   "name": "python3"
  },
  "language_info": {
   "codemirror_mode": {
    "name": "ipython",
    "version": 3
   },
   "file_extension": ".py",
   "mimetype": "text/x-python",
   "name": "python",
   "nbconvert_exporter": "python",
   "pygments_lexer": "ipython3",
   "version": "3.7.12"
  }
 },
 "nbformat": 4,
 "nbformat_minor": 5
}
