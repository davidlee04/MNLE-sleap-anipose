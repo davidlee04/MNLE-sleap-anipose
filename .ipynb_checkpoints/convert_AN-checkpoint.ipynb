{
 "cells": [
  {
   "cell_type": "code",
   "execution_count": 5,
   "id": "07389764",
   "metadata": {},
   "outputs": [
    {
     "name": "stdout",
     "output_type": "stream",
     "text": [
      "D:/AN_local/AN1483/071623/predictions\n"
     ]
    }
   ],
   "source": [
    "input_path ='D:/AN_local/AN1483/071623/predictions'\n",
    "# F:/Ropepull/20221122_Pilot_set/predictions\n",
    "print(input_path)"
   ]
  },
  {
   "cell_type": "code",
   "execution_count": 6,
   "id": "67c760e2",
   "metadata": {},
   "outputs": [],
   "source": [
    "# Get all .slp files\n",
    "input_file_pattern = r'.*\\.slp'"
   ]
  },
  {
   "cell_type": "code",
   "execution_count": 7,
   "id": "83d39c72",
   "metadata": {},
   "outputs": [],
   "source": [
    "from utils import get_files"
   ]
  },
  {
   "cell_type": "code",
   "execution_count": 8,
   "id": "ac37aacd",
   "metadata": {},
   "outputs": [
    {
     "name": "stdout",
     "output_type": "stream",
     "text": [
      "['D:/AN_local/AN1483/071623/predictions\\\\Cam00_0000000230716.avi.230912_122845.predictions.slp', 'D:/AN_local/AN1483/071623/predictions\\\\Cam01_0000000230716.avi.230912_151938.predictions.slp', 'D:/AN_local/AN1483/071623/predictions\\\\Cam02_0000000230716.avi.230912_174828.predictions.slp']\n"
     ]
    }
   ],
   "source": [
    "input_files = get_files(input_path, input_file_pattern)\n",
    "print(input_files)"
   ]
  },
  {
   "cell_type": "code",
   "execution_count": 9,
   "id": "894ebfca",
   "metadata": {},
   "outputs": [],
   "source": [
    "conversion_format = 'analysis'\n",
    "assert conversion_format in ['h5', 'slp', 'json', 'analysis'], f'Incorrect conversion format {format}'\n",
    "if conversion_format == 'analysis':\n",
    "    ext = '.analysis.h5'\n",
    "else:\n",
    "    ext = '.' + conversion_format"
   ]
  },
  {
   "cell_type": "code",
   "execution_count": 10,
   "id": "e8037271",
   "metadata": {},
   "outputs": [],
   "source": [
    "from os.path import split, exists, join\n",
    "from os import mkdir"
   ]
  },
  {
   "cell_type": "code",
   "execution_count": 11,
   "id": "5663f762",
   "metadata": {},
   "outputs": [],
   "source": [
    "out_path ='D:/AN_local/AN1483/071623/predictions_h5'\n",
    "# if save location does not exist, create it\n",
    "if not exists(out_path):\n",
    "    mkdir(out_path)"
   ]
  },
  {
   "cell_type": "code",
   "execution_count": 12,
   "id": "f88af2cc",
   "metadata": {},
   "outputs": [],
   "source": [
    "from utils import extract_prefix, extract_match\n",
    "from io_sleap import convert\n",
    "from IPython.utils import io"
   ]
  },
  {
   "cell_type": "code",
   "execution_count": 13,
   "id": "e294f1a2",
   "metadata": {},
   "outputs": [
    {
     "name": "stdout",
     "output_type": "stream",
     "text": [
      "Saving to D:/AN_local/AN664/041023/predictions_h5\\Cam0_0000000230716.analysis.h5\n",
      "Saving to D:/AN_local/AN664/041023/predictions_h5\\Cam1_0000000230716.analysis.h5\n",
      "Saving to D:/AN_local/AN664/041023/predictions_h5\\Cam2_0000000230716.analysis.h5\n"
     ]
    }
   ],
   "source": [
    "for in_filepath in input_files:\n",
    "    _, in_filename = split(in_filepath)\n",
    "    camID = extract_match(in_filename, pattern = r'.*Cam\\d+')\n",
    "    if camID == 'Cam00':\n",
    "        out_camID = 'Cam0'\n",
    "    elif camID == 'Cam01':\n",
    "        out_camID = 'Cam1'\n",
    "    elif camID == 'Cam02':\n",
    "        out_camID = 'Cam2'\n",
    "    temp_filename = in_filename.split('.')\n",
    "    temp_filename2 = temp_filename[0].split('_')\n",
    "    out_filename = out_camID + '_' + temp_filename2[1] + ext\n",
    "    out_filepath = join(out_path, out_filename)\n",
    "    print(f'Saving to {out_filepath}')\n",
    "    # Convert file\n",
    "    with io.capture_output() as captured: # Block unnecessary output from sleap.info.write_tracking_h5.write_occupancy_file\n",
    "        convert(in_filepath, out_filepath, format=conversion_format)"
   ]
  },
  {
   "cell_type": "code",
   "execution_count": null,
   "id": "cc422a32",
   "metadata": {},
   "outputs": [],
   "source": []
  },
  {
   "cell_type": "code",
   "execution_count": 40,
   "id": "319a8f18",
   "metadata": {},
   "outputs": [
    {
     "data": {
      "text/plain": [
       "'Cam0_0000000230424'"
      ]
     },
     "execution_count": 40,
     "metadata": {},
     "output_type": "execute_result"
    }
   ],
   "source": []
  },
  {
   "cell_type": "code",
   "execution_count": null,
   "id": "0fd11587",
   "metadata": {},
   "outputs": [],
   "source": []
  }
 ],
 "metadata": {
  "kernelspec": {
   "display_name": "sleap_126",
   "language": "python",
   "name": "sleap_126"
  },
  "language_info": {
   "codemirror_mode": {
    "name": "ipython",
    "version": 3
   },
   "file_extension": ".py",
   "mimetype": "text/x-python",
   "name": "python",
   "nbconvert_exporter": "python",
   "pygments_lexer": "ipython3",
   "version": "3.7.12"
  }
 },
 "nbformat": 4,
 "nbformat_minor": 5
}
