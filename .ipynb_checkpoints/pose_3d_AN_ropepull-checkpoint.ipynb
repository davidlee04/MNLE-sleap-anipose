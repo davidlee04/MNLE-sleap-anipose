{
 "cells": [
  {
   "cell_type": "code",
   "execution_count": 1,
   "id": "988008c8",
   "metadata": {},
   "outputs": [],
   "source": [
    "# Generic imports\n",
    "from os import listdir\n",
    "from os.path import join, split\n",
    "import numpy as np \n",
    "import matplotlib.pyplot as plt \n",
    "import h5py\n",
    "import re\n",
    "from scipy.io import savemat\n",
    "import importlib\n",
    "import h5py\n",
    "from IPython.utils import io"
   ]
  },
  {
   "cell_type": "code",
   "execution_count": 2,
   "id": "374a7ef4",
   "metadata": {},
   "outputs": [],
   "source": [
    "# Custom libraries \n",
    "spec = importlib.util.find_spec('aniposelib')\n",
    "if spec is None:\n",
    "    #print(package_name +\" is not installed\")\n",
    "    !python -m pip install --user aniposelib\n",
    "from aniposelib.cameras import CameraGroup\n",
    "from preprocessing import get_2d_poses\n",
    "from aniposelib.utils import load_pose2d_fnames\n",
    "from triangulation_v2 import TriangulationMethod, get_3d_poses"
   ]
  },
  {
   "cell_type": "code",
   "execution_count": 3,
   "id": "2f7ab673",
   "metadata": {},
   "outputs": [],
   "source": [
    "from os.path import split, exists, join\n",
    "from os import mkdir"
   ]
  },
  {
   "cell_type": "code",
   "execution_count": 25,
   "id": "1dc6f869",
   "metadata": {},
   "outputs": [
    {
     "name": "stdout",
     "output_type": "stream",
     "text": [
      "D:/AN_local/Rope-pull/CFL18/041123/calibration/calibration.toml\n",
      "D:/AN_local/Rope-pull/CFL18/041123/predictions_h5\n",
      "predictions_h5\n"
     ]
    }
   ],
   "source": [
    "# Init path with session data\n",
    "data_filepath = 'D:/AN_local/Rope-pull/CFL24/082323/'\n",
    "session_filepath = data_filepath + 'predictions_h5'\n",
    "_, session_name = split(session_filepath)\n",
    "save_filepath = data_filepath + 'pose3d'\n",
    "# Camera name in the h5 file (must be the same for a given session)\n",
    "# if save location does not exist, create it\n",
    "if not exists(save_filepath):\n",
    "    mkdir(save_filepath)\n",
    "camera_ids = ['cam1','cam2']\n",
    "# Pre-computed calibration file (must be the same for a given session)\n",
    "calibration_file = data_filepath + 'calibration/calibration.toml'\n",
    "print(calibration_file)\n",
    "print(session_filepath)\n",
    "print(session_name)"
   ]
  },
  {
   "cell_type": "code",
   "execution_count": 26,
   "id": "9e754665",
   "metadata": {},
   "outputs": [],
   "source": [
    "# Choose triangulation method\n",
    "\"\"\"TriangulationMethod.\n",
    "    simple\n",
    "    calibrated_dtl    \n",
    "    calibrated_ransac.\"\"\"\n",
    "triangulate = TriangulationMethod.simple\n",
    "refine_calibration = False\n",
    "show_progress = False"
   ]
  },
  {
   "cell_type": "code",
   "execution_count": 27,
   "id": "f637fefa",
   "metadata": {},
   "outputs": [
    {
     "name": "stdout",
     "output_type": "stream",
     "text": [
      "Read files from session path\n"
     ]
    },
    {
     "data": {
      "text/plain": [
       "['CFL18_04112023_saline_1_15-39-03_cam1_04112023.analysis.h5',\n",
       " 'CFL18_04112023_saline_1_15-39-03_cam2_04112023.analysis.h5']"
      ]
     },
     "execution_count": 27,
     "metadata": {},
     "output_type": "execute_result"
    }
   ],
   "source": [
    "h5_regex = re.compile('.*cam.*.h5')\n",
    "file_list = list(filter(h5_regex.match, listdir(session_filepath)))\n",
    "print('Read files from session path')\n",
    "file_list"
   ]
  },
  {
   "cell_type": "code",
   "execution_count": 28,
   "id": "6226b016",
   "metadata": {},
   "outputs": [
    {
     "data": {
      "text/plain": [
       "['CFL18_04112023_saline_1_15-39-03_cam1_04112023.analysis.h5']"
      ]
     },
     "execution_count": 28,
     "metadata": {},
     "output_type": "execute_result"
    }
   ],
   "source": [
    "cam1_regex = re.compile(f'.*{camera_ids[0]}.*.h5')\n",
    "cam1_file_list = list(filter(cam1_regex.match, file_list))\n",
    "cam1_file_list"
   ]
  },
  {
   "cell_type": "code",
   "execution_count": 29,
   "id": "039d95b7",
   "metadata": {},
   "outputs": [
    {
     "data": {
      "text/plain": [
       "2"
      ]
     },
     "execution_count": 29,
     "metadata": {},
     "output_type": "execute_result"
    }
   ],
   "source": [
    "n_cams"
   ]
  },
  {
   "cell_type": "code",
   "execution_count": 30,
   "id": "a71b1c08",
   "metadata": {},
   "outputs": [
    {
     "name": "stdout",
     "output_type": "stream",
     "text": [
      "Processing CFL18_04112023_saline_1_15-39-03_04112023.analysis.h5\n",
      "Saving pose 3d to D:/AN_local/Rope-pull/CFL18/041123/pose3d\\CFL18_04112023_saline_1_15-39-03_04112023.analysis.mat\n"
     ]
    }
   ],
   "source": [
    "for cam1_file in cam1_file_list:\n",
    "    trial_name = cam1_file.replace('_' + camera_ids[0], '')\n",
    "    print(f'Processing {trial_name}')\n",
    "    # Get files for camera group (cam1,2,3) for a given trial\n",
    "    cam_group = [cam1_file.replace(camera_ids[0], cam_idx) for cam_idx in camera_ids]\n",
    "    \"\"\"Get trial data from h5 file.\"\"\"\n",
    "    with h5py.File(join(session_filepath, cam1_file), 'r') as cam1_h5_file:\n",
    "        marker_names = list(cam1_h5_file['node_names'][()])\n",
    "    video_files = []\n",
    "    for cam_file in cam_group:\n",
    "        with h5py.File(join(session_filepath, cam_file), 'r') as cam_h5_file:\n",
    "            video_files.append(cam_h5_file['video_path'][()])\n",
    "    \"\"\"Get 2D data.\"\"\"\n",
    "    # The get_2D_poses function returns 2D tracks for a single file at a time,\n",
    "    # so we append all the tracks to a list and then stack the 2D tracks on top of each other. \n",
    "    pose2d = [get_2d_poses(join(session_filepath, file)) for file in cam_group]\n",
    "    pose2d = np.stack(pose2d, axis=0)[:, :]\n",
    "\n",
    "    n_cams, n_frames, n_nodes, _, n_tracks = pose2d.shape\n",
    "    \"\"\"Get 3D data from triangulation.\"\"\"\n",
    "    \"\"\"Aniposelib gives us the option to triangulate with the direct linear transformation (DLT) or with RANSAC,\n",
    "    which adds an outlier rejection subroutine to the DLT. <br>\n",
    "    In addition to these 2 triangulation methods, we can further refine the 3D points via direct optimization\n",
    "    of the reprojection error.\n",
    "    def get_3d_poses(\n",
    "                    poses_2d: list,\n",
    "                    camera_mats: list = [],\n",
    "                    calibration_filepath: str = None,\n",
    "                    triangulate: TriangulationMethod = TriangulationMethod.simple,\n",
    "                    refine_calibration: bool = False,\n",
    "                    show_progress: bool = False\n",
    "                    ) -> np.ndarray\n",
    "    Args:\n",
    "        poses_2d: A length # cameras list of pose matrices for a single animal. Each pose matrix is of \n",
    "        shape (# frames, # nodes, 2, # tracks).\n",
    "        \n",
    "        camera_mats: A length # cameras list of camera matrices. Each camera matrix is a (3,4) ndarray. \n",
    "        Note that the camera matrices and pose_2d matrices have to be ordered in a corresponding fashion.\n",
    "        or\n",
    "        calibration_filepath: Filepath to calibration.toml\n",
    "\n",
    "        triangulate: Triangulation method\n",
    "            - simple: No other options are required\n",
    "            - calibrated_dtl: refine_calibration, show_progress can be passed\n",
    "            - calibrated_ransac: refine_calibration, show_progress can be passed\n",
    "\n",
    "        refine_calibration: bool = False, Use CameraGroup.optim refinement\n",
    "\n",
    "        show_progress: bool = False, Show progress of calibration\n",
    "        \n",
    "    Returns:\n",
    "        poses_3d: A (# frames, # nodes, 3, # tracks) that corresponds to the triangulated 3D points in the world frame. \n",
    "    \"\"\"\n",
    "    with io.capture_output() as captured:\n",
    "        pose3d = get_3d_poses(poses_2d=pose2d,\n",
    "                             calibration_filepath=calibration_file,\n",
    "                             triangulate=TriangulationMethod.calibrated_ransac,\n",
    "                             refine_calibration=refine_calibration,\n",
    "                             show_progress=show_progress)\n",
    "    mat_dict = {'session': session_name,\n",
    "                'trial': trial_name.replace('.h5', ''),\n",
    "                'marker_names': marker_names,\n",
    "                'video_files': video_files,\n",
    "                'pose3d': pose3d}\n",
    "    mat_file = join(save_filepath, trial_name.replace('.h5', '.mat'))\n",
    "        \n",
    "    print(f'Saving pose 3d to {mat_file}')\n",
    "    savemat(mat_file, mat_dict)"
   ]
  },
  {
   "cell_type": "code",
   "execution_count": null,
   "id": "cfa48705",
   "metadata": {},
   "outputs": [],
   "source": []
  }
 ],
 "metadata": {
  "kernelspec": {
   "display_name": "sleap_126",
   "language": "python",
   "name": "sleap_126"
  },
  "language_info": {
   "codemirror_mode": {
    "name": "ipython",
    "version": 3
   },
   "file_extension": ".py",
   "mimetype": "text/x-python",
   "name": "python",
   "nbconvert_exporter": "python",
   "pygments_lexer": "ipython3",
   "version": "3.7.12"
  }
 },
 "nbformat": 4,
 "nbformat_minor": 5
}
