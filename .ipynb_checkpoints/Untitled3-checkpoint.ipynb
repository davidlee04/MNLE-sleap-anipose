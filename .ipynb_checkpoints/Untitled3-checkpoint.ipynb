{
 "cells": [
  {
   "cell_type": "code",
   "execution_count": 223,
   "id": "1c4a7c4c",
   "metadata": {},
   "outputs": [],
   "source": [
    "# Generic imports\n",
    "from os import listdir\n",
    "from os.path import join, split\n",
    "import numpy as np \n",
    "import matplotlib.pyplot as plt \n",
    "import h5py\n",
    "import re\n",
    "from scipy.io import savemat\n",
    "import importlib\n",
    "import h5py\n",
    "from IPython.utils import io\n",
    "import toml"
   ]
  },
  {
   "cell_type": "code",
   "execution_count": 224,
   "id": "0e383549",
   "metadata": {},
   "outputs": [],
   "source": [
    "# Custom libraries \n",
    "spec = importlib.util.find_spec('aniposelib')\n",
    "if spec is None:\n",
    "    #print(package_name +\" is not installed\")\n",
    "    !python -m pip install --user aniposelib\n",
    "from aniposelib.cameras import CameraGroup\n",
    "from preprocessing import get_2d_poses\n",
    "from aniposelib.utils import load_pose2d_fnames\n",
    "from triangulation_v2 import TriangulationMethod, get_3d_poses\n",
    "from filter import filter_pose_medfilt"
   ]
  },
  {
   "cell_type": "code",
   "execution_count": 225,
   "id": "f50becbf",
   "metadata": {},
   "outputs": [],
   "source": [
    "from os.path import split, exists, join\n",
    "from os import mkdir"
   ]
  },
  {
   "cell_type": "code",
   "execution_count": 252,
   "id": "a5027fac",
   "metadata": {},
   "outputs": [],
   "source": [
    "# Init path with session data\n",
    "animalID = 'CFL28'\n",
    "sessionID = '091923'\n",
    "session_filepath ='F:/AN_local/Joystick/' + animalID +'/'+sessionID +'/predictions_h5'\n",
    "_, session_name = split(session_filepath)\n",
    "save_filepath ='F:/AN_local/Joystick/' + animalID +'/'+sessionID + '/pose3d'\n",
    "# Camera name in the h5 file (must be the same for a given session)\n",
    "# if save location does not exist, create it\n",
    "if not exists(save_filepath):\n",
    "    mkdir(save_filepath)\n",
    "camera_ids = ['Cam01','Cam02']\n",
    "# Pre-computed calibration file (must be the same for a given session)\n",
    "calibration_file = 'F:/AN_local/Joystick/' + animalID + '/calibration/calibration.toml'\n",
    "config_file_path = 'F:/AN_local/Joystick/' + animalID + '/config.toml'\n",
    "config_file = toml.load(config_file_path)"
   ]
  },
  {
   "cell_type": "code",
   "execution_count": 253,
   "id": "929a7c17",
   "metadata": {},
   "outputs": [
    {
     "name": "stdout",
     "output_type": "stream",
     "text": [
      "Read files from session path\n"
     ]
    }
   ],
   "source": [
    "h5_regex = re.compile('.*Cam.*.h5')\n",
    "file_list = list(filter(h5_regex.match, listdir(session_filepath)))\n",
    "print('Read files from session path')\n",
    "h5_regex\n",
    "cam1_regex = re.compile(f'.*{camera_ids[0]}.*.h5')\n",
    "cam1_file_list = list(filter(cam1_regex.match, file_list))"
   ]
  },
  {
   "cell_type": "code",
   "execution_count": 254,
   "id": "9b426e7f",
   "metadata": {},
   "outputs": [],
   "source": [
    "# Choose triangulation method\n",
    "\"\"\"TriangulationMethod.\n",
    "    simple\n",
    "    calibrated_dtl    \n",
    "    calibrated_ransac.\"\"\"\n",
    "triangulate = TriangulationMethod.simple\n",
    "refine_calibration = False\n",
    "show_progress = False"
   ]
  },
  {
   "cell_type": "code",
   "execution_count": 256,
   "id": "a1936901",
   "metadata": {},
   "outputs": [
    {
     "name": "stdout",
     "output_type": "stream",
     "text": [
      "F:/AN_local/Joystick/CFL28/091923/predictions_h5\\Cam01_0000517666.analysis.h5\n",
      "(36000, 5, 2, 1)\n",
      "INFO:numba.core.transforms:finding looplift candidates\n"
     ]
    },
    {
     "ename": "NameError",
     "evalue": "name 'trial_name' is not defined",
     "output_type": "error",
     "traceback": [
      "\u001b[1;31m---------------------------------------------------------------------------\u001b[0m",
      "\u001b[1;31mNameError\u001b[0m                                 Traceback (most recent call last)",
      "\u001b[1;32m~\\AppData\\Local\\Temp\\ipykernel_10980\\935663024.py\u001b[0m in \u001b[0;36m<module>\u001b[1;34m\u001b[0m\n\u001b[0;32m     28\u001b[0m                                  show_progress=show_progress)\n\u001b[0;32m     29\u001b[0m         mat_dict = {'session': session_name,\n\u001b[1;32m---> 30\u001b[1;33m                     \u001b[1;34m'trial'\u001b[0m\u001b[1;33m:\u001b[0m \u001b[0mtrial_name\u001b[0m\u001b[1;33m.\u001b[0m\u001b[0mreplace\u001b[0m\u001b[1;33m(\u001b[0m\u001b[1;34m'.h5'\u001b[0m\u001b[1;33m,\u001b[0m \u001b[1;34m''\u001b[0m\u001b[1;33m)\u001b[0m\u001b[1;33m,\u001b[0m\u001b[1;33m\u001b[0m\u001b[1;33m\u001b[0m\u001b[0m\n\u001b[0m\u001b[0;32m     31\u001b[0m                     \u001b[1;34m'marker_names'\u001b[0m\u001b[1;33m:\u001b[0m \u001b[0mmarker_names\u001b[0m\u001b[1;33m,\u001b[0m\u001b[1;33m\u001b[0m\u001b[1;33m\u001b[0m\u001b[0m\n\u001b[0;32m     32\u001b[0m                     \u001b[1;34m'video_files'\u001b[0m\u001b[1;33m:\u001b[0m \u001b[0mvideo_files\u001b[0m\u001b[1;33m,\u001b[0m\u001b[1;33m\u001b[0m\u001b[1;33m\u001b[0m\u001b[0m\n",
      "\u001b[1;31mNameError\u001b[0m: name 'trial_name' is not defined"
     ]
    }
   ],
   "source": [
    "for cam1_file in cam1_file_list:\n",
    "    cam_group = [cam1_file.replace(camera_ids[0], cam_idx) for cam_idx in camera_ids]\n",
    "    pose2d_filtered_stack = np.array([])\n",
    "    trial_name = cam1_file.replace('_' + camera_ids[0], '')\n",
    "    print(f'Processing {trial_name}')\n",
    "    # Get files for camera group (cam1,2,3) for a given trial\n",
    "    cam_group = [cam1_file.replace(camera_ids[0], cam_idx) for cam_idx in camera_ids]\n",
    "    \"\"\"Get trial data from h5 file.\"\"\"\n",
    "    with h5py.File(join(session_filepath, cam1_file), 'r') as cam1_h5_file:\n",
    "        marker_names = list(cam1_h5_file['node_names'][()])\n",
    "    video_files = []\n",
    "    for cam_file in cam_group:\n",
    "        with h5py.File(join(session_filepath, cam_file), 'r') as cam_h5_file:\n",
    "            video_files.append(cam_h5_file['video_path'][()])\n",
    "    \"\"\"Get 2D data.\"\"\"\n",
    "    # The get_2D_poses function returns 2D tracks for a single file at a time,\n",
    "    # so we append all the tracks to a list and then stack the 2D tracks on top of each other. \n",
    "    pose2d = [get_2d_poses(join(session_filepath, file)) for file in cam_group]\n",
    "    pose2d = np.stack(pose2d, axis=0)[:, :]\n",
    "\n",
    "    n_cams, n_frames, n_nodes, _, n_tracks = pose2d.shape\n",
    "    \"\"\"Get 3D data from triangulation.\"\"\"\n",
    "    \"\"\"Aniposelib gives us the option to triangulate with the direct linear transformation (DLT) or with RANSAC,\n",
    "    which adds an outlier rejection subroutine to the DLT. <br>\n",
    "    In addition to these 2 triangulation methods, we can further refine the 3D points via direct optimization\n",
    "    of the reprojection error.\n",
    "    def get_3d_poses(\n",
    "                    poses_2d: list,\n",
    "                    camera_mats: list = [],\n",
    "                    calibration_filepath: str = None,\n",
    "                    triangulate: TriangulationMethod = TriangulationMethod.simple,\n",
    "                    refine_calibration: bool = False,\n",
    "                    show_progress: bool = False\n",
    "                    ) -> np.ndarray\n",
    "    Args:\n",
    "        poses_2d: A length # cameras list of pose matrices for a single animal. Each pose matrix is of \n",
    "        shape (# frames, # nodes, 2, # tracks).\n",
    "        \n",
    "        camera_mats: A length # cameras list of camera matrices. Each camera matrix is a (3,4) ndarray. \n",
    "        Note that the camera matrices and pose_2d matrices have to be ordered in a corresponding fashion.\n",
    "        or\n",
    "        calibration_filepath: Filepath to calibration.toml\n",
    "\n",
    "        triangulate: Triangulation method\n",
    "            - simple: No other options are required\n",
    "            - calibrated_dtl: refine_calibration, show_progress can be passed\n",
    "            - calibrated_ransac: refine_calibration, show_progress can be passed\n",
    "\n",
    "        refine_calibration: bool = False, Use CameraGroup.optim refinement\n",
    "\n",
    "        show_progress: bool = False, Show progress of calibration\n",
    "        \n",
    "    Returns:\n",
    "        poses_3d: A (# frames, # nodes, 3, # tracks) that corresponds to the triangulated 3D points in the world frame. \n",
    "    \"\"\"\n",
    "    with io.capture_output() as captured:\n",
    "        pose3d = get_3d_poses(poses_2d=pose2d,\n",
    "                             calibration_filepath=calibration_file,\n",
    "                             triangulate=TriangulationMethod.calibrated_ransac,\n",
    "                             refine_calibration=refine_calibration,\n",
    "                             show_progress=show_progress)\n",
    "    mat_dict = {'session': session_name,\n",
    "                'trial': trial_name.replace('.h5', ''),\n",
    "                'marker_names': marker_names,\n",
    "                'video_files': video_files,\n",
    "                'pose3d': pose3d}\n",
    "    mat_file = join(save_filepath, trial_name.replace('.h5', '.mat'))\n",
    "        \n",
    "    print(f'Saving pose 3d to {mat_file}')\n",
    "    savemat(mat_file, mat_dict)\n",
    "    \n",
    "    #for cam_file in cam_group:\n",
    "    #    analysis_file = join(session_filepath, cam_file)\n",
    "    #    print(analysis_file)\n",
    "    #    pose2d = get_2d_poses(analysis_file)\n",
    "    #    print(pose2d.shape)\n",
    "    #    n_frames, n_nodes, _, n_tracks = pose2d.shape\n",
    "    #    with h5py.File(analysis_file, 'r') as f:\n",
    "    #        score = f['point_scores'][:].T\n",
    "            \n",
    "    #    pose2d = pose2d.reshape(n_frames, n_nodes, 1, 2)\n",
    "    #    [pose2d_filtered,score_filtered] = filter_pose_medfilt(config_file,pose2d,score)\n",
    "    #    pose2d_filtered = pose2d_filtered.reshape(n_frames, n_nodes, 2, 1)\n",
    "    #    pose2d_filtered_stack = np.vstack([pose2d_filtered_stack,pose2d_filtered]) if pose2d_filtered_stack.size else pose2d_filtered\n",
    "        \n",
    "        "
   ]
  },
  {
   "cell_type": "code",
   "execution_count": 230,
   "id": "8fce0a33",
   "metadata": {},
   "outputs": [
    {
     "data": {
      "text/plain": [
       "(72000, 5, 2, 1)"
      ]
     },
     "execution_count": 230,
     "metadata": {},
     "output_type": "execute_result"
    }
   ],
   "source": [
    "pose2d_filtered_stack.shape"
   ]
  },
  {
   "cell_type": "code",
   "execution_count": 231,
   "id": "6b8c2a47",
   "metadata": {},
   "outputs": [
    {
     "data": {
      "text/plain": [
       "(36000, 5, 1, 2)"
      ]
     },
     "execution_count": 231,
     "metadata": {},
     "output_type": "execute_result"
    }
   ],
   "source": [
    "pose2d.shape"
   ]
  },
  {
   "cell_type": "code",
   "execution_count": 232,
   "id": "94004144",
   "metadata": {},
   "outputs": [
    {
     "data": {
      "text/plain": [
       "83450"
      ]
     },
     "execution_count": 232,
     "metadata": {},
     "output_type": "execute_result"
    }
   ],
   "source": [
    "41725*2"
   ]
  },
  {
   "cell_type": "code",
   "execution_count": 233,
   "id": "1972e6f0",
   "metadata": {},
   "outputs": [],
   "source": [
    "[point,score] = filter_pose_medfilt(config_file,pose2d,score)"
   ]
  },
  {
   "cell_type": "code",
   "execution_count": 234,
   "id": "b50aaee1",
   "metadata": {},
   "outputs": [
    {
     "data": {
      "text/plain": [
       "(36000, 5, 2)"
      ]
     },
     "execution_count": 234,
     "metadata": {},
     "output_type": "execute_result"
    }
   ],
   "source": [
    "point.shape"
   ]
  },
  {
   "cell_type": "code",
   "execution_count": 242,
   "id": "7dbdda69",
   "metadata": {},
   "outputs": [
    {
     "data": {
      "text/plain": [
       "(1000.0, 7000.0)"
      ]
     },
     "execution_count": 242,
     "metadata": {},
     "output_type": "execute_result"
    },
    {
     "data": {
      "image/png": "[encoded data removed]",
      "text/plain": [
       "<Figure size 432x288 with 1 Axes>"
      ]
     },
     "metadata": {
      "needs_background": "light"
     },
     "output_type": "display_data"
    }
   ],
   "source": [
    "import matplotlib.pyplot as plt\n",
    "plt.plot(point[:,0,0])\n",
    "plt.plot(pose2d[:,0,0,0])\n",
    "plt.ylim([150,325])\n",
    "plt.xlim([1000,7000])"
   ]
  },
  {
   "cell_type": "code",
   "execution_count": 244,
   "id": "278a2e5e",
   "metadata": {},
   "outputs": [
    {
     "data": {
      "text/plain": [
       "array([-2.46985255e+07, -2.44001027e+07, -2.41040935e+07, -2.38104881e+07,\n",
       "       -2.35192765e+07, -2.32304491e+07, -2.29439961e+07, -2.26599075e+07,\n",
       "       -2.23781738e+07, -2.20987849e+07, -2.18217312e+07, -2.15470029e+07,\n",
       "       -2.12745900e+07, -2.10044829e+07, -2.07366718e+07, -2.04711468e+07,\n",
       "       -2.02078981e+07, -1.99469160e+07, -1.96881906e+07, -1.94317122e+07,\n",
       "       -1.91774709e+07, -1.89254570e+07, -1.86756606e+07, -1.84280719e+07,\n",
       "       -1.81826812e+07, -1.79394786e+07, -1.76984544e+07, -1.74595987e+07,\n",
       "       -1.72229018e+07, -1.69883538e+07, -1.67559450e+07, -1.65256655e+07,\n",
       "       -1.62975055e+07, -1.60714553e+07, -1.58475051e+07, -1.56256450e+07,\n",
       "       -1.54058653e+07, -1.51881561e+07, -1.49725076e+07, -1.47589101e+07,\n",
       "       -1.45473538e+07, -1.43378288e+07, -1.41303254e+07, -1.39248337e+07,\n",
       "       -1.37213440e+07, -1.35198464e+07, -1.33203312e+07, -1.31227885e+07,\n",
       "       -1.29272086e+07, -1.27335816e+07, -1.25418978e+07, -1.23521474e+07,\n",
       "       -1.21643205e+07, -1.19784074e+07, -1.17943982e+07, -1.16122832e+07,\n",
       "       -1.14320525e+07, -1.12536964e+07, -1.10772051e+07, -1.09025687e+07,\n",
       "       -1.07297775e+07, -1.05588216e+07, -1.03896913e+07, -1.02223768e+07,\n",
       "       -1.00568682e+07, -9.89315581e+06, -9.73122976e+06, -9.57108027e+06,\n",
       "       -9.41269755e+06, -9.25607179e+06, -9.10119319e+06, -8.94805196e+06,\n",
       "       -8.79663829e+06, -8.64694239e+06, -8.49895445e+06, -8.35266468e+06,\n",
       "       -8.20806328e+06, -8.06514044e+06, -7.92388637e+06, -7.78429127e+06,\n",
       "       -7.64634534e+06, -7.51003878e+06, -7.37536178e+06, -7.24230456e+06,\n",
       "       -7.11085730e+06, -6.98101022e+06, -6.85275350e+06, -6.72607736e+06,\n",
       "       -6.60097199e+06, -6.47742759e+06, -6.35543437e+06, -6.23498251e+06,\n",
       "       -6.11606223e+06, -5.99866373e+06, -5.88277720e+06, -5.76839284e+06,\n",
       "       -5.65550086e+06, -5.54409145e+06, -5.43415482e+06, -5.32568116e+06,\n",
       "       -5.21866069e+06, -5.11308359e+06, -5.00894006e+06, -4.90622032e+06,\n",
       "       -4.80491455e+06, -4.70501296e+06, -4.60650576e+06, -4.50938313e+06,\n",
       "       -4.41363528e+06, -4.31925241e+06, -4.22622472e+06, -4.13454242e+06,\n",
       "       -4.04419569e+06, -3.95517475e+06, -3.86746979e+06, -3.78107102e+06,\n",
       "       -3.69596862e+06, -3.61215281e+06, -3.52961379e+06, -3.44834175e+06,\n",
       "       -3.36832689e+06, -3.28955942e+06, -3.21202954e+06, -3.13572744e+06,\n",
       "       -3.06064333e+06, -2.98676741e+06, -2.91408988e+06, -2.84260093e+06,\n",
       "       -2.77229077e+06, -2.70314960e+06, -2.63516762e+06, -2.56833503e+06,\n",
       "       -2.50264203e+06, -2.43807882e+06, -2.37463560e+06, -2.31230257e+06,\n",
       "       -2.25106993e+06, -2.19092789e+06, -2.13186664e+06, -2.07387638e+06,\n",
       "       -2.01694731e+06, -1.96106964e+06, -1.90623357e+06, -1.85242929e+06,\n",
       "       -1.79964700e+06, -1.74787691e+06, -1.69710921e+06, -1.64733411e+06,\n",
       "       -1.59854181e+06, -1.55072251e+06, -1.50386640e+06, -1.45796369e+06,\n",
       "       -1.41300458e+06, -1.36897927e+06, -1.32587796e+06, -1.28369085e+06,\n",
       "       -1.24240814e+06, -1.20202003e+06, -1.16251672e+06, -1.12388841e+06,\n",
       "       -1.08612530e+06, -1.04921760e+06, -1.01315549e+06, -9.77929196e+05,\n",
       "       -9.43528902e+05, -9.09944811e+05, -8.77167124e+05, -8.45186042e+05,\n",
       "       -8.13991766e+05, -7.83574495e+05, -7.53924430e+05, -7.25031772e+05,\n",
       "       -6.96886720e+05, -6.69479476e+05, -6.42800240e+05, -6.16839212e+05,\n",
       "       -5.91586593e+05, -5.67032582e+05, -5.43167381e+05, -5.19981190e+05,\n",
       "       -4.97464209e+05, -4.75606638e+05, -4.54398679e+05, -4.33830532e+05,\n",
       "       -4.13892396e+05, -3.94574473e+05, -3.75866962e+05, -3.57760065e+05,\n",
       "       -3.40243981e+05, -3.23308911e+05, -3.06945056e+05, -2.91142616e+05,\n",
       "       -2.75891791e+05, -2.61182781e+05, -2.47005788e+05, -2.33351012e+05,\n",
       "       -2.20208652e+05, -2.07568910e+05, -1.95421985e+05, -1.83758079e+05,\n",
       "       -1.72567391e+05, -1.61840123e+05, -1.51566474e+05, -1.41736645e+05,\n",
       "       -1.32340836e+05, -1.23369248e+05, -1.14812081e+05, -1.06659536e+05,\n",
       "       -9.89018126e+04, -9.15291117e+04, -8.45316338e+04, -7.78995790e+04,\n",
       "       -7.16231480e+04, -6.56925410e+04, -6.00979586e+04, -5.48296012e+04,\n",
       "       -4.98776690e+04, -4.52323627e+04, -4.08838826e+04, -3.68224290e+04,\n",
       "       -3.30382026e+04, -2.95214035e+04, -2.62622324e+04, -2.32508895e+04,\n",
       "       -2.04775754e+04, -1.79324904e+04, -1.56058349e+04, -1.34878094e+04,\n",
       "       -1.15686143e+04, -9.83845004e+03, -8.28751699e+03, -6.90601558e+03,\n",
       "       -5.68414624e+03, -4.61210939e+03, -3.68010544e+03, -2.87833482e+03,\n",
       "       -2.19699795e+03, -1.62629524e+03, -1.15642711e+03, -7.77593983e+02,\n",
       "       -4.79996280e+02, -2.53834417e+02, -8.93088150e+01,  2.33801079e+01,\n",
       "        9.40319321e+01,  1.32446238e+02,  1.48422607e+02,  1.51760620e+02,\n",
       "        1.52259857e+02,  1.55625748e+02,  1.56309128e+02,  1.59733185e+02,\n",
       "        1.60317413e+02,  1.63725204e+02,  1.64308914e+02,  1.67606522e+02,\n",
       "        1.68031601e+02,  1.68443344e+02,  1.71823029e+02,  1.72376266e+02,\n",
       "        1.75967361e+02,  1.79687988e+02,  1.80603836e+02,  1.84228775e+02,\n",
       "        1.88017136e+02,  1.91746521e+02,  1.92462250e+02,  1.95968292e+02,\n",
       "        1.96409866e+02,  1.99647491e+02,  1.99880402e+02,  2.00233078e+02,\n",
       "        2.00526566e+02,  2.03780121e+02,  2.04107361e+02,  2.04457535e+02,\n",
       "        2.07635712e+02,  2.08004608e+02,  2.08471497e+02,  2.11777298e+02,\n",
       "        2.12020966e+02,  2.12079865e+02,  2.12096848e+02,  2.12096848e+02,\n",
       "        2.12096848e+02,  2.12107407e+02,  2.12110641e+02,  2.12115799e+02,\n",
       "        2.12206146e+02,  2.12271347e+02,  2.12300903e+02,  2.12315125e+02,\n",
       "        2.12315125e+02,  2.12315125e+02,  2.12263535e+02,  2.12263535e+02,\n",
       "        2.12263535e+02,  2.12536972e+02,  2.15620361e+02,  2.15838181e+02,\n",
       "        2.16005646e+02,  2.16165131e+02,  2.16211609e+02,  2.16211609e+02,\n",
       "        2.16211609e+02,  2.16193832e+02,  2.16128769e+02,  2.16071564e+02,\n",
       "        2.15987762e+02,  2.15829926e+02,  2.15713425e+02,  2.15602951e+02,\n",
       "        2.15509018e+02,  2.12500702e+02,  2.12388748e+02,  2.12388748e+02,\n",
       "        2.12388748e+02,  2.12516998e+02,  2.12516998e+02,  2.12516998e+02,\n",
       "        2.12538956e+02,  2.12538956e+02,  2.15481140e+02,  2.15706268e+02,\n",
       "        2.16116409e+02,  2.19439636e+02,  2.19997192e+02,  2.23487473e+02,\n",
       "        2.24110718e+02,  2.27417206e+02,  2.27903671e+02,  2.28367096e+02,\n",
       "        2.31566513e+02,  2.32007462e+02,  2.35520981e+02,  2.36198227e+02,\n",
       "        2.39917496e+02,  2.43733521e+02,  2.44490417e+02,  2.48183121e+02,\n",
       "        2.51949615e+02,  2.55573761e+02,  2.56175812e+02,  2.59697418e+02,\n",
       "        2.60378967e+02,  2.63966553e+02,  2.67622101e+02,  2.68338898e+02,\n",
       "        2.71905029e+02,  2.75480408e+02,  2.75947601e+02,  2.76294586e+02,\n",
       "        2.79575348e+02,  2.79767639e+02,  2.79961334e+02,  2.79961334e+02,\n",
       "        2.79961334e+02,  2.79882080e+02,  2.79761780e+02,  2.79575684e+02,\n",
       "        2.76427490e+02,  2.76107330e+02,  2.75721527e+02,  2.72529877e+02,\n",
       "        2.72174988e+02,  2.71770264e+02,  2.68497467e+02,  2.68211975e+02,\n",
       "        2.67875671e+02,  2.67568024e+02,  2.64435699e+02,  2.64173309e+02,\n",
       "        2.63837555e+02,  2.63605988e+02,  2.60508789e+02,  2.60508789e+02,\n",
       "        2.60508789e+02,  2.63586670e+02,  2.64419208e+02,  2.63716461e+02,\n",
       "        2.63724487e+02,  2.63726715e+02,  2.63891418e+02,  2.64062622e+02,\n",
       "        2.64103821e+02,  2.64103821e+02,  2.64103821e+02,  2.64013428e+02,\n",
       "        2.63930328e+02,  2.63930328e+02,  2.63930328e+02,  2.64051697e+02,\n",
       "        2.64184174e+02,  2.64324463e+02,  2.64371429e+02,  2.64536438e+02,\n",
       "        2.67613007e+02,  2.67707947e+02,  2.67917267e+02,  2.68174713e+02,\n",
       "        2.68430237e+02,  2.71526672e+02,  2.71704254e+02,  2.71809814e+02,\n",
       "        2.72028809e+02,  2.72089081e+02,  2.72089081e+02,  2.72089081e+02,\n",
       "        2.72021454e+02,  2.72021454e+02,  2.72021454e+02,  2.72083679e+02,\n",
       "        2.72225189e+02,  2.72431244e+02,  2.75596863e+02,  2.75992035e+02,\n",
       "        2.76381165e+02,  2.79833405e+02,  2.80301514e+02,  2.83745087e+02,\n",
       "        2.84239777e+02,  2.86338182e+02,  2.89795750e+02,  2.92028198e+02,\n",
       "        2.92572266e+02,  2.95730438e+02,  2.96042908e+02,  2.96319214e+02,\n",
       "        2.99491974e+02,  2.99876465e+02,  3.00173126e+02,  3.00223267e+02,\n",
       "        3.00399017e+02,  3.00485260e+02,  3.00521210e+02,  3.00597290e+02,\n",
       "        3.03631348e+02,  3.04067200e+02,  3.04391571e+02,  3.07578613e+02,\n",
       "        3.07834320e+02,  3.08035217e+02,  3.08167938e+02,  3.08412628e+02,\n",
       "        3.11524139e+02,  3.11626892e+02,  3.11709534e+02,  3.11748322e+02,\n",
       "        3.11888062e+02,  3.11905884e+02,  3.11984650e+02,  3.11997803e+02,\n",
       "        3.12003204e+02,  3.12003204e+02,  3.12013153e+02,  3.12003204e+02,\n",
       "        3.12003204e+02,  3.12013153e+02,  3.12046265e+02,  3.12119293e+02,\n",
       "        3.12317017e+02,  3.12458984e+02,  3.15474335e+02,  3.15544830e+02,\n",
       "        3.15549957e+02,  3.15565125e+02,  3.15572845e+02,  3.15593353e+02,\n",
       "        3.15603851e+02,  3.15616516e+02,  3.15637146e+02,  3.15681274e+02,\n",
       "        3.15780548e+02,  3.15898346e+02,  3.15910583e+02,  3.15910583e+02,\n",
       "        3.15910583e+02,  3.15720947e+02,  3.12485535e+02,  3.12094543e+02,\n",
       "        3.11733337e+02,  3.08327972e+02,  3.07796844e+02,  3.04151093e+02,\n",
       "        3.00527679e+02,  2.99633575e+02,  2.95903473e+02,  2.92252686e+02,\n",
       "        2.91612183e+02,  2.88281311e+02,  2.88026367e+02,  2.87887360e+02,\n",
       "        2.87887360e+02,  2.87887360e+02,  2.87946198e+02,  2.87946411e+02,\n",
       "        2.87981445e+02,  2.88060547e+02,  2.88264130e+02,  2.91523743e+02])"
      ]
     },
     "execution_count": 244,
     "metadata": {},
     "output_type": "execute_result"
    }
   ],
   "source": [
    "point[0:500,0,0]"
   ]
  },
  {
   "cell_type": "code",
   "execution_count": null,
   "id": "33ae4424",
   "metadata": {},
   "outputs": [],
   "source": []
  }
 ],
 "metadata": {
  "kernelspec": {
   "display_name": "sleap_126",
   "language": "python",
   "name": "sleap_126"
  },
  "language_info": {
   "codemirror_mode": {
    "name": "ipython",
    "version": 3
   },
   "file_extension": ".py",
   "mimetype": "text/x-python",
   "name": "python",
   "nbconvert_exporter": "python",
   "pygments_lexer": "ipython3",
   "version": "3.7.12"
  }
 },
 "nbformat": 4,
 "nbformat_minor": 5
}
