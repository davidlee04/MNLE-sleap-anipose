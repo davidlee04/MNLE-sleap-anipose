{
 "cells": [
  {
   "cell_type": "code",
   "execution_count": 1,
   "id": "60226bd4",
   "metadata": {},
   "outputs": [
    {
     "name": "stdout",
     "output_type": "stream",
     "text": [
      "D:/AN_local/Rope-pull/CFL18/041123/predictions\n"
     ]
    }
   ],
   "source": [
    "input_path ='D:/AN_local/Rope-pull/CFL24/082523/predictions'\n",
    "# F:/Ropepull/20221122_Pilot_set/predictions\n",
    "print(input_path)"
   ]
  },
  {
   "cell_type": "code",
   "execution_count": 2,
   "id": "d1de9606",
   "metadata": {},
   "outputs": [],
   "source": [
    "# Get all .slp files\n",
    "input_file_pattern = r'.*\\.slp'"
   ]
  },
  {
   "cell_type": "code",
   "execution_count": 3,
   "id": "063119f5",
   "metadata": {},
   "outputs": [],
   "source": [
    "from utils import get_files"
   ]
  },
  {
   "cell_type": "code",
   "execution_count": 4,
   "id": "af4deb00",
   "metadata": {},
   "outputs": [
    {
     "name": "stdout",
     "output_type": "stream",
     "text": [
      "['D:/AN_local/Rope-pull/CFL18/041123/predictions\\\\CFL18_04112023_saline_1_15-39-03_cam1.mp4.230917_150322.predictions.slp', 'D:/AN_local/Rope-pull/CFL18/041123/predictions\\\\CFL18_04112023_saline_1_15-39-03_cam2.mp4.230918_144639.predictions.slp']\n"
     ]
    }
   ],
   "source": [
    "input_files = get_files(input_path, input_file_pattern)\n",
    "print(input_files)"
   ]
  },
  {
   "cell_type": "code",
   "execution_count": 5,
   "id": "54c33a55",
   "metadata": {},
   "outputs": [],
   "source": [
    "conversion_format = 'analysis'\n",
    "assert conversion_format in ['h5', 'slp', 'json', 'analysis'], f'Incorrect conversion format {format}'\n",
    "if conversion_format == 'analysis':\n",
    "    ext = '.analysis.h5'\n",
    "else:\n",
    "    ext = '.' + conversion_format"
   ]
  },
  {
   "cell_type": "code",
   "execution_count": 6,
   "id": "e50709cd",
   "metadata": {},
   "outputs": [],
   "source": [
    "from os.path import split, exists, join\n",
    "from os import mkdir"
   ]
  },
  {
   "cell_type": "code",
   "execution_count": 7,
   "id": "e88cef96",
   "metadata": {},
   "outputs": [],
   "source": [
    "out_path = input_path +'_h5'\n",
    "# if save location does not exist, create it\n",
    "if not exists(out_path):\n",
    "    mkdir(out_path)"
   ]
  },
  {
   "cell_type": "code",
   "execution_count": 8,
   "id": "f7e5ec25",
   "metadata": {},
   "outputs": [],
   "source": [
    "from utils import extract_prefix, extract_match\n",
    "from io_sleap import convert\n",
    "from IPython.utils import io"
   ]
  },
  {
   "cell_type": "code",
   "execution_count": 10,
   "id": "c09e2eab",
   "metadata": {},
   "outputs": [
    {
     "name": "stdout",
     "output_type": "stream",
     "text": [
      "Saving to D:/AN_local/Rope-pull/CFL18/041123/predictions_h5\\CFL18_04112023_saline_1_15-39-03_cam1_04112023.analysis.h5\n",
      "Saving to D:/AN_local/Rope-pull/CFL18/041123/predictions_h5\\CFL18_04112023_saline_1_15-39-03_cam2_04112023.analysis.h5\n"
     ]
    }
   ],
   "source": [
    "for in_filepath in input_files:\n",
    "    _, in_filename = split(in_filepath)\n",
    "    camID = extract_match(in_filename, pattern = r'.*cam\\d+')\n",
    "    temp_filename = in_filename.split('.')\n",
    "    temp_filename2 = temp_filename[0].split('_')\n",
    "    out_filename = camID + '_' + temp_filename2[1] + ext\n",
    "    out_filepath = join(out_path, out_filename)\n",
    "    print(f'Saving to {out_filepath}')\n",
    "    # Convert file\n",
    "    with io.capture_output() as captured: # Block unnecessary output from sleap.info.write_tracking_h5.write_occupancy_file\n",
    "        convert(in_filepath, out_filepath, format=conversion_format)"
   ]
  },
  {
   "cell_type": "code",
   "execution_count": null,
   "id": "d378a9d6",
   "metadata": {},
   "outputs": [],
   "source": []
  }
 ],
 "metadata": {
  "kernelspec": {
   "display_name": "sleap_126",
   "language": "python",
   "name": "sleap_126"
  },
  "language_info": {
   "codemirror_mode": {
    "name": "ipython",
    "version": 3
   },
   "file_extension": ".py",
   "mimetype": "text/x-python",
   "name": "python",
   "nbconvert_exporter": "python",
   "pygments_lexer": "ipython3",
   "version": "3.7.12"
  }
 },
 "nbformat": 4,
 "nbformat_minor": 5
}
